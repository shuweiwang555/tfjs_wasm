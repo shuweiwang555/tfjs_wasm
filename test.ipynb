{
 "cells": [
  {
   "cell_type": "code",
   "execution_count": 1,
   "metadata": {},
   "outputs": [],
   "source": [
    "from selenium import webdriver\n",
    "from selenium.webdriver.common.by import By\n",
    "from selenium.webdriver.support.ui import Select\n",
    "from selenium.common.exceptions import NoSuchElementException\n",
    "import numpy as np\n",
    "import matplotlib.pyplot as plt\n",
    "from tqdm import tqdm"
   ]
  },
  {
   "cell_type": "code",
   "execution_count": 51,
   "metadata": {},
   "outputs": [],
   "source": [
    "url = \"http://localhost:8000/\"\n",
    "option_table = {\"page_load_strategy\":[\"normal\",\"eager\",\"none\"]}\n",
    "default_option = [\"headless\", \"--enable-javascript\", \"--use-gl\"]\n",
    "\n",
    "def edge_test(n=10, backend=\"wasm\", arguments={\"page_load_strategy\":\"normal\"}, others=default_option):\n",
    "    option = webdriver.EdgeOptions()\n",
    "    option.page_load_strategy = arguments[\"page_load_strategy\"]\n",
    "    for other_options in others:\n",
    "        option.add_argument(other_options)\n",
    "    driver = webdriver.Edge(options = option)\n",
    "    driver.get(url)\n",
    "    data = driver.execute_script(f'return start(\"{backend}\", {n})')\n",
    "    driver.quit()\n",
    "    return data\n",
    "def chrome_test(n=10, backend=\"wasm\", arguments={\"page_load_strategy\":\"normal\"}, others=default_option):\n",
    "    option = webdriver.ChromeOptions()\n",
    "    option.page_load_strategy = arguments[\"page_load_strategy\"]\n",
    "    for other_options in others:\n",
    "        option.add_argument(other_options)\n",
    "    driver = webdriver.Chrome(options = option)\n",
    "    driver.get(url)\n",
    "    data = driver.execute_script(f'return start(\"{backend}\", {n})')\n",
    "    driver.quit()\n",
    "    return data\n",
    "def firefox_test(n=10, backend=\"wasm\", arguments={\"page_load_strategy\":\"normal\"}, others=default_option):\n",
    "    option = webdriver.FirefoxOptions()\n",
    "    option.page_load_strategy = arguments[\"page_load_strategy\"]\n",
    "    for other_options in others:\n",
    "        option.add_argument(other_options)\n",
    "    driver = webdriver.Firefox(options = option)\n",
    "    driver.get(url)\n",
    "    data = driver.execute_script(f'return start(\"{backend}\", {n})')\n",
    "    driver.quit()\n",
    "    return data"
   ]
  },
  {
   "cell_type": "code",
   "execution_count": 52,
   "metadata": {},
   "outputs": [
    {
     "name": "stderr",
     "output_type": "stream",
     "text": [
      "edge test with normal mode:   0%|          | 0/10 [00:00<?, ?it/s]Exception ignored in: <function Service.__del__ at 0x0000021CFD261940>\n",
      "Traceback (most recent call last):\n",
      "  File \"C:\\Users\\woody\\AppData\\Local\\Packages\\PythonSoftwareFoundation.Python.3.9_qbz5n2kfra8p0\\LocalCache\\local-packages\\Python39\\site-packages\\selenium\\webdriver\\common\\service.py\", line 183, in __del__\n",
      "    self.stop()\n",
      "  File \"C:\\Users\\woody\\AppData\\Local\\Packages\\PythonSoftwareFoundation.Python.3.9_qbz5n2kfra8p0\\LocalCache\\local-packages\\Python39\\site-packages\\selenium\\webdriver\\common\\service.py\", line 149, in stop\n",
      "    self.send_remote_shutdown_command()\n",
      "  File \"C:\\Users\\woody\\AppData\\Local\\Packages\\PythonSoftwareFoundation.Python.3.9_qbz5n2kfra8p0\\LocalCache\\local-packages\\Python39\\site-packages\\selenium\\webdriver\\common\\service.py\", line 128, in send_remote_shutdown_command\n",
      "    request.urlopen(f\"{self.service_url}/shutdown\")\n",
      "  File \"C:\\Program Files\\WindowsApps\\PythonSoftwareFoundation.Python.3.9_3.9.3568.0_x64__qbz5n2kfra8p0\\lib\\urllib\\request.py\", line 214, in urlopen\n",
      "    return opener.open(url, data, timeout)\n",
      "  File \"C:\\Program Files\\WindowsApps\\PythonSoftwareFoundation.Python.3.9_3.9.3568.0_x64__qbz5n2kfra8p0\\lib\\urllib\\request.py\", line 517, in open\n",
      "    response = self._open(req, data)\n",
      "  File \"C:\\Program Files\\WindowsApps\\PythonSoftwareFoundation.Python.3.9_3.9.3568.0_x64__qbz5n2kfra8p0\\lib\\urllib\\request.py\", line 534, in _open\n",
      "    result = self._call_chain(self.handle_open, protocol, protocol +\n",
      "  File \"C:\\Program Files\\WindowsApps\\PythonSoftwareFoundation.Python.3.9_3.9.3568.0_x64__qbz5n2kfra8p0\\lib\\urllib\\request.py\", line 494, in _call_chain\n",
      "    result = func(*args)\n",
      "  File \"C:\\Program Files\\WindowsApps\\PythonSoftwareFoundation.Python.3.9_3.9.3568.0_x64__qbz5n2kfra8p0\\lib\\urllib\\request.py\", line 1375, in http_open\n",
      "    return self.do_open(http.client.HTTPConnection, req)\n",
      "  File \"C:\\Program Files\\WindowsApps\\PythonSoftwareFoundation.Python.3.9_3.9.3568.0_x64__qbz5n2kfra8p0\\lib\\urllib\\request.py\", line 1346, in do_open\n",
      "    h.request(req.get_method(), req.selector, req.data, headers,\n",
      "  File \"C:\\Program Files\\WindowsApps\\PythonSoftwareFoundation.Python.3.9_3.9.3568.0_x64__qbz5n2kfra8p0\\lib\\http\\client.py\", line 1285, in request\n",
      "    self._send_request(method, url, body, headers, encode_chunked)\n",
      "  File \"C:\\Program Files\\WindowsApps\\PythonSoftwareFoundation.Python.3.9_3.9.3568.0_x64__qbz5n2kfra8p0\\lib\\http\\client.py\", line 1331, in _send_request\n",
      "    self.endheaders(body, encode_chunked=encode_chunked)\n",
      "  File \"C:\\Program Files\\WindowsApps\\PythonSoftwareFoundation.Python.3.9_3.9.3568.0_x64__qbz5n2kfra8p0\\lib\\http\\client.py\", line 1280, in endheaders\n",
      "    self._send_output(message_body, encode_chunked=encode_chunked)\n",
      "  File \"C:\\Program Files\\WindowsApps\\PythonSoftwareFoundation.Python.3.9_3.9.3568.0_x64__qbz5n2kfra8p0\\lib\\http\\client.py\", line 1040, in _send_output\n",
      "    self.send(msg)\n",
      "  File \"C:\\Program Files\\WindowsApps\\PythonSoftwareFoundation.Python.3.9_3.9.3568.0_x64__qbz5n2kfra8p0\\lib\\http\\client.py\", line 980, in send\n",
      "    self.connect()\n",
      "  File \"C:\\Program Files\\WindowsApps\\PythonSoftwareFoundation.Python.3.9_3.9.3568.0_x64__qbz5n2kfra8p0\\lib\\http\\client.py\", line 946, in connect\n",
      "    self.sock = self._create_connection(\n",
      "  File \"C:\\Program Files\\WindowsApps\\PythonSoftwareFoundation.Python.3.9_3.9.3568.0_x64__qbz5n2kfra8p0\\lib\\socket.py\", line 832, in create_connection\n",
      "    sock.connect(sa)\n",
      "KeyboardInterrupt: \n",
      "edge test with normal mode:   0%|          | 0/10 [00:08<?, ?it/s]\n"
     ]
    },
    {
     "ename": "TypeError",
     "evalue": "'NoneType' object is not iterable",
     "output_type": "error",
     "traceback": [
      "\u001b[1;31m---------------------------------------------------------------------------\u001b[0m",
      "\u001b[1;31mTypeError\u001b[0m                                 Traceback (most recent call last)",
      "\u001b[1;32m<ipython-input-52-fd9b679b8cd0>\u001b[0m in \u001b[0;36m<module>\u001b[1;34m\u001b[0m\n\u001b[0;32m      8\u001b[0m         \u001b[1;32mif\u001b[0m \u001b[0mmode\u001b[0m \u001b[1;32mnot\u001b[0m \u001b[1;32min\u001b[0m \u001b[0medge_data\u001b[0m\u001b[1;33m:\u001b[0m\u001b[1;33m\u001b[0m\u001b[1;33m\u001b[0m\u001b[0m\n\u001b[0;32m      9\u001b[0m             \u001b[0medge_data\u001b[0m\u001b[1;33m[\u001b[0m\u001b[0mmode\u001b[0m\u001b[1;33m]\u001b[0m \u001b[1;33m=\u001b[0m \u001b[1;33m[\u001b[0m\u001b[1;33m]\u001b[0m\u001b[1;33m\u001b[0m\u001b[1;33m\u001b[0m\u001b[0m\n\u001b[1;32m---> 10\u001b[1;33m         \u001b[0medge_data\u001b[0m\u001b[1;33m[\u001b[0m\u001b[0mmode\u001b[0m\u001b[1;33m]\u001b[0m \u001b[1;33m+=\u001b[0m \u001b[0mresult\u001b[0m\u001b[1;33m\u001b[0m\u001b[1;33m\u001b[0m\u001b[0m\n\u001b[0m",
      "\u001b[1;31mTypeError\u001b[0m: 'NoneType' object is not iterable"
     ]
    }
   ],
   "source": [
    "edge_data = {}\n",
    "for mode in optiontable[\"page_load_strategy\"]:\n",
    "    for i in tqdm(range(10), f\"edge test with {mode} mode\"):\n",
    "        try:\n",
    "            result = edge_test(arguments={\"page_load_strategy\":mode})\n",
    "        except:\n",
    "            break\n",
    "        if mode not in edge_data:\n",
    "            edge_data[mode] = []\n",
    "        edge_data[mode] += result"
   ]
  },
  {
   "cell_type": "code",
   "execution_count": 42,
   "metadata": {},
   "outputs": [
    {
     "name": "stderr",
     "output_type": "stream",
     "text": [
      "chrome test with normal mode: 100%|██████████| 10/10 [01:37<00:00,  9.78s/it]\n",
      "chrome test with eager mode: 100%|██████████| 10/10 [01:36<00:00,  9.60s/it]\n",
      "chrome test with none mode:   0%|          | 0/10 [00:03<?, ?it/s]\n"
     ]
    }
   ],
   "source": [
    "chrome_data = {}\n",
    "for mode in optiontable[\"page_load_strategy\"]:\n",
    "    for i in tqdm(range(10), f\"chrome test with {mode} mode\"):\n",
    "        try:\n",
    "            result = chrome_test(arguments={\"page_load_strategy\":mode})\n",
    "        except:\n",
    "            break\n",
    "        if mode not in chrome_data:\n",
    "            chrome_data[mode] = []\n",
    "        chrome_data[mode] += result"
   ]
  },
  {
   "cell_type": "code",
   "execution_count": 43,
   "metadata": {},
   "outputs": [
    {
     "name": "stderr",
     "output_type": "stream",
     "text": [
      "chrome test with lowend_normal mode: 100%|██████████| 10/10 [01:35<00:00,  9.55s/it]\n",
      "chrome test with lowend_eager mode: 100%|██████████| 10/10 [01:34<00:00,  9.50s/it]\n",
      "chrome test with lowend_none mode:   0%|          | 0/10 [00:03<?, ?it/s]\n"
     ]
    }
   ],
   "source": [
    "for mode in optiontable[\"page_load_strategy\"]:\n",
    "    for i in tqdm(range(10), f\"chrome test with lowend_{mode} mode\"):\n",
    "        try:\n",
    "            result = chrome_test(arguments={\"page_load_strategy\":mode, \"others\":[\"--enable-low-end-device-mode\"]})\n",
    "        except:\n",
    "            break\n",
    "        if f\"lowend_{mode}\" not in chrome_data:\n",
    "            chrome_data[f\"lowend_{mode}\"] = []\n",
    "        chrome_data[f\"lowend_{mode}\"] += result\n"
   ]
  },
  {
   "cell_type": "code",
   "execution_count": 44,
   "metadata": {},
   "outputs": [
    {
     "name": "stderr",
     "output_type": "stream",
     "text": [
      "firefox test with normal mode: 100%|██████████| 10/10 [02:12<00:00, 13.21s/it]\n",
      "firefox test with eager mode: 100%|██████████| 10/10 [02:36<00:00, 15.60s/it]\n",
      "firefox test with none mode:   0%|          | 0/10 [00:05<?, ?it/s]\n"
     ]
    }
   ],
   "source": [
    "firefox_data = {}\n",
    "for mode in optiontable[\"page_load_strategy\"]:\n",
    "    for i in tqdm(range(10), f\"firefox test with {mode} mode\"):\n",
    "        try:\n",
    "            result = firefox_test(arguments={\"page_load_strategy\":mode})\n",
    "        except:\n",
    "            break\n",
    "        if mode not in firefox_data:\n",
    "            firefox_data[mode] = []\n",
    "        firefox_data[mode] += result"
   ]
  },
  {
   "cell_type": "code",
   "execution_count": 45,
   "metadata": {},
   "outputs": [
    {
     "data": {
      "text/plain": [
       "<matplotlib.legend.Legend at 0x21d118a3c40>"
      ]
     },
     "execution_count": 45,
     "metadata": {},
     "output_type": "execute_result"
    },
    {
     "data": {
      "image/png": "[encoded data removed]",
      "text/plain": [
       "<Figure size 432x288 with 1 Axes>"
      ]
     },
     "metadata": {
      "needs_background": "light"
     },
     "output_type": "display_data"
    }
   ],
   "source": [
    "plt.scatter(range(len(edge_data[\"normal\"])), edge_data[\"normal\"], s=15, label=\"edge_norm\")\n",
    "plt.scatter(range(len(edge_data[\"eager\"])), edge_data[\"eager\"], s=15, label=\"edge_eager\")\n",
    "plt.scatter(range(len(chrome_data[\"normal\"])), chrome_data[\"normal\"], s=15, label=\"chrome_norm\")\n",
    "plt.scatter(range(len(chrome_data[\"eager\"])), chrome_data[\"eager\"], s=15, label=\"chrome_eager\")\n",
    "plt.scatter(range(len(firefox_data[\"normal\"])), firefox_data[\"normal\"], s=15, label=\"firefox_norm\")\n",
    "plt.scatter(range(len(firefox_data[\"eager\"])), firefox_data[\"eager\"], s=15, label=\"firefox_eager\")\n",
    "plt.legend()"
   ]
  },
  {
   "cell_type": "code",
   "execution_count": 46,
   "metadata": {},
   "outputs": [
    {
     "data": {
      "text/plain": [
       "<matplotlib.legend.Legend at 0x21d113d4520>"
      ]
     },
     "execution_count": 46,
     "metadata": {},
     "output_type": "execute_result"
    },
    {
     "data": {
      "image/png": "[encoded data removed]",
      "text/plain": [
       "<Figure size 432x288 with 1 Axes>"
      ]
     },
     "metadata": {
      "needs_background": "light"
     },
     "output_type": "display_data"
    }
   ],
   "source": [
    "plt.hist(edge_data[\"normal\"], alpha=.5, bins=10, color=(0.1, 0.2, 0.5), label=\"edge_norm\")\n",
    "# plt.hist(edge_data[\"eager\"], alpha=.5, bins=10, color=(0.1, 0.2, 0.5), label=\"edge_eager\")\n",
    "plt.hist(chrome_data[\"normal\"], alpha=.5, bins=10, color=(0.1, 0.5, 0.2), label=\"chrome_norm\")\n",
    "# plt.hist(chrome_data[\"eager\"], alpha=.5, bins=10, color=(0.1, 0.5, 0.2), label=\"chrome_eager\")\n",
    "plt.hist(firefox_data[\"normal\"], alpha=.5, bins=10, color=(0.6, 0.1, 0.1), label=\"firefox_norm\")\n",
    "# plt.hist(firefox_data[\"eager\"], alpha=.5, bins=10, color=(0.5, 0.2, 0.1), label=\"firefox_eager\")\n",
    "plt.axvline(sum(edge_data[\"normal\"])/len(edge_data[\"normal\"]), c=(0.1, 0.2, 0.5), label=\"edge_norm_average\")\n",
    "# plt.axvline(sum(edge_data[\"eager\"])/len(edge_data[\"eager\"]), c=(0.1, 0.2, 0.5), label=\"edge_eager_average\")\n",
    "plt.axvline(sum(chrome_data[\"normal\"])/len(chrome_data[\"normal\"]), c=(0.1, 0.5, 0.2), label=\"chrome_norm_average\")\n",
    "# plt.axvline(sum(chrome_data[\"eager\"])/len(chrome_data[\"eager\"]), c=\"orange\", label=\"chrome_eager_average\")\n",
    "plt.axvline(sum(firefox_data[\"normal\"])/len(firefox_data[\"normal\"]), c=(0.6, 0.1, 0.1), label=\"firefox_norm_average\")\n",
    "# plt.axvline(sum(firefox_data[\"eager\"])/len(firefox_data[\"eager\"]), c=\"g\", label=\"firefox_eager_average\")\n",
    "plt.legend()"
   ]
  },
  {
   "cell_type": "code",
   "execution_count": 47,
   "metadata": {},
   "outputs": [
    {
     "data": {
      "text/plain": [
       "<matplotlib.legend.Legend at 0x21d10ab04f0>"
      ]
     },
     "execution_count": 47,
     "metadata": {},
     "output_type": "execute_result"
    },
    {
     "data": {
      "image/png": "[encoded data removed]",
      "text/plain": [
       "<Figure size 432x288 with 1 Axes>"
      ]
     },
     "metadata": {
      "needs_background": "light"
     },
     "output_type": "display_data"
    }
   ],
   "source": [
    "# plt.hist(edge_data[\"normal\"], alpha=.5, bins=10, color=(0.1, 0.2, 0.5), label=\"edge_norm\")\n",
    "plt.hist(edge_data[\"eager\"], alpha=.5, bins=10, color=(0.1, 0.2, 0.5), label=\"edge_eager\")\n",
    "# plt.hist(chrome_data[\"normal\"], alpha=.5, bins=10, color=(0.1, 0.5, 0.2), label=\"chrome_norm\")\n",
    "plt.hist(chrome_data[\"eager\"], alpha=.5, bins=10, color=(0.1, 0.5, 0.2), label=\"chrome_eager\")\n",
    "# plt.hist(firefox_data[\"normal\"], alpha=.5, bins=10, color=(0.6, 0.1, 0.1), label=\"firefox_norm\")\n",
    "plt.hist(firefox_data[\"eager\"], alpha=.5, bins=10, color=(0.6, 0.1, 0.1), label=\"firefox_eager\")\n",
    "# plt.axvline(sum(edge_data[\"normal\"])/len(edge_data[\"normal\"]), c=(0.1, 0.2, 0.5), label=\"edge_norm_average\")\n",
    "plt.axvline(sum(edge_data[\"eager\"])/len(edge_data[\"eager\"]), c=(0.1, 0.2, 0.5), label=\"edge_eager_average\")\n",
    "# plt.axvline(sum(chrome_data[\"normal\"])/len(chrome_data[\"normal\"]), c=(0.1, 0.5, 0.2), label=\"chrome_norm_average\")\n",
    "plt.axvline(sum(chrome_data[\"eager\"])/len(chrome_data[\"eager\"]), c=(0.1, 0.5, 0.2), label=\"chrome_eager_average\")\n",
    "# plt.axvline(sum(firefox_data[\"normal\"])/len(firefox_data[\"normal\"]), c=(0.6, 0.1, 0.1), label=\"firefox_norm_average\")\n",
    "plt.axvline(sum(firefox_data[\"eager\"])/len(firefox_data[\"eager\"]), c=(0.6, 0.1, 0.1), label=\"firefox_eager_average\")\n",
    "plt.legend()"
   ]
  },
  {
   "cell_type": "code",
   "execution_count": 48,
   "metadata": {},
   "outputs": [
    {
     "data": {
      "text/plain": [
       "<matplotlib.legend.Legend at 0x21d10e8bd90>"
      ]
     },
     "execution_count": 48,
     "metadata": {},
     "output_type": "execute_result"
    },
    {
     "data": {
      "image/png": "[encoded data removed]",
      "text/plain": [
       "<Figure size 432x288 with 1 Axes>"
      ]
     },
     "metadata": {
      "needs_background": "light"
     },
     "output_type": "display_data"
    }
   ],
   "source": [
    "plt.hist(edge_data[\"normal\"]+chrome_data[\"normal\"]+firefox_data[\"normal\"], alpha=.5, bins=10, label=\"normal\")\n",
    "plt.hist(edge_data[\"eager\"]+chrome_data[\"eager\"]+firefox_data[\"eager\"], alpha=.5, bins=10, label=\"eager\")\n",
    "plt.axvline(sum(edge_data[\"normal\"]+chrome_data[\"normal\"]+firefox_data[\"normal\"])/\n",
    "            len(edge_data[\"normal\"]+chrome_data[\"normal\"]+firefox_data[\"normal\"]), c='b', label=\"normal_average\")\n",
    "plt.axvline(sum(edge_data[\"eager\"]+chrome_data[\"eager\"]+firefox_data[\"eager\"])/\n",
    "            len(edge_data[\"eager\"]+chrome_data[\"eager\"]+firefox_data[\"eager\"]), c='orange', label=\"eager_average\")\n",
    "plt.legend()"
   ]
  },
  {
   "cell_type": "code",
   "execution_count": 49,
   "metadata": {},
   "outputs": [
    {
     "data": {
      "text/plain": [
       "<matplotlib.legend.Legend at 0x21d11276310>"
      ]
     },
     "execution_count": 49,
     "metadata": {},
     "output_type": "execute_result"
    },
    {
     "data": {
      "image/png": "[encoded data removed]",
      "text/plain": [
       "<Figure size 432x288 with 1 Axes>"
      ]
     },
     "metadata": {
      "needs_background": "light"
     },
     "output_type": "display_data"
    }
   ],
   "source": [
    "plt.hist(chrome_data[\"normal\"], alpha=.5, bins=10, label=\"normal\")\n",
    "plt.hist(chrome_data[\"lowend_normal\"], alpha=.5, bins=10, label=\"lowend_normal\")\n",
    "# plt.hist(chrome_data[\"eager\"], alpha=.5, bins=10, label=\"eager\")\n",
    "# plt.hist(edge_data[\"eager\"]+chrome_data[\"eager\"]+firefox_data[\"eager\"], alpha=.5, bins=10, label=\"eager\")\n",
    "plt.axvline(sum(chrome_data[\"normal\"])/len(chrome_data[\"normal\"]), c='b', label=\"normal_average\")\n",
    "plt.axvline(sum(chrome_data[\"lowend_normal\"])/len(chrome_data[\"lowend_normal\"]), c='b', label=\"lowend_normal_average\")\n",
    "plt.legend()"
   ]
  },
  {
   "cell_type": "code",
   "execution_count": null,
   "metadata": {},
   "outputs": [],
   "source": []
  }
 ],
 "metadata": {
  "kernelspec": {
   "display_name": "Python 3",
   "language": "python",
   "name": "python3"
  },
  "language_info": {
   "codemirror_mode": {
    "name": "ipython",
    "version": 3
   },
   "file_extension": ".py",
   "mimetype": "text/x-python",
   "name": "python",
   "nbconvert_exporter": "python",
   "pygments_lexer": "ipython3",
   "version": "3.9.13"
  },
  "orig_nbformat": 4,
  "vscode": {
   "interpreter": {
    "hash": "c73a920fb0836b52cecc044f51f19bce96e6dd4a5fccedecbdfe71ca4d21848a"
   }
  }
 },
 "nbformat": 4,
 "nbformat_minor": 2
}
