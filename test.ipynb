{
 "cells": [
  {
   "cell_type": "code",
   "execution_count": 1,
   "metadata": {},
   "outputs": [],
   "source": [
    "from selenium import webdriver\n",
    "from selenium.webdriver.common.by import By\n",
    "from selenium.webdriver.support.ui import Select\n",
    "from selenium.common.exceptions import NoSuchElementException\n",
    "import numpy as np\n",
    "import matplotlib.pyplot as plt\n",
    "from tqdm import tqdm"
   ]
  },
  {
   "cell_type": "code",
   "execution_count": 2,
   "metadata": {},
   "outputs": [],
   "source": [
    "url = \"http://localhost:8000/\"\n",
    "option_table = {\"page_load_strategy\":[\"normal\",\"eager\",\"none\"]}\n",
    "default_option = [\"headless\", \"--enable-javascript\", \"--use-gl\"]\n",
    "\n",
    "def edge_test(n=10, backend=\"wasm\", task=\"vision\", arguments={\"page_load_strategy\":\"normal\"}, others=default_option):\n",
    "    option = webdriver.EdgeOptions()\n",
    "    option.page_load_strategy = arguments[\"page_load_strategy\"]\n",
    "    for other_options in others:\n",
    "        option.add_argument(other_options)\n",
    "    driver = webdriver.Edge(options = option)\n",
    "    driver.set_page_load_timeout(3000000)\n",
    "    driver.set_script_timeout(3000000)\n",
    "    driver.get(url)\n",
    "    data = driver.execute_script(f'return start(\"{backend}\", {n}, \"{task}\")')\n",
    "    driver.quit()\n",
    "    return data\n",
    "def chrome_test(n=10, backend=\"wasm\", task=\"vision\", arguments={\"page_load_strategy\":\"normal\"}, others=default_option):\n",
    "    option = webdriver.ChromeOptions()\n",
    "    option.page_load_strategy = arguments[\"page_load_strategy\"]\n",
    "    for other_options in others:\n",
    "        option.add_argument(other_options)\n",
    "    driver = webdriver.Chrome(options = option)\n",
    "    driver.set_page_load_timeout(3000000)\n",
    "    driver.set_script_timeout(3000000)\n",
    "    driver.get(url)\n",
    "    data = driver.execute_script(f'return start(\"{backend}\", {n}, \"{task}\")')\n",
    "    driver.quit()\n",
    "    return data\n",
    "def firefox_test(n=10, backend=\"wasm\", task=\"vision\", arguments={\"page_load_strategy\":\"normal\"}, others=[\"-headless\"]):\n",
    "    option = webdriver.FirefoxOptions()\n",
    "    option.page_load_strategy = arguments[\"page_load_strategy\"]\n",
    "    for other_options in others:\n",
    "        option.add_argument(other_options)\n",
    "    driver = webdriver.Firefox(options = option)\n",
    "    driver.set_page_load_timeout(3000000)\n",
    "    driver.set_script_timeout(3000000)\n",
    "    driver.get(url)\n",
    "    data = driver.execute_script(f'return start(\"{backend}\", {n}, \"{task}\")')\n",
    "    driver.quit()\n",
    "    return data"
   ]
  },
  {
   "cell_type": "code",
   "execution_count": 3,
   "metadata": {},
   "outputs": [
    {
     "name": "stderr",
     "output_type": "stream",
     "text": [
      "edge test with normal mode: 100%|██████████| 10/10 [01:46<00:00, 10.61s/it]\n",
      "edge test with eager mode: 100%|██████████| 10/10 [01:42<00:00, 10.21s/it]\n",
      "edge test with none mode:   0%|          | 0/10 [00:03<?, ?it/s]\n",
      "edge test with normal mode: 100%|██████████| 10/10 [05:00<00:00, 30.06s/it]\n",
      "edge test with eager mode: 100%|██████████| 10/10 [05:05<00:00, 30.50s/it]\n",
      "edge test with none mode:   0%|          | 0/10 [00:03<?, ?it/s]\n"
     ]
    }
   ],
   "source": [
    "edge_data_vision = {}\n",
    "for backend in [\"wasm\", \"cpu\"]:\n",
    "    for mode in option_table[\"page_load_strategy\"]:\n",
    "        for i in tqdm(range(10), f\"edge test with {mode} mode\"):\n",
    "            try:\n",
    "                result = edge_test(backend = backend, arguments={\"page_load_strategy\":mode})\n",
    "            except:\n",
    "                break\n",
    "            if backend+\"_\"+mode not in edge_data_vision:\n",
    "                edge_data_vision[backend+\"_\"+mode] = []\n",
    "            edge_data_vision[backend+\"_\"+mode] += result"
   ]
  },
  {
   "cell_type": "code",
   "execution_count": 4,
   "metadata": {},
   "outputs": [
    {
     "name": "stderr",
     "output_type": "stream",
     "text": [
      "chrome test with normal mode: 100%|██████████| 10/10 [01:42<00:00, 10.26s/it]\n",
      "chrome test with eager mode: 100%|██████████| 10/10 [01:42<00:00, 10.25s/it]\n",
      "chrome test with none mode:   0%|          | 0/10 [00:03<?, ?it/s]\n",
      "chrome test with normal mode: 100%|██████████| 10/10 [04:44<00:00, 28.42s/it]\n",
      "chrome test with eager mode: 100%|██████████| 10/10 [04:43<00:00, 28.37s/it]\n",
      "chrome test with none mode:   0%|          | 0/10 [00:03<?, ?it/s]\n"
     ]
    }
   ],
   "source": [
    "chrome_data_vision = {}\n",
    "for backend in [\"wasm\", \"cpu\"]:\n",
    "    for mode in option_table[\"page_load_strategy\"]:\n",
    "        for i in tqdm(range(10), f\"chrome test with {mode} mode\"):\n",
    "            try:\n",
    "                result = chrome_test(backend = backend, arguments={\"page_load_strategy\":mode})\n",
    "            except:\n",
    "                break\n",
    "            if backend+\"_\"+mode not in chrome_data_vision:\n",
    "                chrome_data_vision[backend+\"_\"+mode] = []\n",
    "            chrome_data_vision[backend+\"_\"+mode] += result"
   ]
  },
  {
   "cell_type": "code",
   "execution_count": 5,
   "metadata": {},
   "outputs": [],
   "source": [
    "# for mode in option_table[\"page_load_strategy\"]:\n",
    "#     for i in tqdm(range(10), f\"chrome test with lowend_{mode} mode\"):\n",
    "#         try:\n",
    "#             result = chrome_test(arguments={\"page_load_strategy\":mode}, others=default_option+[\"--enable-low-end-device-mode\"])\n",
    "#         except:\n",
    "#             break\n",
    "#         if f\"lowend_{mode}\" not in chrome_data:\n",
    "#             chrome_data[f\"lowend_{mode}\"] = []\n",
    "#         chrome_data[f\"lowend_{mode}\"] += result\n"
   ]
  },
  {
   "cell_type": "code",
   "execution_count": 5,
   "metadata": {},
   "outputs": [
    {
     "name": "stderr",
     "output_type": "stream",
     "text": [
      "firefox test with normal mode: 100%|██████████| 10/10 [02:13<00:00, 13.35s/it]\n",
      "firefox test with eager mode: 100%|██████████| 10/10 [02:32<00:00, 15.21s/it]\n",
      "firefox test with none mode:   0%|          | 0/10 [00:04<?, ?it/s]\n",
      "firefox test with normal mode: 100%|██████████| 10/10 [06:02<00:00, 36.24s/it]\n",
      "firefox test with eager mode: 100%|██████████| 10/10 [05:44<00:00, 34.41s/it]\n",
      "firefox test with none mode:   0%|          | 0/10 [00:26<?, ?it/s]\n"
     ]
    }
   ],
   "source": [
    "firefox_data_vision = {}\n",
    "for backend in [\"wasm\", \"cpu\"]:\n",
    "    for mode in option_table[\"page_load_strategy\"]:\n",
    "        for i in tqdm(range(10), f\"firefox test with {mode} mode\"):\n",
    "            try:\n",
    "                result = firefox_test(backend = backend, arguments={\"page_load_strategy\":mode}, others=[\"-headless\"])\n",
    "            except:\n",
    "                break\n",
    "            if backend+\"_\"+mode not in firefox_data_vision:\n",
    "                firefox_data_vision[backend+\"_\"+mode] = []\n",
    "            firefox_data_vision[backend+\"_\"+mode] += result"
   ]
  },
  {
   "cell_type": "code",
   "execution_count": 6,
   "metadata": {},
   "outputs": [
    {
     "name": "stderr",
     "output_type": "stream",
     "text": [
      "edge test with normal mode: 100%|██████████| 10/10 [19:31<00:00, 117.13s/it]\n",
      "edge test with eager mode: 100%|██████████| 10/10 [19:27<00:00, 116.76s/it]\n",
      "edge test with none mode:   0%|          | 0/10 [00:03<?, ?it/s]\n",
      "edge test with normal mode: 100%|██████████| 10/10 [1:32:44<00:00, 556.44s/it]\n",
      "edge test with eager mode: 100%|██████████| 10/10 [1:30:51<00:00, 545.14s/it]\n",
      "edge test with none mode:   0%|          | 0/10 [00:03<?, ?it/s]\n"
     ]
    }
   ],
   "source": [
    "edge_data_nlp = {}\n",
    "for backend in [\"wasm\", \"cpu\"]:\n",
    "    for mode in option_table[\"page_load_strategy\"]:\n",
    "        for i in tqdm(range(10), f\"edge test with {mode} mode\"):\n",
    "            try:\n",
    "                result = edge_test(backend = backend, task=\"nlp\", arguments={\"page_load_strategy\":mode})\n",
    "            except:\n",
    "                break\n",
    "            if backend+\"_\"+mode not in edge_data_nlp:\n",
    "                edge_data_nlp[backend+\"_\"+mode] = []\n",
    "            edge_data_nlp[backend+\"_\"+mode] += result"
   ]
  },
  {
   "cell_type": "code",
   "execution_count": 7,
   "metadata": {},
   "outputs": [
    {
     "name": "stderr",
     "output_type": "stream",
     "text": [
      "chrome test with normal mode: 100%|██████████| 10/10 [19:24<00:00, 116.47s/it]\n",
      "chrome test with eager mode: 100%|██████████| 10/10 [19:22<00:00, 116.27s/it]\n",
      "chrome test with none mode:   0%|          | 0/10 [00:03<?, ?it/s]\n",
      "chrome test with normal mode: 100%|██████████| 10/10 [1:29:47<00:00, 538.72s/it]\n",
      "chrome test with eager mode: 100%|██████████| 10/10 [1:28:29<00:00, 530.91s/it]\n",
      "chrome test with none mode:   0%|          | 0/10 [00:03<?, ?it/s]\n"
     ]
    }
   ],
   "source": [
    "chrome_data_nlp = {}\n",
    "for backend in [\"wasm\", \"cpu\"]:\n",
    "    for mode in option_table[\"page_load_strategy\"]:\n",
    "        for i in tqdm(range(10), f\"chrome test with {mode} mode\"):\n",
    "            try:\n",
    "                result = chrome_test(backend = backend, task=\"nlp\", arguments={\"page_load_strategy\":mode})\n",
    "            except:\n",
    "                break\n",
    "            if backend+\"_\"+mode not in chrome_data_nlp:\n",
    "                chrome_data_nlp[backend+\"_\"+mode] = []\n",
    "            chrome_data_nlp[backend+\"_\"+mode] += result"
   ]
  },
  {
   "cell_type": "code",
   "execution_count": 8,
   "metadata": {},
   "outputs": [
    {
     "name": "stderr",
     "output_type": "stream",
     "text": [
      "firefox test with normal mode: 100%|██████████| 10/10 [21:10<00:00, 127.02s/it]\n",
      "firefox test with eager mode: 100%|██████████| 10/10 [21:24<00:00, 128.48s/it]\n",
      "firefox test with none mode:   0%|          | 0/10 [00:04<?, ?it/s]\n",
      "firefox test with normal mode: 100%|██████████| 10/10 [1:38:18<00:00, 589.81s/it]\n",
      "firefox test with eager mode: 100%|██████████| 10/10 [1:37:25<00:00, 584.55s/it]\n",
      "firefox test with none mode:   0%|          | 0/10 [00:27<?, ?it/s]\n"
     ]
    }
   ],
   "source": [
    "firefox_data_nlp = {}\n",
    "for backend in [\"wasm\", \"cpu\"]:\n",
    "    for mode in option_table[\"page_load_strategy\"]:\n",
    "        for i in tqdm(range(10), f\"firefox test with {mode} mode\"):\n",
    "            try:\n",
    "                result = firefox_test(backend = backend, task=\"nlp\", arguments={\"page_load_strategy\":mode}, others=[\"-headless\"])\n",
    "            except:\n",
    "                break\n",
    "            if backend+\"_\"+mode not in firefox_data_nlp:\n",
    "                firefox_data_nlp[backend+\"_\"+mode] = []\n",
    "            firefox_data_nlp[backend+\"_\"+mode] += result"
   ]
  },
  {
   "cell_type": "code",
   "execution_count": 9,
   "metadata": {},
   "outputs": [],
   "source": [
    "import pickle\n",
    "with open('test_result.pkl', 'wb') as file:\n",
    "    # A new file will be created\n",
    "    pickle.dump({\"edge_data_vision\":edge_data_vision,\n",
    "                 \"chrome_data_vision\":chrome_data_vision,\n",
    "                 \"firefox_data_vision\":firefox_data_vision,\n",
    "                 \"edge_data_nlp\":edge_data_nlp,\n",
    "                 \"chrome_data_nlp\":chrome_data_nlp,\n",
    "                 \"firefox_data_nlp\":firefox_data_nlp}, file)"
   ]
  },
  {
   "cell_type": "code",
   "execution_count": 11,
   "metadata": {},
   "outputs": [
    {
     "data": {
      "text/plain": [
       "<matplotlib.legend.Legend at 0x1868c6da6d0>"
      ]
     },
     "execution_count": 11,
     "metadata": {},
     "output_type": "execute_result"
    },
    {
     "data": {
      "image/png": "[encoded data removed]",
      "text/plain": [
       "<Figure size 432x288 with 1 Axes>"
      ]
     },
     "metadata": {
      "needs_background": "light"
     },
     "output_type": "display_data"
    }
   ],
   "source": [
    "plt.scatter(range(len(edge_data_vision[\"wasm_normal\"])), edge_data_vision[\"wasm_normal\"], s=15, label=\"edge_norm\")\n",
    "plt.scatter(range(len(edge_data_vision[\"wasm_eager\"])), edge_data_vision[\"wasm_eager\"], s=15, label=\"edge_eager\")\n",
    "plt.scatter(range(len(chrome_data_vision[\"wasm_normal\"])), chrome_data_vision[\"wasm_normal\"], s=15, label=\"chrome_norm\")\n",
    "plt.scatter(range(len(chrome_data_vision[\"wasm_eager\"])), chrome_data_vision[\"wasm_eager\"], s=15, label=\"chrome_eager\")\n",
    "plt.scatter(range(len(firefox_data_vision[\"wasm_normal\"])), firefox_data_vision[\"wasm_normal\"], s=15, label=\"firefox_norm\")\n",
    "plt.scatter(range(len(firefox_data_vision[\"wasm_eager\"])), firefox_data_vision[\"wasm_eager\"], s=15, label=\"firefox_eager\")\n",
    "plt.legend()"
   ]
  },
  {
   "cell_type": "code",
   "execution_count": 12,
   "metadata": {},
   "outputs": [
    {
     "data": {
      "text/plain": [
       "<matplotlib.legend.Legend at 0x1868d6d4e80>"
      ]
     },
     "execution_count": 12,
     "metadata": {},
     "output_type": "execute_result"
    },
    {
     "data": {
      "image/png": "[encoded data removed]",
      "text/plain": [
       "<Figure size 432x288 with 1 Axes>"
      ]
     },
     "metadata": {
      "needs_background": "light"
     },
     "output_type": "display_data"
    }
   ],
   "source": [
    "plt.hist(edge_data_vision[\"wasm_normal\"], alpha=.5, bins=10, color=(0.1, 0.2, 0.5), label=\"edge_norm\")\n",
    "# plt.hist(edge_data_vision[\"eager\"], alpha=.5, bins=10, color=(0.1, 0.2, 0.5), label=\"edge_eager\")\n",
    "plt.hist(chrome_data_vision[\"wasm_normal\"], alpha=.5, bins=10, color=(0.1, 0.5, 0.2), label=\"chrome_norm\")\n",
    "# plt.hist(chrome_data_vision[\"eager\"], alpha=.5, bins=10, color=(0.1, 0.5, 0.2), label=\"chrome_eager\")\n",
    "plt.hist(firefox_data_vision[\"wasm_normal\"], alpha=.5, bins=10, color=(0.6, 0.1, 0.1), label=\"firefox_norm\")\n",
    "# plt.hist(firefox_data_vision[\"eager\"], alpha=.5, bins=10, color=(0.5, 0.2, 0.1), label=\"firefox_eager\")\n",
    "plt.axvline(sum(edge_data_vision[\"wasm_normal\"])/len(edge_data_vision[\"wasm_normal\"]), c=(0.1, 0.2, 0.5), label=\"edge_norm_average\")\n",
    "# plt.axvline(sum(edge_data_vision[\"eager\"])/len(edge_data_vision[\"eager\"]), c=(0.1, 0.2, 0.5), label=\"edge_eager_average\")\n",
    "plt.axvline(sum(chrome_data_vision[\"wasm_normal\"])/len(chrome_data_vision[\"wasm_normal\"]), c=(0.1, 0.5, 0.2), label=\"chrome_norm_average\")\n",
    "# plt.axvline(sum(chrome_data_vision[\"eager\"])/len(chrome_data_vision[\"eager\"]), c=\"orange\", label=\"chrome_eager_average\")\n",
    "plt.axvline(sum(firefox_data_vision[\"wasm_normal\"])/len(firefox_data_vision[\"wasm_normal\"]), c=(0.6, 0.1, 0.1), label=\"firefox_norm_average\")\n",
    "# plt.axvline(sum(firefox_data_vision[\"eager\"])/len(firefox_data_vision[\"eager\"]), c=\"g\", label=\"firefox_eager_average\")\n",
    "plt.legend()"
   ]
  },
  {
   "cell_type": "code",
   "execution_count": 19,
   "metadata": {},
   "outputs": [
    {
     "data": {
      "text/plain": [
       "<matplotlib.legend.Legend at 0x1868e1bb790>"
      ]
     },
     "execution_count": 19,
     "metadata": {},
     "output_type": "execute_result"
    },
    {
     "data": {
      "image/png": "[encoded data removed]",
      "text/plain": [
       "<Figure size 432x288 with 1 Axes>"
      ]
     },
     "metadata": {
      "needs_background": "light"
     },
     "output_type": "display_data"
    }
   ],
   "source": [
    "plt.hist(edge_data_vision[\"cpu_normal\"], alpha=.5, bins=10, color=(0.1, 0.2, 0.5), label=\"edge_norm\")\n",
    "# plt.hist(edge_data_vision[\"eager\"], alpha=.5, bins=10, color=(0.1, 0.2, 0.5), label=\"edge_eager\")\n",
    "plt.hist(chrome_data_vision[\"cpu_normal\"], alpha=.5, bins=10, color=(0.1, 0.5, 0.2), label=\"chrome_norm\")\n",
    "# plt.hist(chrome_data_vision[\"eager\"], alpha=.5, bins=10, color=(0.1, 0.5, 0.2), label=\"chrome_eager\")\n",
    "plt.hist(firefox_data_vision[\"cpu_normal\"], alpha=.5, bins=10, color=(0.6, 0.1, 0.1), label=\"firefox_norm\")\n",
    "# plt.hist(firefox_data_vision[\"eager\"], alpha=.5, bins=10, color=(0.5, 0.2, 0.1), label=\"firefox_eager\")\n",
    "plt.axvline(sum(edge_data_vision[\"cpu_normal\"])/len(edge_data_vision[\"cpu_normal\"]), c=(0.1, 0.2, 0.5), label=\"edge_norm_average\")\n",
    "# plt.axvline(sum(edge_data_vision[\"eager\"])/len(edge_data_vision[\"eager\"]), c=(0.1, 0.2, 0.5), label=\"edge_eager_average\")\n",
    "plt.axvline(sum(chrome_data_vision[\"cpu_normal\"])/len(chrome_data_vision[\"cpu_normal\"]), c=(0.1, 0.5, 0.2), label=\"chrome_norm_average\")\n",
    "# plt.axvline(sum(chrome_data_vision[\"eager\"])/len(chrome_data_vision[\"eager\"]), c=\"orange\", label=\"chrome_eager_average\")\n",
    "plt.axvline(sum(firefox_data_vision[\"cpu_normal\"])/len(firefox_data_vision[\"cpu_normal\"]), c=(0.6, 0.1, 0.1), label=\"firefox_norm_average\")\n",
    "# plt.axvline(sum(firefox_data_vision[\"eager\"])/len(firefox_data_vision[\"eager\"]), c=\"g\", label=\"firefox_eager_average\")\n",
    "plt.legend()"
   ]
  },
  {
   "cell_type": "code",
   "execution_count": 214,
   "metadata": {},
   "outputs": [
    {
     "data": {
      "text/plain": [
       "<matplotlib.legend.Legend at 0x1869067ae50>"
      ]
     },
     "execution_count": 214,
     "metadata": {},
     "output_type": "execute_result"
    },
    {
     "data": {
      "image/png": "[encoded data removed]",
      "text/plain": [
       "<Figure size 576x360 with 1 Axes>"
      ]
     },
     "metadata": {
      "needs_background": "light"
     },
     "output_type": "display_data"
    }
   ],
   "source": [
    "plt.figure(figsize=(8,5))\n",
    "# plt.hist(edge_data_vision[\"normal\"], alpha=.5, bins=10, color=(0.1, 0.2, 0.5), label=\"edge_norm\")\n",
    "plt.hist(edge_data_vision[\"wasm_eager\"], alpha=.5, bins=10, color=(0.1, 0.2, 0.5), label=\"edge\")\n",
    "# plt.hist(chrome_data_vision[\"normal\"], alpha=.5, bins=10, color=(0.1, 0.5, 0.2), label=\"chrome_norm\")\n",
    "plt.hist(chrome_data_vision[\"wasm_eager\"], alpha=.5, bins=10, color=(0.1, 0.5, 0.2), label=\"chrome\")\n",
    "# plt.hist(firefox_data_vision[\"normal\"], alpha=.5, bins=10, color=(0.6, 0.1, 0.1), label=\"firefox_norm\")\n",
    "plt.hist(firefox_data_vision[\"wasm_eager\"], alpha=.5, bins=10, color=(0.6, 0.1, 0.1), label=\"firefox\")\n",
    "# plt.axvline(sum(edge_data_vision[\"normal\"])/len(edge_data_vision[\"normal\"]), c=(0.1, 0.2, 0.5), label=\"edge_norm_average\")\n",
    "plt.axvline(sum(edge_data_vision[\"wasm_eager\"])/len(edge_data_vision[\"wasm_eager\"]), c=(0.1, 0.2, 0.5), label=\"edge_average\")\n",
    "# plt.axvline(sum(chrome_data_vision[\"normal\"])/len(chrome_data_vision[\"normal\"]), c=(0.1, 0.5, 0.2), label=\"chrome_norm_average\")\n",
    "plt.axvline(sum(chrome_data_vision[\"wasm_eager\"])/len(chrome_data_vision[\"wasm_eager\"]), c=(0.1, 0.5, 0.2), label=\"chrome_average\")\n",
    "# plt.axvline(sum(firefox_data_vision[\"normal\"])/len(firefox_data_vision[\"normal\"]), c=(0.6, 0.1, 0.1), label=\"firefox_norm_average\")\n",
    "plt.axvline(sum(firefox_data_vision[\"wasm_eager\"])/len(firefox_data_vision[\"wasm_eager\"]), c=(0.6, 0.1, 0.1), label=\"firefox_average\")\n",
    "plt.title(\"Vision task with WASM\")\n",
    "plt.xlabel(\"Time (ms)\")\n",
    "plt.ylabel(\"# of tests\")\n",
    "plt.legend()"
   ]
  },
  {
   "cell_type": "code",
   "execution_count": 217,
   "metadata": {},
   "outputs": [
    {
     "data": {
      "text/plain": [
       "<matplotlib.legend.Legend at 0x18690ad7070>"
      ]
     },
     "execution_count": 217,
     "metadata": {},
     "output_type": "execute_result"
    },
    {
     "data": {
      "image/png": "[encoded data removed]",
      "text/plain": [
       "<Figure size 576x360 with 1 Axes>"
      ]
     },
     "metadata": {
      "needs_background": "light"
     },
     "output_type": "display_data"
    }
   ],
   "source": [
    "plt.figure(figsize=(8,5))\n",
    "# plt.hist(edge_data_vision[\"normal\"], alpha=.5, bins=10, color=(0.1, 0.2, 0.5), label=\"edge_norm\")\n",
    "plt.hist(edge_data_vision[\"cpu_eager\"], alpha=.5, bins=10, color=(0.1, 0.2, 0.5), label=\"edge\")\n",
    "# plt.hist(chrome_data_vision[\"normal\"], alpha=.5, bins=10, color=(0.1, 0.5, 0.2), label=\"chrome_norm\")\n",
    "plt.hist(chrome_data_vision[\"cpu_eager\"], alpha=.5, bins=10, color=(0.1, 0.5, 0.2), label=\"chrome\")\n",
    "# plt.hist(firefox_data_vision[\"normal\"], alpha=.5, bins=10, color=(0.6, 0.1, 0.1), label=\"firefox_norm\")\n",
    "plt.hist(firefox_data_vision[\"cpu_eager\"], alpha=.5, bins=10, color=(0.6, 0.1, 0.1), label=\"firefox\")\n",
    "# plt.axvline(sum(edge_data_vision[\"normal\"])/len(edge_data_vision[\"normal\"]), c=(0.1, 0.2, 0.5), label=\"edge_norm_average\")\n",
    "plt.axvline(sum(edge_data_vision[\"cpu_eager\"])/len(edge_data_vision[\"cpu_eager\"]), c=(0.1, 0.2, 0.5), label=\"edge_average\")\n",
    "# plt.axvline(sum(chrome_data_vision[\"normal\"])/len(chrome_data_vision[\"normal\"]), c=(0.1, 0.5, 0.2), label=\"chrome_average\")\n",
    "plt.axvline(sum(chrome_data_vision[\"cpu_eager\"])/len(chrome_data_vision[\"cpu_eager\"]), c=(0.1, 0.5, 0.2), label=\"chrome_average\")\n",
    "# plt.axvline(sum(firefox_data_vision[\"normal\"])/len(firefox_data_vision[\"normal\"]), c=(0.6, 0.1, 0.1), label=\"firefox_average\")\n",
    "plt.axvline(sum(firefox_data_vision[\"cpu_eager\"])/len(firefox_data_vision[\"cpu_eager\"]), c=(0.6, 0.1, 0.1), label=\"firefox_average\")\n",
    "plt.title(\"Vision task with no WASM\")\n",
    "plt.xlabel(\"Time (ms)\")\n",
    "plt.ylabel(\"# of tests\")\n",
    "plt.legend()"
   ]
  },
  {
   "cell_type": "code",
   "execution_count": 14,
   "metadata": {},
   "outputs": [
    {
     "data": {
      "text/plain": [
       "<matplotlib.legend.Legend at 0x1868dc77fd0>"
      ]
     },
     "execution_count": 14,
     "metadata": {},
     "output_type": "execute_result"
    },
    {
     "data": {
      "image/png": "[encoded data removed]",
      "text/plain": [
       "<Figure size 432x288 with 1 Axes>"
      ]
     },
     "metadata": {
      "needs_background": "light"
     },
     "output_type": "display_data"
    }
   ],
   "source": [
    "plt.hist(edge_data_vision[\"wasm_normal\"]+chrome_data_vision[\"wasm_normal\"]+firefox_data_vision[\"wasm_normal\"], alpha=.5, bins=10, label=\"normal\")\n",
    "plt.hist(edge_data_vision[\"wasm_eager\"]+chrome_data_vision[\"wasm_eager\"]+firefox_data_vision[\"wasm_eager\"], alpha=.5, bins=10, label=\"eager\")\n",
    "plt.axvline(sum(edge_data_vision[\"wasm_normal\"]+chrome_data_vision[\"wasm_normal\"]+firefox_data_vision[\"wasm_normal\"])/\n",
    "            len(edge_data_vision[\"wasm_normal\"]+chrome_data_vision[\"wasm_normal\"]+firefox_data_vision[\"wasm_normal\"]), c='b', label=\"normal_average\")\n",
    "plt.axvline(sum(edge_data_vision[\"wasm_eager\"]+chrome_data_vision[\"wasm_eager\"]+firefox_data_vision[\"wasm_eager\"])/\n",
    "            len(edge_data_vision[\"wasm_eager\"]+chrome_data_vision[\"wasm_eager\"]+firefox_data_vision[\"wasm_eager\"]), c='orange', label=\"eager_average\")\n",
    "plt.legend()"
   ]
  },
  {
   "cell_type": "code",
   "execution_count": 21,
   "metadata": {},
   "outputs": [
    {
     "data": {
      "text/plain": [
       "<matplotlib.legend.Legend at 0x1868e72ad60>"
      ]
     },
     "execution_count": 21,
     "metadata": {},
     "output_type": "execute_result"
    },
    {
     "data": {
      "image/png": "[encoded data removed]",
      "text/plain": [
       "<Figure size 432x288 with 1 Axes>"
      ]
     },
     "metadata": {
      "needs_background": "light"
     },
     "output_type": "display_data"
    }
   ],
   "source": [
    "plt.hist(edge_data_vision[\"cpu_normal\"]+chrome_data_vision[\"cpu_normal\"]+firefox_data_vision[\"cpu_normal\"], alpha=.5, bins=10, label=\"normal\")\n",
    "plt.hist(edge_data_vision[\"cpu_eager\"]+chrome_data_vision[\"cpu_eager\"]+firefox_data_vision[\"cpu_eager\"], alpha=.5, bins=10, label=\"eager\")\n",
    "plt.axvline(sum(edge_data_vision[\"cpu_normal\"]+chrome_data_vision[\"cpu_normal\"]+firefox_data_vision[\"cpu_normal\"])/\n",
    "            len(edge_data_vision[\"cpu_normal\"]+chrome_data_vision[\"cpu_normal\"]+firefox_data_vision[\"cpu_normal\"]), c='b', label=\"normal_average\")\n",
    "plt.axvline(sum(edge_data_vision[\"cpu_eager\"]+chrome_data_vision[\"cpu_eager\"]+firefox_data_vision[\"cpu_eager\"])/\n",
    "            len(edge_data_vision[\"cpu_eager\"]+chrome_data_vision[\"cpu_eager\"]+firefox_data_vision[\"cpu_eager\"]), c='orange', label=\"eager_average\")\n",
    "plt.legend()"
   ]
  },
  {
   "cell_type": "code",
   "execution_count": 15,
   "metadata": {},
   "outputs": [
    {
     "data": {
      "text/plain": [
       "<matplotlib.legend.Legend at 0x1868dcde0d0>"
      ]
     },
     "execution_count": 15,
     "metadata": {},
     "output_type": "execute_result"
    },
    {
     "data": {
      "image/png": "[encoded data removed]",
      "text/plain": [
       "<Figure size 432x288 with 1 Axes>"
      ]
     },
     "metadata": {
      "needs_background": "light"
     },
     "output_type": "display_data"
    }
   ],
   "source": [
    "plt.scatter(range(len(edge_data_nlp[\"wasm_normal\"])), edge_data_nlp[\"wasm_normal\"], s=15, label=\"edge_norm\")\n",
    "plt.scatter(range(len(edge_data_nlp[\"wasm_eager\"])), edge_data_nlp[\"wasm_eager\"], s=15, label=\"edge_eager\")\n",
    "plt.scatter(range(len(chrome_data_nlp[\"wasm_normal\"])), chrome_data_nlp[\"wasm_normal\"], s=15, label=\"chrome_norm\")\n",
    "plt.scatter(range(len(chrome_data_nlp[\"wasm_eager\"])), chrome_data_nlp[\"wasm_eager\"], s=15, label=\"chrome_eager\")\n",
    "plt.scatter(range(len(firefox_data_nlp[\"wasm_normal\"])), firefox_data_nlp[\"wasm_normal\"], s=15, label=\"firefox_norm\")\n",
    "plt.scatter(range(len(firefox_data_nlp[\"wasm_eager\"])), firefox_data_nlp[\"wasm_eager\"], s=15, label=\"firefox_eager\")\n",
    "plt.legend()"
   ]
  },
  {
   "cell_type": "code",
   "execution_count": 16,
   "metadata": {},
   "outputs": [
    {
     "data": {
      "text/plain": [
       "<matplotlib.legend.Legend at 0x1868ddae3d0>"
      ]
     },
     "execution_count": 16,
     "metadata": {},
     "output_type": "execute_result"
    },
    {
     "data": {
      "image/png": "[encoded data removed]",
      "text/plain": [
       "<Figure size 432x288 with 1 Axes>"
      ]
     },
     "metadata": {
      "needs_background": "light"
     },
     "output_type": "display_data"
    }
   ],
   "source": [
    "plt.hist(edge_data_nlp[\"wasm_normal\"], alpha=.5, bins=10, color=(0.1, 0.2, 0.5), label=\"edge_norm\")\n",
    "# plt.hist(edge_data_nlp[\"eager\"], alpha=.5, bins=10, color=(0.1, 0.2, 0.5), label=\"edge_eager\")\n",
    "plt.hist(chrome_data_nlp[\"wasm_normal\"], alpha=.5, bins=10, color=(0.1, 0.5, 0.2), label=\"chrome_norm\")\n",
    "# plt.hist(chrome_data_nlp[\"eager\"], alpha=.5, bins=10, color=(0.1, 0.5, 0.2), label=\"chrome_eager\")\n",
    "plt.hist(firefox_data_nlp[\"wasm_normal\"], alpha=.5, bins=10, color=(0.6, 0.1, 0.1), label=\"firefox_norm\")\n",
    "# plt.hist(firefox_data_nlp[\"eager\"], alpha=.5, bins=10, color=(0.5, 0.2, 0.1), label=\"firefox_eager\")\n",
    "plt.axvline(sum(edge_data_nlp[\"wasm_normal\"])/len(edge_data_nlp[\"wasm_normal\"]), c=(0.1, 0.2, 0.5), label=\"edge_norm_average\")\n",
    "# plt.axvline(sum(edge_data_nlp[\"eager\"])/len(edge_data_nlp[\"eager\"]), c=(0.1, 0.2, 0.5), label=\"edge_eager_average\")\n",
    "plt.axvline(sum(chrome_data_nlp[\"wasm_normal\"])/len(chrome_data_nlp[\"wasm_normal\"]), c=(0.1, 0.5, 0.2), label=\"chrome_norm_average\")\n",
    "# plt.axvline(sum(chrome_data_nlp[\"eager\"])/len(chrome_data_nlp[\"eager\"]), c=\"orange\", label=\"chrome_eager_average\")\n",
    "plt.axvline(sum(firefox_data_nlp[\"wasm_normal\"])/len(firefox_data_nlp[\"wasm_normal\"]), c=(0.6, 0.1, 0.1), label=\"firefox_norm_average\")\n",
    "# plt.axvline(sum(firefox_data_nlp[\"eager\"])/len(firefox_data_nlp[\"eager\"]), c=\"g\", label=\"firefox_eager_average\")\n",
    "plt.legend()"
   ]
  },
  {
   "cell_type": "code",
   "execution_count": 22,
   "metadata": {},
   "outputs": [
    {
     "data": {
      "text/plain": [
       "<matplotlib.legend.Legend at 0x1868e7d3bb0>"
      ]
     },
     "execution_count": 22,
     "metadata": {},
     "output_type": "execute_result"
    },
    {
     "data": {
      "image/png": "[encoded data removed]",
      "text/plain": [
       "<Figure size 432x288 with 1 Axes>"
      ]
     },
     "metadata": {
      "needs_background": "light"
     },
     "output_type": "display_data"
    }
   ],
   "source": [
    "plt.hist(edge_data_nlp[\"cpu_normal\"], alpha=.5, bins=10, color=(0.1, 0.2, 0.5), label=\"edge_norm\")\n",
    "# plt.hist(edge_data_nlp[\"eager\"], alpha=.5, bins=10, color=(0.1, 0.2, 0.5), label=\"edge_eager\")\n",
    "plt.hist(chrome_data_nlp[\"cpu_normal\"], alpha=.5, bins=10, color=(0.1, 0.5, 0.2), label=\"chrome_norm\")\n",
    "# plt.hist(chrome_data_nlp[\"eager\"], alpha=.5, bins=10, color=(0.1, 0.5, 0.2), label=\"chrome_eager\")\n",
    "plt.hist(firefox_data_nlp[\"cpu_normal\"], alpha=.5, bins=10, color=(0.6, 0.1, 0.1), label=\"firefox_norm\")\n",
    "# plt.hist(firefox_data_nlp[\"eager\"], alpha=.5, bins=10, color=(0.5, 0.2, 0.1), label=\"firefox_eager\")\n",
    "plt.axvline(sum(edge_data_nlp[\"cpu_normal\"])/len(edge_data_nlp[\"cpu_normal\"]), c=(0.1, 0.2, 0.5), label=\"edge_norm_average\")\n",
    "# plt.axvline(sum(edge_data_nlp[\"eager\"])/len(edge_data_nlp[\"eager\"]), c=(0.1, 0.2, 0.5), label=\"edge_eager_average\")\n",
    "plt.axvline(sum(chrome_data_nlp[\"cpu_normal\"])/len(chrome_data_nlp[\"cpu_normal\"]), c=(0.1, 0.5, 0.2), label=\"chrome_norm_average\")\n",
    "# plt.axvline(sum(chrome_data_nlp[\"eager\"])/len(chrome_data_nlp[\"eager\"]), c=\"orange\", label=\"chrome_eager_average\")\n",
    "plt.axvline(sum(firefox_data_nlp[\"cpu_normal\"])/len(firefox_data_nlp[\"cpu_normal\"]), c=(0.6, 0.1, 0.1), label=\"firefox_norm_average\")\n",
    "# plt.axvline(sum(firefox_data_nlp[\"eager\"])/len(firefox_data_nlp[\"eager\"]), c=\"g\", label=\"firefox_eager_average\")\n",
    "plt.legend()"
   ]
  },
  {
   "cell_type": "code",
   "execution_count": 17,
   "metadata": {},
   "outputs": [
    {
     "data": {
      "text/plain": [
       "<matplotlib.legend.Legend at 0x1868e0782b0>"
      ]
     },
     "execution_count": 17,
     "metadata": {},
     "output_type": "execute_result"
    },
    {
     "data": {
      "image/png": "[encoded data removed]",
      "text/plain": [
       "<Figure size 432x288 with 1 Axes>"
      ]
     },
     "metadata": {
      "needs_background": "light"
     },
     "output_type": "display_data"
    }
   ],
   "source": [
    "# plt.hist(edge_data_nlp[\"normal\"], alpha=.5, bins=10, color=(0.1, 0.2, 0.5), label=\"edge_norm\")\n",
    "plt.hist(edge_data_nlp[\"wasm_eager\"], alpha=.5, bins=10, color=(0.1, 0.2, 0.5), label=\"edge_eager\")\n",
    "# plt.hist(chrome_data_nlp[\"normal\"], alpha=.5, bins=10, color=(0.1, 0.5, 0.2), label=\"chrome_norm\")\n",
    "plt.hist(chrome_data_nlp[\"wasm_eager\"], alpha=.5, bins=10, color=(0.1, 0.5, 0.2), label=\"chrome_eager\")\n",
    "# plt.hist(firefox_data_nlp[\"normal\"], alpha=.5, bins=10, color=(0.6, 0.1, 0.1), label=\"firefox_norm\")\n",
    "plt.hist(firefox_data_nlp[\"wasm_eager\"], alpha=.5, bins=10, color=(0.6, 0.1, 0.1), label=\"firefox_eager\")\n",
    "# plt.axvline(sum(edge_data_nlp[\"normal\"])/len(edge_data_nlp[\"normal\"]), c=(0.1, 0.2, 0.5), label=\"edge_norm_average\")\n",
    "plt.axvline(sum(edge_data_nlp[\"wasm_eager\"])/len(edge_data_nlp[\"wasm_eager\"]), c=(0.1, 0.2, 0.5), label=\"edge_eager_average\")\n",
    "# plt.axvline(sum(chrome_data_nlp[\"normal\"])/len(chrome_data_nlp[\"normal\"]), c=(0.1, 0.5, 0.2), label=\"chrome_norm_average\")\n",
    "plt.axvline(sum(chrome_data_nlp[\"wasm_eager\"])/len(chrome_data_nlp[\"wasm_eager\"]), c=(0.1, 0.5, 0.2), label=\"chrome_eager_average\")\n",
    "# plt.axvline(sum(firefox_data_nlp[\"normal\"])/len(firefox_data_nlp[\"normal\"]), c=(0.6, 0.1, 0.1), label=\"firefox_norm_average\")\n",
    "plt.axvline(sum(firefox_data_nlp[\"wasm_eager\"])/len(firefox_data_nlp[\"wasm_eager\"]), c=(0.6, 0.1, 0.1), label=\"firefox_eager_average\")\n",
    "plt.legend()"
   ]
  },
  {
   "cell_type": "code",
   "execution_count": 23,
   "metadata": {},
   "outputs": [
    {
     "data": {
      "text/plain": [
       "<matplotlib.legend.Legend at 0x1868eaa43a0>"
      ]
     },
     "execution_count": 23,
     "metadata": {},
     "output_type": "execute_result"
    },
    {
     "data": {
      "image/png": "[encoded data removed]",
      "text/plain": [
       "<Figure size 432x288 with 1 Axes>"
      ]
     },
     "metadata": {
      "needs_background": "light"
     },
     "output_type": "display_data"
    }
   ],
   "source": [
    "# plt.hist(edge_data_nlp[\"normal\"], alpha=.5, bins=10, color=(0.1, 0.2, 0.5), label=\"edge_norm\")\n",
    "plt.hist(edge_data_nlp[\"cpu_eager\"], alpha=.5, bins=10, color=(0.1, 0.2, 0.5), label=\"edge_eager\")\n",
    "# plt.hist(chrome_data_nlp[\"normal\"], alpha=.5, bins=10, color=(0.1, 0.5, 0.2), label=\"chrome_norm\")\n",
    "plt.hist(chrome_data_nlp[\"cpu_eager\"], alpha=.5, bins=10, color=(0.1, 0.5, 0.2), label=\"chrome_eager\")\n",
    "# plt.hist(firefox_data_nlp[\"normal\"], alpha=.5, bins=10, color=(0.6, 0.1, 0.1), label=\"firefox_norm\")\n",
    "plt.hist(firefox_data_nlp[\"cpu_eager\"], alpha=.5, bins=10, color=(0.6, 0.1, 0.1), label=\"firefox_eager\")\n",
    "# plt.axvline(sum(edge_data_nlp[\"normal\"])/len(edge_data_nlp[\"normal\"]), c=(0.1, 0.2, 0.5), label=\"edge_norm_average\")\n",
    "plt.axvline(sum(edge_data_nlp[\"cpu_eager\"])/len(edge_data_nlp[\"cpu_eager\"]), c=(0.1, 0.2, 0.5), label=\"edge_eager_average\")\n",
    "# plt.axvline(sum(chrome_data_nlp[\"normal\"])/len(chrome_data_nlp[\"normal\"]), c=(0.1, 0.5, 0.2), label=\"chrome_norm_average\")\n",
    "plt.axvline(sum(chrome_data_nlp[\"cpu_eager\"])/len(chrome_data_nlp[\"cpu_eager\"]), c=(0.1, 0.5, 0.2), label=\"chrome_eager_average\")\n",
    "# plt.axvline(sum(firefox_data_nlp[\"normal\"])/len(firefox_data_nlp[\"normal\"]), c=(0.6, 0.1, 0.1), label=\"firefox_norm_average\")\n",
    "plt.axvline(sum(firefox_data_nlp[\"cpu_eager\"])/len(firefox_data_nlp[\"cpu_eager\"]), c=(0.6, 0.1, 0.1), label=\"firefox_eager_average\")\n",
    "plt.legend()"
   ]
  },
  {
   "cell_type": "code",
   "execution_count": 18,
   "metadata": {},
   "outputs": [
    {
     "data": {
      "text/plain": [
       "<matplotlib.legend.Legend at 0x1868e128fd0>"
      ]
     },
     "execution_count": 18,
     "metadata": {},
     "output_type": "execute_result"
    },
    {
     "data": {
      "image/png": "[encoded data removed]",
      "text/plain": [
       "<Figure size 432x288 with 1 Axes>"
      ]
     },
     "metadata": {
      "needs_background": "light"
     },
     "output_type": "display_data"
    }
   ],
   "source": [
    "plt.hist(edge_data_nlp[\"wasm_normal\"]+chrome_data_nlp[\"wasm_normal\"]+firefox_data_nlp[\"wasm_normal\"], alpha=.5, bins=10, label=\"normal\")\n",
    "plt.hist(edge_data_nlp[\"wasm_eager\"]+chrome_data_nlp[\"wasm_eager\"]+firefox_data_nlp[\"wasm_eager\"], alpha=.5, bins=10, label=\"eager\")\n",
    "plt.axvline(sum(edge_data_nlp[\"wasm_normal\"]+chrome_data_nlp[\"wasm_normal\"]+firefox_data_nlp[\"wasm_normal\"])/\n",
    "            len(edge_data_nlp[\"wasm_normal\"]+chrome_data_nlp[\"wasm_normal\"]+firefox_data_nlp[\"wasm_normal\"]), c='b', label=\"normal_average\")\n",
    "plt.axvline(sum(edge_data_nlp[\"wasm_eager\"]+chrome_data_nlp[\"wasm_eager\"]+firefox_data_nlp[\"wasm_eager\"])/\n",
    "            len(edge_data_nlp[\"wasm_eager\"]+chrome_data_nlp[\"wasm_eager\"]+firefox_data_nlp[\"wasm_eager\"]), c='orange', label=\"eager_average\")\n",
    "plt.legend()"
   ]
  },
  {
   "cell_type": "code",
   "execution_count": 24,
   "metadata": {},
   "outputs": [
    {
     "data": {
      "text/plain": [
       "<matplotlib.legend.Legend at 0x1868eb64160>"
      ]
     },
     "execution_count": 24,
     "metadata": {},
     "output_type": "execute_result"
    },
    {
     "data": {
      "image/png": "[encoded data removed]",
      "text/plain": [
       "<Figure size 432x288 with 1 Axes>"
      ]
     },
     "metadata": {
      "needs_background": "light"
     },
     "output_type": "display_data"
    }
   ],
   "source": [
    "plt.hist(edge_data_nlp[\"cpu_normal\"]+chrome_data_nlp[\"cpu_normal\"]+firefox_data_nlp[\"cpu_normal\"], alpha=.5, bins=10, label=\"normal\")\n",
    "plt.hist(edge_data_nlp[\"cpu_eager\"]+chrome_data_nlp[\"cpu_eager\"]+firefox_data_nlp[\"cpu_eager\"], alpha=.5, bins=10, label=\"eager\")\n",
    "plt.axvline(sum(edge_data_nlp[\"cpu_normal\"]+chrome_data_nlp[\"cpu_normal\"]+firefox_data_nlp[\"cpu_normal\"])/\n",
    "            len(edge_data_nlp[\"cpu_normal\"]+chrome_data_nlp[\"cpu_normal\"]+firefox_data_nlp[\"cpu_normal\"]), c='b', label=\"normal_average\")\n",
    "plt.axvline(sum(edge_data_nlp[\"cpu_eager\"]+chrome_data_nlp[\"cpu_eager\"]+firefox_data_nlp[\"cpu_eager\"])/\n",
    "            len(edge_data_nlp[\"cpu_eager\"]+chrome_data_nlp[\"cpu_eager\"]+firefox_data_nlp[\"cpu_eager\"]), c='orange', label=\"eager_average\")\n",
    "plt.legend()"
   ]
  },
  {
   "cell_type": "code",
   "execution_count": 81,
   "metadata": {},
   "outputs": [
    {
     "data": {
      "text/plain": [
       "<matplotlib.legend.Legend at 0x21d1350ebb0>"
      ]
     },
     "execution_count": 81,
     "metadata": {},
     "output_type": "execute_result"
    },
    {
     "data": {
      "image/png": "[encoded data removed]",
      "text/plain": [
       "<Figure size 432x288 with 1 Axes>"
      ]
     },
     "metadata": {
      "needs_background": "light"
     },
     "output_type": "display_data"
    }
   ],
   "source": [
    "plt.hist(chrome_data[\"normal\"], alpha=.5, bins=10, label=\"normal\")\n",
    "plt.hist(chrome_data[\"lowend_normal\"], alpha=.5, bins=10, label=\"lowend_normal\")\n",
    "# plt.hist(chrome_data[\"eager\"], alpha=.5, bins=10, label=\"eager\")\n",
    "# plt.hist(edge_data[\"eager\"]+chrome_data[\"eager\"]+firefox_data[\"eager\"], alpha=.5, bins=10, label=\"eager\")\n",
    "plt.axvline(sum(chrome_data[\"normal\"])/len(chrome_data[\"normal\"]), c='b', label=\"normal_average\")\n",
    "plt.axvline(sum(chrome_data[\"lowend_normal\"])/len(chrome_data[\"lowend_normal\"]), c='orange', label=\"lowend_normal_average\")\n",
    "plt.legend()"
   ]
  },
  {
   "cell_type": "code",
   "execution_count": 82,
   "metadata": {},
   "outputs": [
    {
     "data": {
      "text/plain": [
       "<matplotlib.legend.Legend at 0x21d13560d00>"
      ]
     },
     "execution_count": 82,
     "metadata": {},
     "output_type": "execute_result"
    },
    {
     "data": {
      "image/png": "[encoded data removed]",
      "text/plain": [
       "<Figure size 432x288 with 1 Axes>"
      ]
     },
     "metadata": {
      "needs_background": "light"
     },
     "output_type": "display_data"
    }
   ],
   "source": [
    "plt.hist(chrome_data[\"eager\"], alpha=.5, bins=10, label=\"eager\")\n",
    "plt.hist(chrome_data[\"lowend_eager\"], alpha=.5, bins=10, label=\"lowend_eager\")\n",
    "# plt.hist(chrome_data[\"eager\"], alpha=.5, bins=10, label=\"eager\")\n",
    "# plt.hist(edge_data[\"eager\"]+chrome_data[\"eager\"]+firefox_data[\"eager\"], alpha=.5, bins=10, label=\"eager\")\n",
    "plt.axvline(sum(chrome_data[\"eager\"])/len(chrome_data[\"eager\"]), c='b', label=\"eager_average\")\n",
    "plt.axvline(sum(chrome_data[\"lowend_eager\"])/len(chrome_data[\"lowend_eager\"]), c='orange', label=\"lowend_eager_average\")\n",
    "plt.legend()"
   ]
  },
  {
   "cell_type": "code",
   "execution_count": 48,
   "metadata": {},
   "outputs": [],
   "source": [
    "from selenium.webdriver.common.keys import Keys\n",
    "import selenium.webdriver.common.devtools.v109 as devtools\n",
    "from selenium.webdriver.common.desired_capabilities import DesiredCapabilities"
   ]
  },
  {
   "cell_type": "code",
   "execution_count": 196,
   "metadata": {},
   "outputs": [],
   "source": [
    "option = webdriver.ChromeOptions()\n",
    "option.page_load_strategy = \"normal\"\n",
    "for other_options in [\"--enable-javascript\", \"--use-gl\", \"--enable-tracing\", \"--trace-startup\",'--remote-debugging-port=9222']: #\"headless\"\n",
    "    option.add_argument(other_options)\n",
    "caps = DesiredCapabilities.CHROME\n",
    "caps['goog:loggingPrefs'] = {'performance': 'ALL'}\n",
    "driver = webdriver.Chrome(options = option, desired_capabilities=caps)\n",
    "driver.set_page_load_timeout(3000000)\n",
    "driver.set_script_timeout(3000000)\n",
    "\n",
    "# data = driver.execute_script(f'return start(\"{backend}\", 1, \"vision\")')\n",
    "\n",
    "# driver.quit()"
   ]
  },
  {
   "cell_type": "code",
   "execution_count": 117,
   "metadata": {},
   "outputs": [],
   "source": [
    "driver.get(url)"
   ]
  },
  {
   "cell_type": "code",
   "execution_count": 141,
   "metadata": {},
   "outputs": [],
   "source": [
    "driver.quit()"
   ]
  },
  {
   "cell_type": "code",
   "execution_count": 161,
   "metadata": {},
   "outputs": [
    {
     "name": "stdout",
     "output_type": "stream",
     "text": [
      "{}\n"
     ]
    }
   ],
   "source": [
    "# driver.execute_cdp_cmd(\"CSS.enable\",{})\n",
    "driver.get(url)\n",
    "driver.execute_cdp_cmd(\"Tracing.start\",{})\n",
    "data = driver.execute_script(f'return start(\"wasm\", 1, \"vision\")')\n",
    "# print(driver.execute_cdp_cmd(\"Tracing.recordClockSyncMarker\", {}))\n",
    "# print(driver.execute_cdp_cmd(\"Tracing.dataCollected\", {}))\n",
    "p = driver.execute_cdp_cmd(\"Tracing.end\",{'path': 'C://trace.log'})\n",
    "# print(driver.execute_cdp_cmd(\"Tracing.getDataCollected\",{}))\n",
    "# performance_data = driver.execute_script(\"return window.performance.getMetrics();\")\n",
    "print (p)"
   ]
  },
  {
   "cell_type": "code",
   "execution_count": 204,
   "metadata": {},
   "outputs": [
    {
     "ename": "ConnectionError",
     "evalue": "HTTPConnectionPool(host='localhost', port=9225): Max retries exceeded with url: /json/new (Caused by NewConnectionError('<urllib3.connection.HTTPConnection object at 0x000001868FA5FB50>: Failed to establish a new connection: [WinError 10061] No connection could be made because the target machine actively refused it'))",
     "output_type": "error",
     "traceback": [
      "\u001b[1;31m---------------------------------------------------------------------------\u001b[0m",
      "\u001b[1;31mConnectionRefusedError\u001b[0m                    Traceback (most recent call last)",
      "\u001b[1;32m~\\AppData\\Local\\Packages\\PythonSoftwareFoundation.Python.3.9_qbz5n2kfra8p0\\LocalCache\\local-packages\\Python39\\site-packages\\urllib3\\connection.py\u001b[0m in \u001b[0;36m_new_conn\u001b[1;34m(self)\u001b[0m\n\u001b[0;32m    168\u001b[0m         \u001b[1;32mtry\u001b[0m\u001b[1;33m:\u001b[0m\u001b[1;33m\u001b[0m\u001b[1;33m\u001b[0m\u001b[0m\n\u001b[1;32m--> 169\u001b[1;33m             conn = connection.create_connection(\n\u001b[0m\u001b[0;32m    170\u001b[0m                 \u001b[1;33m(\u001b[0m\u001b[0mself\u001b[0m\u001b[1;33m.\u001b[0m\u001b[0m_dns_host\u001b[0m\u001b[1;33m,\u001b[0m \u001b[0mself\u001b[0m\u001b[1;33m.\u001b[0m\u001b[0mport\u001b[0m\u001b[1;33m)\u001b[0m\u001b[1;33m,\u001b[0m \u001b[0mself\u001b[0m\u001b[1;33m.\u001b[0m\u001b[0mtimeout\u001b[0m\u001b[1;33m,\u001b[0m \u001b[1;33m**\u001b[0m\u001b[0mextra_kw\u001b[0m\u001b[1;33m\u001b[0m\u001b[1;33m\u001b[0m\u001b[0m\n",
      "\u001b[1;32m~\\AppData\\Local\\Packages\\PythonSoftwareFoundation.Python.3.9_qbz5n2kfra8p0\\LocalCache\\local-packages\\Python39\\site-packages\\urllib3\\util\\connection.py\u001b[0m in \u001b[0;36mcreate_connection\u001b[1;34m(address, timeout, source_address, socket_options)\u001b[0m\n\u001b[0;32m     95\u001b[0m     \u001b[1;32mif\u001b[0m \u001b[0merr\u001b[0m \u001b[1;32mis\u001b[0m \u001b[1;32mnot\u001b[0m \u001b[1;32mNone\u001b[0m\u001b[1;33m:\u001b[0m\u001b[1;33m\u001b[0m\u001b[1;33m\u001b[0m\u001b[0m\n\u001b[1;32m---> 96\u001b[1;33m         \u001b[1;32mraise\u001b[0m \u001b[0merr\u001b[0m\u001b[1;33m\u001b[0m\u001b[1;33m\u001b[0m\u001b[0m\n\u001b[0m\u001b[0;32m     97\u001b[0m \u001b[1;33m\u001b[0m\u001b[0m\n",
      "\u001b[1;32m~\\AppData\\Local\\Packages\\PythonSoftwareFoundation.Python.3.9_qbz5n2kfra8p0\\LocalCache\\local-packages\\Python39\\site-packages\\urllib3\\util\\connection.py\u001b[0m in \u001b[0;36mcreate_connection\u001b[1;34m(address, timeout, source_address, socket_options)\u001b[0m\n\u001b[0;32m     85\u001b[0m                 \u001b[0msock\u001b[0m\u001b[1;33m.\u001b[0m\u001b[0mbind\u001b[0m\u001b[1;33m(\u001b[0m\u001b[0msource_address\u001b[0m\u001b[1;33m)\u001b[0m\u001b[1;33m\u001b[0m\u001b[1;33m\u001b[0m\u001b[0m\n\u001b[1;32m---> 86\u001b[1;33m             \u001b[0msock\u001b[0m\u001b[1;33m.\u001b[0m\u001b[0mconnect\u001b[0m\u001b[1;33m(\u001b[0m\u001b[0msa\u001b[0m\u001b[1;33m)\u001b[0m\u001b[1;33m\u001b[0m\u001b[1;33m\u001b[0m\u001b[0m\n\u001b[0m\u001b[0;32m     87\u001b[0m             \u001b[1;32mreturn\u001b[0m \u001b[0msock\u001b[0m\u001b[1;33m\u001b[0m\u001b[1;33m\u001b[0m\u001b[0m\n",
      "\u001b[1;31mConnectionRefusedError\u001b[0m: [WinError 10061] No connection could be made because the target machine actively refused it",
      "\nDuring handling of the above exception, another exception occurred:\n",
      "\u001b[1;31mNewConnectionError\u001b[0m                        Traceback (most recent call last)",
      "\u001b[1;32m~\\AppData\\Local\\Packages\\PythonSoftwareFoundation.Python.3.9_qbz5n2kfra8p0\\LocalCache\\local-packages\\Python39\\site-packages\\urllib3\\connectionpool.py\u001b[0m in \u001b[0;36murlopen\u001b[1;34m(self, method, url, body, headers, retries, redirect, assert_same_host, timeout, pool_timeout, release_conn, chunked, body_pos, **response_kw)\u001b[0m\n\u001b[0;32m    698\u001b[0m             \u001b[1;31m# Make the request on the httplib connection object.\u001b[0m\u001b[1;33m\u001b[0m\u001b[1;33m\u001b[0m\u001b[0m\n\u001b[1;32m--> 699\u001b[1;33m             httplib_response = self._make_request(\n\u001b[0m\u001b[0;32m    700\u001b[0m                 \u001b[0mconn\u001b[0m\u001b[1;33m,\u001b[0m\u001b[1;33m\u001b[0m\u001b[1;33m\u001b[0m\u001b[0m\n",
      "\u001b[1;32m~\\AppData\\Local\\Packages\\PythonSoftwareFoundation.Python.3.9_qbz5n2kfra8p0\\LocalCache\\local-packages\\Python39\\site-packages\\urllib3\\connectionpool.py\u001b[0m in \u001b[0;36m_make_request\u001b[1;34m(self, conn, method, url, timeout, chunked, **httplib_request_kw)\u001b[0m\n\u001b[0;32m    393\u001b[0m             \u001b[1;32melse\u001b[0m\u001b[1;33m:\u001b[0m\u001b[1;33m\u001b[0m\u001b[1;33m\u001b[0m\u001b[0m\n\u001b[1;32m--> 394\u001b[1;33m                 \u001b[0mconn\u001b[0m\u001b[1;33m.\u001b[0m\u001b[0mrequest\u001b[0m\u001b[1;33m(\u001b[0m\u001b[0mmethod\u001b[0m\u001b[1;33m,\u001b[0m \u001b[0murl\u001b[0m\u001b[1;33m,\u001b[0m \u001b[1;33m**\u001b[0m\u001b[0mhttplib_request_kw\u001b[0m\u001b[1;33m)\u001b[0m\u001b[1;33m\u001b[0m\u001b[1;33m\u001b[0m\u001b[0m\n\u001b[0m\u001b[0;32m    395\u001b[0m \u001b[1;33m\u001b[0m\u001b[0m\n",
      "\u001b[1;32m~\\AppData\\Local\\Packages\\PythonSoftwareFoundation.Python.3.9_qbz5n2kfra8p0\\LocalCache\\local-packages\\Python39\\site-packages\\urllib3\\connection.py\u001b[0m in \u001b[0;36mrequest\u001b[1;34m(self, method, url, body, headers)\u001b[0m\n\u001b[0;32m    233\u001b[0m             \u001b[0mheaders\u001b[0m\u001b[1;33m[\u001b[0m\u001b[1;34m\"User-Agent\"\u001b[0m\u001b[1;33m]\u001b[0m \u001b[1;33m=\u001b[0m \u001b[0m_get_default_user_agent\u001b[0m\u001b[1;33m(\u001b[0m\u001b[1;33m)\u001b[0m\u001b[1;33m\u001b[0m\u001b[1;33m\u001b[0m\u001b[0m\n\u001b[1;32m--> 234\u001b[1;33m         \u001b[0msuper\u001b[0m\u001b[1;33m(\u001b[0m\u001b[0mHTTPConnection\u001b[0m\u001b[1;33m,\u001b[0m \u001b[0mself\u001b[0m\u001b[1;33m)\u001b[0m\u001b[1;33m.\u001b[0m\u001b[0mrequest\u001b[0m\u001b[1;33m(\u001b[0m\u001b[0mmethod\u001b[0m\u001b[1;33m,\u001b[0m \u001b[0murl\u001b[0m\u001b[1;33m,\u001b[0m \u001b[0mbody\u001b[0m\u001b[1;33m=\u001b[0m\u001b[0mbody\u001b[0m\u001b[1;33m,\u001b[0m \u001b[0mheaders\u001b[0m\u001b[1;33m=\u001b[0m\u001b[0mheaders\u001b[0m\u001b[1;33m)\u001b[0m\u001b[1;33m\u001b[0m\u001b[1;33m\u001b[0m\u001b[0m\n\u001b[0m\u001b[0;32m    235\u001b[0m \u001b[1;33m\u001b[0m\u001b[0m\n",
      "\u001b[1;32mC:\\Program Files\\WindowsApps\\PythonSoftwareFoundation.Python.3.9_3.9.3568.0_x64__qbz5n2kfra8p0\\lib\\http\\client.py\u001b[0m in \u001b[0;36mrequest\u001b[1;34m(self, method, url, body, headers, encode_chunked)\u001b[0m\n\u001b[0;32m   1284\u001b[0m         \u001b[1;34m\"\"\"Send a complete request to the server.\"\"\"\u001b[0m\u001b[1;33m\u001b[0m\u001b[1;33m\u001b[0m\u001b[0m\n\u001b[1;32m-> 1285\u001b[1;33m         \u001b[0mself\u001b[0m\u001b[1;33m.\u001b[0m\u001b[0m_send_request\u001b[0m\u001b[1;33m(\u001b[0m\u001b[0mmethod\u001b[0m\u001b[1;33m,\u001b[0m \u001b[0murl\u001b[0m\u001b[1;33m,\u001b[0m \u001b[0mbody\u001b[0m\u001b[1;33m,\u001b[0m \u001b[0mheaders\u001b[0m\u001b[1;33m,\u001b[0m \u001b[0mencode_chunked\u001b[0m\u001b[1;33m)\u001b[0m\u001b[1;33m\u001b[0m\u001b[1;33m\u001b[0m\u001b[0m\n\u001b[0m\u001b[0;32m   1286\u001b[0m \u001b[1;33m\u001b[0m\u001b[0m\n",
      "\u001b[1;32mC:\\Program Files\\WindowsApps\\PythonSoftwareFoundation.Python.3.9_3.9.3568.0_x64__qbz5n2kfra8p0\\lib\\http\\client.py\u001b[0m in \u001b[0;36m_send_request\u001b[1;34m(self, method, url, body, headers, encode_chunked)\u001b[0m\n\u001b[0;32m   1330\u001b[0m             \u001b[0mbody\u001b[0m \u001b[1;33m=\u001b[0m \u001b[0m_encode\u001b[0m\u001b[1;33m(\u001b[0m\u001b[0mbody\u001b[0m\u001b[1;33m,\u001b[0m \u001b[1;34m'body'\u001b[0m\u001b[1;33m)\u001b[0m\u001b[1;33m\u001b[0m\u001b[1;33m\u001b[0m\u001b[0m\n\u001b[1;32m-> 1331\u001b[1;33m         \u001b[0mself\u001b[0m\u001b[1;33m.\u001b[0m\u001b[0mendheaders\u001b[0m\u001b[1;33m(\u001b[0m\u001b[0mbody\u001b[0m\u001b[1;33m,\u001b[0m \u001b[0mencode_chunked\u001b[0m\u001b[1;33m=\u001b[0m\u001b[0mencode_chunked\u001b[0m\u001b[1;33m)\u001b[0m\u001b[1;33m\u001b[0m\u001b[1;33m\u001b[0m\u001b[0m\n\u001b[0m\u001b[0;32m   1332\u001b[0m \u001b[1;33m\u001b[0m\u001b[0m\n",
      "\u001b[1;32mC:\\Program Files\\WindowsApps\\PythonSoftwareFoundation.Python.3.9_3.9.3568.0_x64__qbz5n2kfra8p0\\lib\\http\\client.py\u001b[0m in \u001b[0;36mendheaders\u001b[1;34m(self, message_body, encode_chunked)\u001b[0m\n\u001b[0;32m   1279\u001b[0m             \u001b[1;32mraise\u001b[0m \u001b[0mCannotSendHeader\u001b[0m\u001b[1;33m(\u001b[0m\u001b[1;33m)\u001b[0m\u001b[1;33m\u001b[0m\u001b[1;33m\u001b[0m\u001b[0m\n\u001b[1;32m-> 1280\u001b[1;33m         \u001b[0mself\u001b[0m\u001b[1;33m.\u001b[0m\u001b[0m_send_output\u001b[0m\u001b[1;33m(\u001b[0m\u001b[0mmessage_body\u001b[0m\u001b[1;33m,\u001b[0m \u001b[0mencode_chunked\u001b[0m\u001b[1;33m=\u001b[0m\u001b[0mencode_chunked\u001b[0m\u001b[1;33m)\u001b[0m\u001b[1;33m\u001b[0m\u001b[1;33m\u001b[0m\u001b[0m\n\u001b[0m\u001b[0;32m   1281\u001b[0m \u001b[1;33m\u001b[0m\u001b[0m\n",
      "\u001b[1;32mC:\\Program Files\\WindowsApps\\PythonSoftwareFoundation.Python.3.9_3.9.3568.0_x64__qbz5n2kfra8p0\\lib\\http\\client.py\u001b[0m in \u001b[0;36m_send_output\u001b[1;34m(self, message_body, encode_chunked)\u001b[0m\n\u001b[0;32m   1039\u001b[0m         \u001b[1;32mdel\u001b[0m \u001b[0mself\u001b[0m\u001b[1;33m.\u001b[0m\u001b[0m_buffer\u001b[0m\u001b[1;33m[\u001b[0m\u001b[1;33m:\u001b[0m\u001b[1;33m]\u001b[0m\u001b[1;33m\u001b[0m\u001b[1;33m\u001b[0m\u001b[0m\n\u001b[1;32m-> 1040\u001b[1;33m         \u001b[0mself\u001b[0m\u001b[1;33m.\u001b[0m\u001b[0msend\u001b[0m\u001b[1;33m(\u001b[0m\u001b[0mmsg\u001b[0m\u001b[1;33m)\u001b[0m\u001b[1;33m\u001b[0m\u001b[1;33m\u001b[0m\u001b[0m\n\u001b[0m\u001b[0;32m   1041\u001b[0m \u001b[1;33m\u001b[0m\u001b[0m\n",
      "\u001b[1;32mC:\\Program Files\\WindowsApps\\PythonSoftwareFoundation.Python.3.9_3.9.3568.0_x64__qbz5n2kfra8p0\\lib\\http\\client.py\u001b[0m in \u001b[0;36msend\u001b[1;34m(self, data)\u001b[0m\n\u001b[0;32m    979\u001b[0m             \u001b[1;32mif\u001b[0m \u001b[0mself\u001b[0m\u001b[1;33m.\u001b[0m\u001b[0mauto_open\u001b[0m\u001b[1;33m:\u001b[0m\u001b[1;33m\u001b[0m\u001b[1;33m\u001b[0m\u001b[0m\n\u001b[1;32m--> 980\u001b[1;33m                 \u001b[0mself\u001b[0m\u001b[1;33m.\u001b[0m\u001b[0mconnect\u001b[0m\u001b[1;33m(\u001b[0m\u001b[1;33m)\u001b[0m\u001b[1;33m\u001b[0m\u001b[1;33m\u001b[0m\u001b[0m\n\u001b[0m\u001b[0;32m    981\u001b[0m             \u001b[1;32melse\u001b[0m\u001b[1;33m:\u001b[0m\u001b[1;33m\u001b[0m\u001b[1;33m\u001b[0m\u001b[0m\n",
      "\u001b[1;32m~\\AppData\\Local\\Packages\\PythonSoftwareFoundation.Python.3.9_qbz5n2kfra8p0\\LocalCache\\local-packages\\Python39\\site-packages\\urllib3\\connection.py\u001b[0m in \u001b[0;36mconnect\u001b[1;34m(self)\u001b[0m\n\u001b[0;32m    199\u001b[0m     \u001b[1;32mdef\u001b[0m \u001b[0mconnect\u001b[0m\u001b[1;33m(\u001b[0m\u001b[0mself\u001b[0m\u001b[1;33m)\u001b[0m\u001b[1;33m:\u001b[0m\u001b[1;33m\u001b[0m\u001b[1;33m\u001b[0m\u001b[0m\n\u001b[1;32m--> 200\u001b[1;33m         \u001b[0mconn\u001b[0m \u001b[1;33m=\u001b[0m \u001b[0mself\u001b[0m\u001b[1;33m.\u001b[0m\u001b[0m_new_conn\u001b[0m\u001b[1;33m(\u001b[0m\u001b[1;33m)\u001b[0m\u001b[1;33m\u001b[0m\u001b[1;33m\u001b[0m\u001b[0m\n\u001b[0m\u001b[0;32m    201\u001b[0m         \u001b[0mself\u001b[0m\u001b[1;33m.\u001b[0m\u001b[0m_prepare_conn\u001b[0m\u001b[1;33m(\u001b[0m\u001b[0mconn\u001b[0m\u001b[1;33m)\u001b[0m\u001b[1;33m\u001b[0m\u001b[1;33m\u001b[0m\u001b[0m\n",
      "\u001b[1;32m~\\AppData\\Local\\Packages\\PythonSoftwareFoundation.Python.3.9_qbz5n2kfra8p0\\LocalCache\\local-packages\\Python39\\site-packages\\urllib3\\connection.py\u001b[0m in \u001b[0;36m_new_conn\u001b[1;34m(self)\u001b[0m\n\u001b[0;32m    180\u001b[0m         \u001b[1;32mexcept\u001b[0m \u001b[0mSocketError\u001b[0m \u001b[1;32mas\u001b[0m \u001b[0me\u001b[0m\u001b[1;33m:\u001b[0m\u001b[1;33m\u001b[0m\u001b[1;33m\u001b[0m\u001b[0m\n\u001b[1;32m--> 181\u001b[1;33m             raise NewConnectionError(\n\u001b[0m\u001b[0;32m    182\u001b[0m                 \u001b[0mself\u001b[0m\u001b[1;33m,\u001b[0m \u001b[1;34m\"Failed to establish a new connection: %s\"\u001b[0m \u001b[1;33m%\u001b[0m \u001b[0me\u001b[0m\u001b[1;33m\u001b[0m\u001b[1;33m\u001b[0m\u001b[0m\n",
      "\u001b[1;31mNewConnectionError\u001b[0m: <urllib3.connection.HTTPConnection object at 0x000001868FA5FB50>: Failed to establish a new connection: [WinError 10061] No connection could be made because the target machine actively refused it",
      "\nDuring handling of the above exception, another exception occurred:\n",
      "\u001b[1;31mMaxRetryError\u001b[0m                             Traceback (most recent call last)",
      "\u001b[1;32m~\\AppData\\Local\\Packages\\PythonSoftwareFoundation.Python.3.9_qbz5n2kfra8p0\\LocalCache\\local-packages\\Python39\\site-packages\\requests\\adapters.py\u001b[0m in \u001b[0;36msend\u001b[1;34m(self, request, stream, timeout, verify, cert, proxies)\u001b[0m\n\u001b[0;32m    438\u001b[0m             \u001b[1;32mif\u001b[0m \u001b[1;32mnot\u001b[0m \u001b[0mchunked\u001b[0m\u001b[1;33m:\u001b[0m\u001b[1;33m\u001b[0m\u001b[1;33m\u001b[0m\u001b[0m\n\u001b[1;32m--> 439\u001b[1;33m                 resp = conn.urlopen(\n\u001b[0m\u001b[0;32m    440\u001b[0m                     \u001b[0mmethod\u001b[0m\u001b[1;33m=\u001b[0m\u001b[0mrequest\u001b[0m\u001b[1;33m.\u001b[0m\u001b[0mmethod\u001b[0m\u001b[1;33m,\u001b[0m\u001b[1;33m\u001b[0m\u001b[1;33m\u001b[0m\u001b[0m\n",
      "\u001b[1;32m~\\AppData\\Local\\Packages\\PythonSoftwareFoundation.Python.3.9_qbz5n2kfra8p0\\LocalCache\\local-packages\\Python39\\site-packages\\urllib3\\connectionpool.py\u001b[0m in \u001b[0;36murlopen\u001b[1;34m(self, method, url, body, headers, retries, redirect, assert_same_host, timeout, pool_timeout, release_conn, chunked, body_pos, **response_kw)\u001b[0m\n\u001b[0;32m    754\u001b[0m \u001b[1;33m\u001b[0m\u001b[0m\n\u001b[1;32m--> 755\u001b[1;33m             retries = retries.increment(\n\u001b[0m\u001b[0;32m    756\u001b[0m                 \u001b[0mmethod\u001b[0m\u001b[1;33m,\u001b[0m \u001b[0murl\u001b[0m\u001b[1;33m,\u001b[0m \u001b[0merror\u001b[0m\u001b[1;33m=\u001b[0m\u001b[0me\u001b[0m\u001b[1;33m,\u001b[0m \u001b[0m_pool\u001b[0m\u001b[1;33m=\u001b[0m\u001b[0mself\u001b[0m\u001b[1;33m,\u001b[0m \u001b[0m_stacktrace\u001b[0m\u001b[1;33m=\u001b[0m\u001b[0msys\u001b[0m\u001b[1;33m.\u001b[0m\u001b[0mexc_info\u001b[0m\u001b[1;33m(\u001b[0m\u001b[1;33m)\u001b[0m\u001b[1;33m[\u001b[0m\u001b[1;36m2\u001b[0m\u001b[1;33m]\u001b[0m\u001b[1;33m\u001b[0m\u001b[1;33m\u001b[0m\u001b[0m\n",
      "\u001b[1;32m~\\AppData\\Local\\Packages\\PythonSoftwareFoundation.Python.3.9_qbz5n2kfra8p0\\LocalCache\\local-packages\\Python39\\site-packages\\urllib3\\util\\retry.py\u001b[0m in \u001b[0;36mincrement\u001b[1;34m(self, method, url, response, error, _pool, _stacktrace)\u001b[0m\n\u001b[0;32m    573\u001b[0m         \u001b[1;32mif\u001b[0m \u001b[0mnew_retry\u001b[0m\u001b[1;33m.\u001b[0m\u001b[0mis_exhausted\u001b[0m\u001b[1;33m(\u001b[0m\u001b[1;33m)\u001b[0m\u001b[1;33m:\u001b[0m\u001b[1;33m\u001b[0m\u001b[1;33m\u001b[0m\u001b[0m\n\u001b[1;32m--> 574\u001b[1;33m             \u001b[1;32mraise\u001b[0m \u001b[0mMaxRetryError\u001b[0m\u001b[1;33m(\u001b[0m\u001b[0m_pool\u001b[0m\u001b[1;33m,\u001b[0m \u001b[0murl\u001b[0m\u001b[1;33m,\u001b[0m \u001b[0merror\u001b[0m \u001b[1;32mor\u001b[0m \u001b[0mResponseError\u001b[0m\u001b[1;33m(\u001b[0m\u001b[0mcause\u001b[0m\u001b[1;33m)\u001b[0m\u001b[1;33m)\u001b[0m\u001b[1;33m\u001b[0m\u001b[1;33m\u001b[0m\u001b[0m\n\u001b[0m\u001b[0;32m    575\u001b[0m \u001b[1;33m\u001b[0m\u001b[0m\n",
      "\u001b[1;31mMaxRetryError\u001b[0m: HTTPConnectionPool(host='localhost', port=9225): Max retries exceeded with url: /json/new (Caused by NewConnectionError('<urllib3.connection.HTTPConnection object at 0x000001868FA5FB50>: Failed to establish a new connection: [WinError 10061] No connection could be made because the target machine actively refused it'))",
      "\nDuring handling of the above exception, another exception occurred:\n",
      "\u001b[1;31mConnectionError\u001b[0m                           Traceback (most recent call last)",
      "\u001b[1;32m<ipython-input-204-101b5818e72c>\u001b[0m in \u001b[0;36m<module>\u001b[1;34m\u001b[0m\n\u001b[0;32m      6\u001b[0m \u001b[1;33m\u001b[0m\u001b[0m\n\u001b[0;32m      7\u001b[0m \u001b[1;31m# Navigate to the page you want to test\u001b[0m\u001b[1;33m\u001b[0m\u001b[1;33m\u001b[0m\u001b[0m\n\u001b[1;32m----> 8\u001b[1;33m \u001b[0mtab\u001b[0m \u001b[1;33m=\u001b[0m \u001b[0mchrome\u001b[0m\u001b[1;33m.\u001b[0m\u001b[0mnew_tab\u001b[0m\u001b[1;33m(\u001b[0m\u001b[1;33m)\u001b[0m\u001b[1;33m\u001b[0m\u001b[1;33m\u001b[0m\u001b[0m\n\u001b[0m\u001b[0;32m      9\u001b[0m \u001b[1;31m# tab.Page.navigate(url=\"http://localhost:8000\")\u001b[0m\u001b[1;33m\u001b[0m\u001b[1;33m\u001b[0m\u001b[0m\n\u001b[0;32m     10\u001b[0m \u001b[1;31m# tab.wait(5)\u001b[0m\u001b[1;33m\u001b[0m\u001b[1;33m\u001b[0m\u001b[0m\n",
      "\u001b[1;32m~\\AppData\\Local\\Packages\\PythonSoftwareFoundation.Python.3.9_qbz5n2kfra8p0\\LocalCache\\local-packages\\Python39\\site-packages\\pychrome\\browser.py\u001b[0m in \u001b[0;36mnew_tab\u001b[1;34m(self, url, timeout)\u001b[0m\n\u001b[0;32m     25\u001b[0m     \u001b[1;32mdef\u001b[0m \u001b[0mnew_tab\u001b[0m\u001b[1;33m(\u001b[0m\u001b[0mself\u001b[0m\u001b[1;33m,\u001b[0m \u001b[0murl\u001b[0m\u001b[1;33m=\u001b[0m\u001b[1;32mNone\u001b[0m\u001b[1;33m,\u001b[0m \u001b[0mtimeout\u001b[0m\u001b[1;33m=\u001b[0m\u001b[1;32mNone\u001b[0m\u001b[1;33m)\u001b[0m\u001b[1;33m:\u001b[0m\u001b[1;33m\u001b[0m\u001b[1;33m\u001b[0m\u001b[0m\n\u001b[0;32m     26\u001b[0m         \u001b[0murl\u001b[0m \u001b[1;33m=\u001b[0m \u001b[0murl\u001b[0m \u001b[1;32mor\u001b[0m \u001b[1;34m''\u001b[0m\u001b[1;33m\u001b[0m\u001b[1;33m\u001b[0m\u001b[0m\n\u001b[1;32m---> 27\u001b[1;33m         \u001b[0mrp\u001b[0m \u001b[1;33m=\u001b[0m \u001b[0mrequests\u001b[0m\u001b[1;33m.\u001b[0m\u001b[0mget\u001b[0m\u001b[1;33m(\u001b[0m\u001b[1;34m\"%s/json/new?%s\"\u001b[0m \u001b[1;33m%\u001b[0m \u001b[1;33m(\u001b[0m\u001b[0mself\u001b[0m\u001b[1;33m.\u001b[0m\u001b[0mdev_url\u001b[0m\u001b[1;33m,\u001b[0m \u001b[0murl\u001b[0m\u001b[1;33m)\u001b[0m\u001b[1;33m,\u001b[0m \u001b[0mjson\u001b[0m\u001b[1;33m=\u001b[0m\u001b[1;32mTrue\u001b[0m\u001b[1;33m,\u001b[0m \u001b[0mtimeout\u001b[0m\u001b[1;33m=\u001b[0m\u001b[0mtimeout\u001b[0m\u001b[1;33m)\u001b[0m\u001b[1;33m\u001b[0m\u001b[1;33m\u001b[0m\u001b[0m\n\u001b[0m\u001b[0;32m     28\u001b[0m         \u001b[0mtab\u001b[0m \u001b[1;33m=\u001b[0m \u001b[0mTab\u001b[0m\u001b[1;33m(\u001b[0m\u001b[1;33m**\u001b[0m\u001b[0mrp\u001b[0m\u001b[1;33m.\u001b[0m\u001b[0mjson\u001b[0m\u001b[1;33m(\u001b[0m\u001b[1;33m)\u001b[0m\u001b[1;33m)\u001b[0m\u001b[1;33m\u001b[0m\u001b[1;33m\u001b[0m\u001b[0m\n\u001b[0;32m     29\u001b[0m         \u001b[0mself\u001b[0m\u001b[1;33m.\u001b[0m\u001b[0m_tabs\u001b[0m\u001b[1;33m[\u001b[0m\u001b[0mtab\u001b[0m\u001b[1;33m.\u001b[0m\u001b[0mid\u001b[0m\u001b[1;33m]\u001b[0m \u001b[1;33m=\u001b[0m \u001b[0mtab\u001b[0m\u001b[1;33m\u001b[0m\u001b[1;33m\u001b[0m\u001b[0m\n",
      "\u001b[1;32m~\\AppData\\Local\\Packages\\PythonSoftwareFoundation.Python.3.9_qbz5n2kfra8p0\\LocalCache\\local-packages\\Python39\\site-packages\\requests\\api.py\u001b[0m in \u001b[0;36mget\u001b[1;34m(url, params, **kwargs)\u001b[0m\n\u001b[0;32m     74\u001b[0m \u001b[1;33m\u001b[0m\u001b[0m\n\u001b[0;32m     75\u001b[0m     \u001b[0mkwargs\u001b[0m\u001b[1;33m.\u001b[0m\u001b[0msetdefault\u001b[0m\u001b[1;33m(\u001b[0m\u001b[1;34m'allow_redirects'\u001b[0m\u001b[1;33m,\u001b[0m \u001b[1;32mTrue\u001b[0m\u001b[1;33m)\u001b[0m\u001b[1;33m\u001b[0m\u001b[1;33m\u001b[0m\u001b[0m\n\u001b[1;32m---> 76\u001b[1;33m     \u001b[1;32mreturn\u001b[0m \u001b[0mrequest\u001b[0m\u001b[1;33m(\u001b[0m\u001b[1;34m'get'\u001b[0m\u001b[1;33m,\u001b[0m \u001b[0murl\u001b[0m\u001b[1;33m,\u001b[0m \u001b[0mparams\u001b[0m\u001b[1;33m=\u001b[0m\u001b[0mparams\u001b[0m\u001b[1;33m,\u001b[0m \u001b[1;33m**\u001b[0m\u001b[0mkwargs\u001b[0m\u001b[1;33m)\u001b[0m\u001b[1;33m\u001b[0m\u001b[1;33m\u001b[0m\u001b[0m\n\u001b[0m\u001b[0;32m     77\u001b[0m \u001b[1;33m\u001b[0m\u001b[0m\n\u001b[0;32m     78\u001b[0m \u001b[1;33m\u001b[0m\u001b[0m\n",
      "\u001b[1;32m~\\AppData\\Local\\Packages\\PythonSoftwareFoundation.Python.3.9_qbz5n2kfra8p0\\LocalCache\\local-packages\\Python39\\site-packages\\requests\\api.py\u001b[0m in \u001b[0;36mrequest\u001b[1;34m(method, url, **kwargs)\u001b[0m\n\u001b[0;32m     59\u001b[0m     \u001b[1;31m# cases, and look like a memory leak in others.\u001b[0m\u001b[1;33m\u001b[0m\u001b[1;33m\u001b[0m\u001b[0m\n\u001b[0;32m     60\u001b[0m     \u001b[1;32mwith\u001b[0m \u001b[0msessions\u001b[0m\u001b[1;33m.\u001b[0m\u001b[0mSession\u001b[0m\u001b[1;33m(\u001b[0m\u001b[1;33m)\u001b[0m \u001b[1;32mas\u001b[0m \u001b[0msession\u001b[0m\u001b[1;33m:\u001b[0m\u001b[1;33m\u001b[0m\u001b[1;33m\u001b[0m\u001b[0m\n\u001b[1;32m---> 61\u001b[1;33m         \u001b[1;32mreturn\u001b[0m \u001b[0msession\u001b[0m\u001b[1;33m.\u001b[0m\u001b[0mrequest\u001b[0m\u001b[1;33m(\u001b[0m\u001b[0mmethod\u001b[0m\u001b[1;33m=\u001b[0m\u001b[0mmethod\u001b[0m\u001b[1;33m,\u001b[0m \u001b[0murl\u001b[0m\u001b[1;33m=\u001b[0m\u001b[0murl\u001b[0m\u001b[1;33m,\u001b[0m \u001b[1;33m**\u001b[0m\u001b[0mkwargs\u001b[0m\u001b[1;33m)\u001b[0m\u001b[1;33m\u001b[0m\u001b[1;33m\u001b[0m\u001b[0m\n\u001b[0m\u001b[0;32m     62\u001b[0m \u001b[1;33m\u001b[0m\u001b[0m\n\u001b[0;32m     63\u001b[0m \u001b[1;33m\u001b[0m\u001b[0m\n",
      "\u001b[1;32m~\\AppData\\Local\\Packages\\PythonSoftwareFoundation.Python.3.9_qbz5n2kfra8p0\\LocalCache\\local-packages\\Python39\\site-packages\\requests\\sessions.py\u001b[0m in \u001b[0;36mrequest\u001b[1;34m(self, method, url, params, data, headers, cookies, files, auth, timeout, allow_redirects, proxies, hooks, stream, verify, cert, json)\u001b[0m\n\u001b[0;32m    540\u001b[0m         }\n\u001b[0;32m    541\u001b[0m         \u001b[0msend_kwargs\u001b[0m\u001b[1;33m.\u001b[0m\u001b[0mupdate\u001b[0m\u001b[1;33m(\u001b[0m\u001b[0msettings\u001b[0m\u001b[1;33m)\u001b[0m\u001b[1;33m\u001b[0m\u001b[1;33m\u001b[0m\u001b[0m\n\u001b[1;32m--> 542\u001b[1;33m         \u001b[0mresp\u001b[0m \u001b[1;33m=\u001b[0m \u001b[0mself\u001b[0m\u001b[1;33m.\u001b[0m\u001b[0msend\u001b[0m\u001b[1;33m(\u001b[0m\u001b[0mprep\u001b[0m\u001b[1;33m,\u001b[0m \u001b[1;33m**\u001b[0m\u001b[0msend_kwargs\u001b[0m\u001b[1;33m)\u001b[0m\u001b[1;33m\u001b[0m\u001b[1;33m\u001b[0m\u001b[0m\n\u001b[0m\u001b[0;32m    543\u001b[0m \u001b[1;33m\u001b[0m\u001b[0m\n\u001b[0;32m    544\u001b[0m         \u001b[1;32mreturn\u001b[0m \u001b[0mresp\u001b[0m\u001b[1;33m\u001b[0m\u001b[1;33m\u001b[0m\u001b[0m\n",
      "\u001b[1;32m~\\AppData\\Local\\Packages\\PythonSoftwareFoundation.Python.3.9_qbz5n2kfra8p0\\LocalCache\\local-packages\\Python39\\site-packages\\requests\\sessions.py\u001b[0m in \u001b[0;36msend\u001b[1;34m(self, request, **kwargs)\u001b[0m\n\u001b[0;32m    653\u001b[0m \u001b[1;33m\u001b[0m\u001b[0m\n\u001b[0;32m    654\u001b[0m         \u001b[1;31m# Send the request\u001b[0m\u001b[1;33m\u001b[0m\u001b[1;33m\u001b[0m\u001b[0m\n\u001b[1;32m--> 655\u001b[1;33m         \u001b[0mr\u001b[0m \u001b[1;33m=\u001b[0m \u001b[0madapter\u001b[0m\u001b[1;33m.\u001b[0m\u001b[0msend\u001b[0m\u001b[1;33m(\u001b[0m\u001b[0mrequest\u001b[0m\u001b[1;33m,\u001b[0m \u001b[1;33m**\u001b[0m\u001b[0mkwargs\u001b[0m\u001b[1;33m)\u001b[0m\u001b[1;33m\u001b[0m\u001b[1;33m\u001b[0m\u001b[0m\n\u001b[0m\u001b[0;32m    656\u001b[0m \u001b[1;33m\u001b[0m\u001b[0m\n\u001b[0;32m    657\u001b[0m         \u001b[1;31m# Total elapsed time of the request (approximately)\u001b[0m\u001b[1;33m\u001b[0m\u001b[1;33m\u001b[0m\u001b[0m\n",
      "\u001b[1;32m~\\AppData\\Local\\Packages\\PythonSoftwareFoundation.Python.3.9_qbz5n2kfra8p0\\LocalCache\\local-packages\\Python39\\site-packages\\requests\\adapters.py\u001b[0m in \u001b[0;36msend\u001b[1;34m(self, request, stream, timeout, verify, cert, proxies)\u001b[0m\n\u001b[0;32m    514\u001b[0m                 \u001b[1;32mraise\u001b[0m \u001b[0mSSLError\u001b[0m\u001b[1;33m(\u001b[0m\u001b[0me\u001b[0m\u001b[1;33m,\u001b[0m \u001b[0mrequest\u001b[0m\u001b[1;33m=\u001b[0m\u001b[0mrequest\u001b[0m\u001b[1;33m)\u001b[0m\u001b[1;33m\u001b[0m\u001b[1;33m\u001b[0m\u001b[0m\n\u001b[0;32m    515\u001b[0m \u001b[1;33m\u001b[0m\u001b[0m\n\u001b[1;32m--> 516\u001b[1;33m             \u001b[1;32mraise\u001b[0m \u001b[0mConnectionError\u001b[0m\u001b[1;33m(\u001b[0m\u001b[0me\u001b[0m\u001b[1;33m,\u001b[0m \u001b[0mrequest\u001b[0m\u001b[1;33m=\u001b[0m\u001b[0mrequest\u001b[0m\u001b[1;33m)\u001b[0m\u001b[1;33m\u001b[0m\u001b[1;33m\u001b[0m\u001b[0m\n\u001b[0m\u001b[0;32m    517\u001b[0m \u001b[1;33m\u001b[0m\u001b[0m\n\u001b[0;32m    518\u001b[0m         \u001b[1;32mexcept\u001b[0m \u001b[0mClosedPoolError\u001b[0m \u001b[1;32mas\u001b[0m \u001b[0me\u001b[0m\u001b[1;33m:\u001b[0m\u001b[1;33m\u001b[0m\u001b[1;33m\u001b[0m\u001b[0m\n",
      "\u001b[1;31mConnectionError\u001b[0m: HTTPConnectionPool(host='localhost', port=9225): Max retries exceeded with url: /json/new (Caused by NewConnectionError('<urllib3.connection.HTTPConnection object at 0x000001868FA5FB50>: Failed to establish a new connection: [WinError 10061] No connection could be made because the target machine actively refused it'))"
     ]
    }
   ],
   "source": [
    "import time\n",
    "import pychrome\n",
    "\n",
    "# Set up the Chrome instance with remote debugging enabled\n",
    "chrome = pychrome.Browser(url=\"http://localhost:9222\")\n",
    "\n",
    "# Navigate to the page you want to test\n",
    "tab = chrome.new_tab()\n",
    "tab.Page.navigate(url=\"http://localhost:8000\")\n",
    "tab.wait(5)\n",
    "\n",
    "# Enable the necessary performance domains\n",
    "tab.Page.enable()\n",
    "tab.Network.enable()\n",
    "tab.Performance.enable()\n",
    "\n",
    "# Wait for the page to load and then collect the metrics\n",
    "time.sleep(5)\n",
    "metrics = tab.Performance.getMetrics()\n",
    "\n",
    "# Print out the metrics of interest\n",
    "print(f\"DomContentLoaded: {metrics['metrics']['DomContentLoaded']}\")\n",
    "print(f\"FirstLayout: {metrics['metrics']['FirstLayout']}\")\n",
    "print(f\"FirstPaint: {metrics['metrics']['FirstPaint']}\")\n",
    "print(f\"FirstMeaningfulPaint: {metrics['metrics']['FirstMeaningfulPaint']}\")\n",
    "print(f\"FirstContentfulPaint: {metrics['metrics']['FirstContentfulPaint']}\")\n",
    "\n",
    "# Close the tab and the Chrome instance\n",
    "chrome.close_tab(tab)\n",
    "chrome.close()\n"
   ]
  },
  {
   "cell_type": "code",
   "execution_count": 199,
   "metadata": {},
   "outputs": [
    {
     "ename": "JSONDecodeError",
     "evalue": "Expecting value: line 1 column 1 (char 0)",
     "output_type": "error",
     "traceback": [
      "\u001b[1;31m---------------------------------------------------------------------------\u001b[0m",
      "\u001b[1;31mJSONDecodeError\u001b[0m                           Traceback (most recent call last)",
      "\u001b[1;32m<ipython-input-199-3ba1c3928318>\u001b[0m in \u001b[0;36m<module>\u001b[1;34m\u001b[0m\n\u001b[0;32m      7\u001b[0m \u001b[1;31m# send a request to get the performance metrics\u001b[0m\u001b[1;33m\u001b[0m\u001b[1;33m\u001b[0m\u001b[0m\n\u001b[0;32m      8\u001b[0m \u001b[0mresponse\u001b[0m \u001b[1;33m=\u001b[0m \u001b[0mrequests\u001b[0m\u001b[1;33m.\u001b[0m\u001b[0mget\u001b[0m\u001b[1;33m(\u001b[0m\u001b[0mperf_url\u001b[0m\u001b[1;33m)\u001b[0m\u001b[1;33m\u001b[0m\u001b[1;33m\u001b[0m\u001b[0m\n\u001b[1;32m----> 9\u001b[1;33m \u001b[0mmetrics\u001b[0m \u001b[1;33m=\u001b[0m \u001b[0mjson\u001b[0m\u001b[1;33m.\u001b[0m\u001b[0mloads\u001b[0m\u001b[1;33m(\u001b[0m\u001b[0mresponse\u001b[0m\u001b[1;33m.\u001b[0m\u001b[0mcontent\u001b[0m\u001b[1;33m)\u001b[0m\u001b[1;33m\u001b[0m\u001b[1;33m\u001b[0m\u001b[0m\n\u001b[0m\u001b[0;32m     10\u001b[0m \u001b[1;33m\u001b[0m\u001b[0m\n\u001b[0;32m     11\u001b[0m \u001b[1;31m# extract the relevant information from the metrics object\u001b[0m\u001b[1;33m\u001b[0m\u001b[1;33m\u001b[0m\u001b[0m\n",
      "\u001b[1;32mC:\\Program Files\\WindowsApps\\PythonSoftwareFoundation.Python.3.9_3.9.3568.0_x64__qbz5n2kfra8p0\\lib\\json\\__init__.py\u001b[0m in \u001b[0;36mloads\u001b[1;34m(s, cls, object_hook, parse_float, parse_int, parse_constant, object_pairs_hook, **kw)\u001b[0m\n\u001b[0;32m    344\u001b[0m             \u001b[0mparse_int\u001b[0m \u001b[1;32mis\u001b[0m \u001b[1;32mNone\u001b[0m \u001b[1;32mand\u001b[0m \u001b[0mparse_float\u001b[0m \u001b[1;32mis\u001b[0m \u001b[1;32mNone\u001b[0m \u001b[1;32mand\u001b[0m\u001b[1;33m\u001b[0m\u001b[1;33m\u001b[0m\u001b[0m\n\u001b[0;32m    345\u001b[0m             parse_constant is None and object_pairs_hook is None and not kw):\n\u001b[1;32m--> 346\u001b[1;33m         \u001b[1;32mreturn\u001b[0m \u001b[0m_default_decoder\u001b[0m\u001b[1;33m.\u001b[0m\u001b[0mdecode\u001b[0m\u001b[1;33m(\u001b[0m\u001b[0ms\u001b[0m\u001b[1;33m)\u001b[0m\u001b[1;33m\u001b[0m\u001b[1;33m\u001b[0m\u001b[0m\n\u001b[0m\u001b[0;32m    347\u001b[0m     \u001b[1;32mif\u001b[0m \u001b[0mcls\u001b[0m \u001b[1;32mis\u001b[0m \u001b[1;32mNone\u001b[0m\u001b[1;33m:\u001b[0m\u001b[1;33m\u001b[0m\u001b[1;33m\u001b[0m\u001b[0m\n\u001b[0;32m    348\u001b[0m         \u001b[0mcls\u001b[0m \u001b[1;33m=\u001b[0m \u001b[0mJSONDecoder\u001b[0m\u001b[1;33m\u001b[0m\u001b[1;33m\u001b[0m\u001b[0m\n",
      "\u001b[1;32mC:\\Program Files\\WindowsApps\\PythonSoftwareFoundation.Python.3.9_3.9.3568.0_x64__qbz5n2kfra8p0\\lib\\json\\decoder.py\u001b[0m in \u001b[0;36mdecode\u001b[1;34m(self, s, _w)\u001b[0m\n\u001b[0;32m    335\u001b[0m \u001b[1;33m\u001b[0m\u001b[0m\n\u001b[0;32m    336\u001b[0m         \"\"\"\n\u001b[1;32m--> 337\u001b[1;33m         \u001b[0mobj\u001b[0m\u001b[1;33m,\u001b[0m \u001b[0mend\u001b[0m \u001b[1;33m=\u001b[0m \u001b[0mself\u001b[0m\u001b[1;33m.\u001b[0m\u001b[0mraw_decode\u001b[0m\u001b[1;33m(\u001b[0m\u001b[0ms\u001b[0m\u001b[1;33m,\u001b[0m \u001b[0midx\u001b[0m\u001b[1;33m=\u001b[0m\u001b[0m_w\u001b[0m\u001b[1;33m(\u001b[0m\u001b[0ms\u001b[0m\u001b[1;33m,\u001b[0m \u001b[1;36m0\u001b[0m\u001b[1;33m)\u001b[0m\u001b[1;33m.\u001b[0m\u001b[0mend\u001b[0m\u001b[1;33m(\u001b[0m\u001b[1;33m)\u001b[0m\u001b[1;33m)\u001b[0m\u001b[1;33m\u001b[0m\u001b[1;33m\u001b[0m\u001b[0m\n\u001b[0m\u001b[0;32m    338\u001b[0m         \u001b[0mend\u001b[0m \u001b[1;33m=\u001b[0m \u001b[0m_w\u001b[0m\u001b[1;33m(\u001b[0m\u001b[0ms\u001b[0m\u001b[1;33m,\u001b[0m \u001b[0mend\u001b[0m\u001b[1;33m)\u001b[0m\u001b[1;33m.\u001b[0m\u001b[0mend\u001b[0m\u001b[1;33m(\u001b[0m\u001b[1;33m)\u001b[0m\u001b[1;33m\u001b[0m\u001b[1;33m\u001b[0m\u001b[0m\n\u001b[0;32m    339\u001b[0m         \u001b[1;32mif\u001b[0m \u001b[0mend\u001b[0m \u001b[1;33m!=\u001b[0m \u001b[0mlen\u001b[0m\u001b[1;33m(\u001b[0m\u001b[0ms\u001b[0m\u001b[1;33m)\u001b[0m\u001b[1;33m:\u001b[0m\u001b[1;33m\u001b[0m\u001b[1;33m\u001b[0m\u001b[0m\n",
      "\u001b[1;32mC:\\Program Files\\WindowsApps\\PythonSoftwareFoundation.Python.3.9_3.9.3568.0_x64__qbz5n2kfra8p0\\lib\\json\\decoder.py\u001b[0m in \u001b[0;36mraw_decode\u001b[1;34m(self, s, idx)\u001b[0m\n\u001b[0;32m    353\u001b[0m             \u001b[0mobj\u001b[0m\u001b[1;33m,\u001b[0m \u001b[0mend\u001b[0m \u001b[1;33m=\u001b[0m \u001b[0mself\u001b[0m\u001b[1;33m.\u001b[0m\u001b[0mscan_once\u001b[0m\u001b[1;33m(\u001b[0m\u001b[0ms\u001b[0m\u001b[1;33m,\u001b[0m \u001b[0midx\u001b[0m\u001b[1;33m)\u001b[0m\u001b[1;33m\u001b[0m\u001b[1;33m\u001b[0m\u001b[0m\n\u001b[0;32m    354\u001b[0m         \u001b[1;32mexcept\u001b[0m \u001b[0mStopIteration\u001b[0m \u001b[1;32mas\u001b[0m \u001b[0merr\u001b[0m\u001b[1;33m:\u001b[0m\u001b[1;33m\u001b[0m\u001b[1;33m\u001b[0m\u001b[0m\n\u001b[1;32m--> 355\u001b[1;33m             \u001b[1;32mraise\u001b[0m \u001b[0mJSONDecodeError\u001b[0m\u001b[1;33m(\u001b[0m\u001b[1;34m\"Expecting value\"\u001b[0m\u001b[1;33m,\u001b[0m \u001b[0ms\u001b[0m\u001b[1;33m,\u001b[0m \u001b[0merr\u001b[0m\u001b[1;33m.\u001b[0m\u001b[0mvalue\u001b[0m\u001b[1;33m)\u001b[0m \u001b[1;32mfrom\u001b[0m \u001b[1;32mNone\u001b[0m\u001b[1;33m\u001b[0m\u001b[1;33m\u001b[0m\u001b[0m\n\u001b[0m\u001b[0;32m    356\u001b[0m         \u001b[1;32mreturn\u001b[0m \u001b[0mobj\u001b[0m\u001b[1;33m,\u001b[0m \u001b[0mend\u001b[0m\u001b[1;33m\u001b[0m\u001b[1;33m\u001b[0m\u001b[0m\n",
      "\u001b[1;31mJSONDecodeError\u001b[0m: Expecting value: line 1 column 1 (char 0)"
     ]
    }
   ],
   "source": [
    "# choose the tab you want to test\n",
    "target_tab = tabs[0]['webSocketDebuggerUrl'][2:]\n",
    "\n",
    "# set the performance metrics endpoint for the chosen tab\n",
    "perf_url = \"http\"+target_tab + '/performance'\n",
    "\n",
    "# send a request to get the performance metrics\n",
    "response = requests.get(perf_url)\n",
    "metrics = json.loads(response.content)\n",
    "\n",
    "# extract the relevant information from the metrics object"
   ]
  },
  {
   "cell_type": "code",
   "execution_count": 193,
   "metadata": {},
   "outputs": [
    {
     "data": {
      "text/plain": [
       "[{'description': '',\n",
       "  'devtoolsFrontendUrl': '/devtools/inspector.html?ws=localhost:9222/devtools/page/F0A004B477B5FC63C8127AC832071B5F',\n",
       "  'id': 'F0A004B477B5FC63C8127AC832071B5F',\n",
       "  'title': 'localhost:9222/json',\n",
       "  'type': 'page',\n",
       "  'url': 'http://localhost:9222/json',\n",
       "  'webSocketDebuggerUrl': 'ws://localhost:9222/devtools/page/F0A004B477B5FC63C8127AC832071B5F'},\n",
       " {'description': '',\n",
       "  'devtoolsFrontendUrl': '/devtools/inspector.html?ws=localhost:9222/devtools/page/E6D91DEA6BE60843DB8478295390C130',\n",
       "  'id': 'E6D91DEA6BE60843DB8478295390C130',\n",
       "  'title': 'data:,',\n",
       "  'type': 'page',\n",
       "  'url': 'data:,',\n",
       "  'webSocketDebuggerUrl': 'ws://localhost:9222/devtools/page/E6D91DEA6BE60843DB8478295390C130'}]"
      ]
     },
     "execution_count": 193,
     "metadata": {},
     "output_type": "execute_result"
    }
   ],
   "source": [
    "metrics"
   ]
  },
  {
   "cell_type": "code",
   "execution_count": 187,
   "metadata": {},
   "outputs": [
    {
     "data": {
      "text/plain": [
       "[{'level': 'INFO',\n",
       "  'message': '{\"message\":{\"method\":\"Network.loadingFinished\",\"params\":{\"encodedDataLength\":0,\"requestId\":\"8AAC630E7B08B70650471A1ACEFFD16F\",\"shouldReportCorbBlocking\":false,\"timestamp\":1974532.501607}},\"webview\":\"8A7A2C6F6A7FA7AC6615B4AF7F486248\"}',\n",
       "  'timestamp': 1677660276310},\n",
       " {'level': 'INFO',\n",
       "  'message': '{\"message\":{\"method\":\"Page.loadEventFired\",\"params\":{\"timestamp\":1974532.634996}},\"webview\":\"8A7A2C6F6A7FA7AC6615B4AF7F486248\"}',\n",
       "  'timestamp': 1677660276310},\n",
       " {'level': 'INFO',\n",
       "  'message': '{\"message\":{\"method\":\"Page.frameStoppedLoading\",\"params\":{\"frameId\":\"8A7A2C6F6A7FA7AC6615B4AF7F486248\"}},\"webview\":\"8A7A2C6F6A7FA7AC6615B4AF7F486248\"}',\n",
       "  'timestamp': 1677660276310},\n",
       " {'level': 'INFO',\n",
       "  'message': '{\"message\":{\"method\":\"Page.domContentEventFired\",\"params\":{\"timestamp\":1974532.635242}},\"webview\":\"8A7A2C6F6A7FA7AC6615B4AF7F486248\"}',\n",
       "  'timestamp': 1677660276310},\n",
       " {'level': 'INFO',\n",
       "  'message': '{\"message\":{\"method\":\"Network.requestWillBeSent\",\"params\":{\"documentURL\":\"http://localhost:8000/\",\"frameId\":\"8A7A2C6F6A7FA7AC6615B4AF7F486248\",\"hasUserGesture\":false,\"initiator\":{\"type\":\"other\"},\"loaderId\":\"962AF82A2A947E22B9A9BD63A880D376\",\"redirectHasExtraInfo\":false,\"request\":{\"headers\":{\"Upgrade-Insecure-Requests\":\"1\",\"User-Agent\":\"Mozilla/5.0 (Windows NT 10.0; Win64; x64) AppleWebKit/537.36 (KHTML, like Gecko) Chrome/110.0.0.0 Safari/537.36\",\"sec-ch-ua\":\"\\\\\"Chromium\\\\\";v=\\\\\"110\\\\\", \\\\\"Not A(Brand\\\\\";v=\\\\\"24\\\\\", \\\\\"Google Chrome\\\\\";v=\\\\\"110\\\\\"\",\"sec-ch-ua-mobile\":\"?0\",\"sec-ch-ua-platform\":\"\\\\\"Windows\\\\\"\"},\"initialPriority\":\"VeryHigh\",\"isSameSite\":true,\"method\":\"GET\",\"mixedContentType\":\"none\",\"referrerPolicy\":\"strict-origin-when-cross-origin\",\"url\":\"http://localhost:8000/\"},\"requestId\":\"962AF82A2A947E22B9A9BD63A880D376\",\"timestamp\":1974532.740554,\"type\":\"Document\",\"wallTime\":1677660276.397157}},\"webview\":\"8A7A2C6F6A7FA7AC6615B4AF7F486248\"}',\n",
       "  'timestamp': 1677660276397},\n",
       " {'level': 'INFO',\n",
       "  'message': '{\"message\":{\"method\":\"Network.requestWillBeSentExtraInfo\",\"params\":{\"associatedCookies\":[],\"connectTiming\":{\"requestTime\":1974532.741415},\"headers\":{\"Accept\":\"text/html,application/xhtml+xml,application/xml;q=0.9,image/avif,image/webp,image/apng,*/*;q=0.8,application/signed-exchange;v=b3;q=0.7\",\"Accept-Encoding\":\"gzip, deflate, br\",\"Accept-Language\":\"en-GB,en-US;q=0.9,en;q=0.8\",\"Connection\":\"keep-alive\",\"Host\":\"localhost:8000\",\"Sec-Fetch-Dest\":\"document\",\"Sec-Fetch-Mode\":\"navigate\",\"Sec-Fetch-Site\":\"none\",\"Sec-Fetch-User\":\"?1\",\"Upgrade-Insecure-Requests\":\"1\",\"User-Agent\":\"Mozilla/5.0 (Windows NT 10.0; Win64; x64) AppleWebKit/537.36 (KHTML, like Gecko) Chrome/110.0.0.0 Safari/537.36\",\"sec-ch-ua\":\"\\\\\"Chromium\\\\\";v=\\\\\"110\\\\\", \\\\\"Not A(Brand\\\\\";v=\\\\\"24\\\\\", \\\\\"Google Chrome\\\\\";v=\\\\\"110\\\\\"\",\"sec-ch-ua-mobile\":\"?0\",\"sec-ch-ua-platform\":\"\\\\\"Windows\\\\\"\"},\"requestId\":\"962AF82A2A947E22B9A9BD63A880D376\"}},\"webview\":\"8A7A2C6F6A7FA7AC6615B4AF7F486248\"}',\n",
       "  'timestamp': 1677660276653},\n",
       " {'level': 'INFO',\n",
       "  'message': '{\"message\":{\"method\":\"Network.responseReceivedExtraInfo\",\"params\":{\"blockedCookies\":[],\"headers\":{\"Content-Length\":\"41445\",\"Content-type\":\"text/html\",\"Date\":\"Wed, 01 Mar 2023 08:44:36 GMT\",\"Last-Modified\":\"Wed, 01 Mar 2023 00:36:30 GMT\",\"Server\":\"SimpleHTTP/0.6 Python/3.8.10\"},\"headersText\":\"HTTP/1.0 200 OK\\\\r\\\\nServer: SimpleHTTP/0.6 Python/3.8.10\\\\r\\\\nDate: Wed, 01 Mar 2023 08:44:36 GMT\\\\r\\\\nContent-type: text/html\\\\r\\\\nContent-Length: 41445\\\\r\\\\nLast-Modified: Wed, 01 Mar 2023 00:36:30 GMT\\\\r\\\\n\\\\r\\\\n\",\"requestId\":\"962AF82A2A947E22B9A9BD63A880D376\",\"resourceIPAddressSpace\":\"Local\",\"statusCode\":200}},\"webview\":\"8A7A2C6F6A7FA7AC6615B4AF7F486248\"}',\n",
       "  'timestamp': 1677660276661},\n",
       " {'level': 'INFO',\n",
       "  'message': '{\"message\":{\"method\":\"Network.responseReceived\",\"params\":{\"frameId\":\"8A7A2C6F6A7FA7AC6615B4AF7F486248\",\"hasExtraInfo\":true,\"loaderId\":\"962AF82A2A947E22B9A9BD63A880D376\",\"requestId\":\"962AF82A2A947E22B9A9BD63A880D376\",\"response\":{\"alternateProtocolUsage\":\"unspecifiedReason\",\"connectionId\":43,\"connectionReused\":false,\"encodedDataLength\":188,\"fromDiskCache\":false,\"fromPrefetchCache\":false,\"fromServiceWorker\":false,\"headers\":{\"Content-Length\":\"41445\",\"Content-type\":\"text/html\",\"Date\":\"Wed, 01 Mar 2023 08:44:36 GMT\",\"Last-Modified\":\"Wed, 01 Mar 2023 00:36:30 GMT\",\"Server\":\"SimpleHTTP/0.6 Python/3.8.10\"},\"mimeType\":\"text/html\",\"protocol\":\"http/1.0\",\"remoteIPAddress\":\"127.0.0.1\",\"remotePort\":8000,\"responseTime\":1.67766027666001e+12,\"securityState\":\"secure\",\"status\":200,\"statusText\":\"OK\",\"timing\":{\"connectEnd\":253.957,\"connectStart\":0,\"dnsEnd\":0,\"dnsStart\":0,\"proxyEnd\":-1,\"proxyStart\":-1,\"pushEnd\":0,\"pushStart\":0,\"receiveHeadersEnd\":262.134,\"requestTime\":1974532.741415,\"sendEnd\":254.252,\"sendStart\":254.063,\"sslEnd\":-1,\"sslStart\":-1,\"workerFetchStart\":-1,\"workerReady\":-1,\"workerRespondWithSettled\":-1,\"workerStart\":-1},\"url\":\"http://localhost:8000/\"},\"timestamp\":1974533.004786,\"type\":\"Document\"}},\"webview\":\"8A7A2C6F6A7FA7AC6615B4AF7F486248\"}',\n",
       "  'timestamp': 1677660276662},\n",
       " {'level': 'INFO',\n",
       "  'message': '{\"message\":{\"method\":\"Page.frameStartedLoading\",\"params\":{\"frameId\":\"8A7A2C6F6A7FA7AC6615B4AF7F486248\"}},\"webview\":\"8A7A2C6F6A7FA7AC6615B4AF7F486248\"}',\n",
       "  'timestamp': 1677660276665},\n",
       " {'level': 'INFO',\n",
       "  'message': '{\"message\":{\"method\":\"Page.frameNavigated\",\"params\":{\"frame\":{\"adFrameStatus\":{\"adFrameType\":\"none\"},\"crossOriginIsolatedContextType\":\"NotIsolated\",\"domainAndRegistry\":\"\",\"gatedAPIFeatures\":[],\"id\":\"8A7A2C6F6A7FA7AC6615B4AF7F486248\",\"loaderId\":\"962AF82A2A947E22B9A9BD63A880D376\",\"mimeType\":\"text/html\",\"secureContextType\":\"SecureLocalhost\",\"securityOrigin\":\"http://localhost:8000\",\"url\":\"http://localhost:8000/\"},\"type\":\"Navigation\"}},\"webview\":\"8A7A2C6F6A7FA7AC6615B4AF7F486248\"}',\n",
       "  'timestamp': 1677660276688},\n",
       " {'level': 'INFO',\n",
       "  'message': '{\"message\":{\"method\":\"Network.dataReceived\",\"params\":{\"dataLength\":41445,\"encodedDataLength\":0,\"requestId\":\"962AF82A2A947E22B9A9BD63A880D376\",\"timestamp\":1974533.012658}},\"webview\":\"8A7A2C6F6A7FA7AC6615B4AF7F486248\"}',\n",
       "  'timestamp': 1677660276688},\n",
       " {'level': 'INFO',\n",
       "  'message': '{\"message\":{\"method\":\"Network.requestWillBeSent\",\"params\":{\"documentURL\":\"http://localhost:8000/\",\"frameId\":\"8A7A2C6F6A7FA7AC6615B4AF7F486248\",\"hasUserGesture\":false,\"initiator\":{\"columnNumber\":67,\"lineNumber\":3,\"type\":\"parser\",\"url\":\"http://localhost:8000/\"},\"loaderId\":\"962AF82A2A947E22B9A9BD63A880D376\",\"redirectHasExtraInfo\":false,\"request\":{\"headers\":{\"Referer\":\"http://localhost:8000/\",\"User-Agent\":\"Mozilla/5.0 (Windows NT 10.0; Win64; x64) AppleWebKit/537.36 (KHTML, like Gecko) Chrome/110.0.0.0 Safari/537.36\",\"sec-ch-ua\":\"\\\\\"Chromium\\\\\";v=\\\\\"110\\\\\", \\\\\"Not A(Brand\\\\\";v=\\\\\"24\\\\\", \\\\\"Google Chrome\\\\\";v=\\\\\"110\\\\\"\",\"sec-ch-ua-mobile\":\"?0\",\"sec-ch-ua-platform\":\"\\\\\"Windows\\\\\"\"},\"initialPriority\":\"High\",\"isSameSite\":false,\"method\":\"GET\",\"mixedContentType\":\"none\",\"referrerPolicy\":\"strict-origin-when-cross-origin\",\"url\":\"https://cdn.jsdelivr.net/npm/@tensorflow/tfjs@latest\"},\"requestId\":\"35028.2\",\"timestamp\":1974533.014163,\"type\":\"Script\",\"wallTime\":1677660276.671054}},\"webview\":\"8A7A2C6F6A7FA7AC6615B4AF7F486248\"}',\n",
       "  'timestamp': 1677660276688},\n",
       " {'level': 'INFO',\n",
       "  'message': '{\"message\":{\"method\":\"Network.requestWillBeSent\",\"params\":{\"documentURL\":\"http://localhost:8000/\",\"frameId\":\"8A7A2C6F6A7FA7AC6615B4AF7F486248\",\"hasUserGesture\":false,\"initiator\":{\"columnNumber\":97,\"lineNumber\":5,\"type\":\"parser\",\"url\":\"http://localhost:8000/\"},\"loaderId\":\"962AF82A2A947E22B9A9BD63A880D376\",\"redirectHasExtraInfo\":false,\"request\":{\"headers\":{\"Referer\":\"http://localhost:8000/\",\"User-Agent\":\"Mozilla/5.0 (Windows NT 10.0; Win64; x64) AppleWebKit/537.36 (KHTML, like Gecko) Chrome/110.0.0.0 Safari/537.36\",\"sec-ch-ua\":\"\\\\\"Chromium\\\\\";v=\\\\\"110\\\\\", \\\\\"Not A(Brand\\\\\";v=\\\\\"24\\\\\", \\\\\"Google Chrome\\\\\";v=\\\\\"110\\\\\"\",\"sec-ch-ua-mobile\":\"?0\",\"sec-ch-ua-platform\":\"\\\\\"Windows\\\\\"\"},\"initialPriority\":\"High\",\"isSameSite\":false,\"method\":\"GET\",\"mixedContentType\":\"none\",\"referrerPolicy\":\"strict-origin-when-cross-origin\",\"url\":\"https://cdn.jsdelivr.net/npm/@tensorflow/tfjs-backend-wasm/dist/tf-backend-wasm.js\"},\"requestId\":\"35028.3\",\"timestamp\":1974533.014651,\"type\":\"Script\",\"wallTime\":1677660276.671493}},\"webview\":\"8A7A2C6F6A7FA7AC6615B4AF7F486248\"}',\n",
       "  'timestamp': 1677660276688},\n",
       " {'level': 'INFO',\n",
       "  'message': '{\"message\":{\"method\":\"Network.requestWillBeSent\",\"params\":{\"documentURL\":\"http://localhost:8000/\",\"frameId\":\"8A7A2C6F6A7FA7AC6615B4AF7F486248\",\"hasUserGesture\":false,\"initiator\":{\"columnNumber\":50,\"lineNumber\":9,\"type\":\"parser\",\"url\":\"http://localhost:8000/\"},\"loaderId\":\"962AF82A2A947E22B9A9BD63A880D376\",\"redirectHasExtraInfo\":false,\"request\":{\"headers\":{\"Referer\":\"http://localhost:8000/\",\"User-Agent\":\"Mozilla/5.0 (Windows NT 10.0; Win64; x64) AppleWebKit/537.36 (KHTML, like Gecko) Chrome/110.0.0.0 Safari/537.36\",\"sec-ch-ua\":\"\\\\\"Chromium\\\\\";v=\\\\\"110\\\\\", \\\\\"Not A(Brand\\\\\";v=\\\\\"24\\\\\", \\\\\"Google Chrome\\\\\";v=\\\\\"110\\\\\"\",\"sec-ch-ua-mobile\":\"?0\",\"sec-ch-ua-platform\":\"\\\\\"Windows\\\\\"\"},\"initialPriority\":\"Low\",\"isSameSite\":true,\"method\":\"GET\",\"mixedContentType\":\"none\",\"referrerPolicy\":\"strict-origin-when-cross-origin\",\"url\":\"http://localhost:8000/test.jpg\"},\"requestId\":\"35028.4\",\"timestamp\":1974533.014906,\"type\":\"Image\",\"wallTime\":1677660276.671755}},\"webview\":\"8A7A2C6F6A7FA7AC6615B4AF7F486248\"}',\n",
       "  'timestamp': 1677660276688},\n",
       " {'level': 'INFO',\n",
       "  'message': '{\"message\":{\"method\":\"Network.loadingFinished\",\"params\":{\"encodedDataLength\":41633,\"requestId\":\"962AF82A2A947E22B9A9BD63A880D376\",\"shouldReportCorbBlocking\":false,\"timestamp\":1974533.00442}},\"webview\":\"8A7A2C6F6A7FA7AC6615B4AF7F486248\"}',\n",
       "  'timestamp': 1677660276689},\n",
       " {'level': 'INFO',\n",
       "  'message': '{\"message\":{\"method\":\"Page.frameResized\",\"params\":{}},\"webview\":\"8A7A2C6F6A7FA7AC6615B4AF7F486248\"}',\n",
       "  'timestamp': 1677660276722},\n",
       " {'level': 'INFO',\n",
       "  'message': '{\"message\":{\"method\":\"Network.requestWillBeSentExtraInfo\",\"params\":{\"associatedCookies\":[],\"clientSecurityState\":{\"initiatorIPAddressSpace\":\"Local\",\"initiatorIsSecureContext\":true,\"privateNetworkRequestPolicy\":\"PreflightWarn\"},\"connectTiming\":{\"requestTime\":1974533.014758},\"headers\":{\":authority\":\"cdn.jsdelivr.net\",\":method\":\"GET\",\":path\":\"/npm/@tensorflow/tfjs@latest\",\":scheme\":\"https\",\"accept\":\"*/*\",\"accept-encoding\":\"gzip, deflate, br\",\"accept-language\":\"en-GB,en-US;q=0.9,en;q=0.8\",\"referer\":\"http://localhost:8000/\",\"sec-ch-ua\":\"\\\\\"Chromium\\\\\";v=\\\\\"110\\\\\", \\\\\"Not A(Brand\\\\\";v=\\\\\"24\\\\\", \\\\\"Google Chrome\\\\\";v=\\\\\"110\\\\\"\",\"sec-ch-ua-mobile\":\"?0\",\"sec-ch-ua-platform\":\"\\\\\"Windows\\\\\"\",\"sec-fetch-dest\":\"script\",\"sec-fetch-mode\":\"no-cors\",\"sec-fetch-site\":\"cross-site\",\"user-agent\":\"Mozilla/5.0 (Windows NT 10.0; Win64; x64) AppleWebKit/537.36 (KHTML, like Gecko) Chrome/110.0.0.0 Safari/537.36\"},\"requestId\":\"35028.2\"}},\"webview\":\"8A7A2C6F6A7FA7AC6615B4AF7F486248\"}',\n",
       "  'timestamp': 1677660276738},\n",
       " {'level': 'INFO',\n",
       "  'message': '{\"message\":{\"method\":\"Network.requestWillBeSentExtraInfo\",\"params\":{\"associatedCookies\":[],\"clientSecurityState\":{\"initiatorIPAddressSpace\":\"Local\",\"initiatorIsSecureContext\":true,\"privateNetworkRequestPolicy\":\"PreflightWarn\"},\"connectTiming\":{\"requestTime\":1974533.01505},\"headers\":{\":authority\":\"cdn.jsdelivr.net\",\":method\":\"GET\",\":path\":\"/npm/@tensorflow/tfjs-backend-wasm/dist/tf-backend-wasm.js\",\":scheme\":\"https\",\"accept\":\"*/*\",\"accept-encoding\":\"gzip, deflate, br\",\"accept-language\":\"en-GB,en-US;q=0.9,en;q=0.8\",\"referer\":\"http://localhost:8000/\",\"sec-ch-ua\":\"\\\\\"Chromium\\\\\";v=\\\\\"110\\\\\", \\\\\"Not A(Brand\\\\\";v=\\\\\"24\\\\\", \\\\\"Google Chrome\\\\\";v=\\\\\"110\\\\\"\",\"sec-ch-ua-mobile\":\"?0\",\"sec-ch-ua-platform\":\"\\\\\"Windows\\\\\"\",\"sec-fetch-dest\":\"script\",\"sec-fetch-mode\":\"no-cors\",\"sec-fetch-site\":\"cross-site\",\"user-agent\":\"Mozilla/5.0 (Windows NT 10.0; Win64; x64) AppleWebKit/537.36 (KHTML, like Gecko) Chrome/110.0.0.0 Safari/537.36\"},\"requestId\":\"35028.3\"}},\"webview\":\"8A7A2C6F6A7FA7AC6615B4AF7F486248\"}',\n",
       "  'timestamp': 1677660276739},\n",
       " {'level': 'INFO',\n",
       "  'message': '{\"message\":{\"method\":\"Network.responseReceivedExtraInfo\",\"params\":{\"blockedCookies\":[],\"headers\":{\"accept-ranges\":\"bytes\",\"access-control-allow-origin\":\"*\",\"access-control-expose-headers\":\"*\",\"age\":\"916\",\"alt-svc\":\"h3=\\\\\":443\\\\\";ma=86400,h3-29=\\\\\":443\\\\\";ma=86400,h3-27=\\\\\":443\\\\\";ma=86400\",\"cache-control\":\"public, max-age=604800, s-maxage=43200\",\"content-encoding\":\"gzip\",\"content-length\":\"325237\",\"content-type\":\"application/javascript; charset=utf-8\",\"cross-origin-resource-policy\":\"cross-origin\",\"date\":\"Wed, 01 Mar 2023 08:44:33 GMT\",\"etag\":\"W/\\\\\"13fccf-XMGs/YzMkclZb+UsOCjMw0oU3jc\\\\\"\",\"strict-transport-security\":\"max-age=31536000; includeSubDomains; preload\",\"timing-allow-origin\":\"*\",\"vary\":\"Accept-Encoding\",\"x-cache\":\"HIT, HIT\",\"x-content-type-options\":\"nosniff\",\"x-jsd-version\":\"4.2.0\",\"x-jsd-version-type\":\"version\",\"x-served-by\":\"cache-fra-eddf8230060-FRA, cache-bur-kbur8200054-BUR\"},\"requestId\":\"35028.2\",\"resourceIPAddressSpace\":\"Public\",\"statusCode\":200}},\"webview\":\"8A7A2C6F6A7FA7AC6615B4AF7F486248\"}',\n",
       "  'timestamp': 1677660276756},\n",
       " {'level': 'INFO',\n",
       "  'message': '{\"message\":{\"method\":\"Network.responseReceived\",\"params\":{\"frameId\":\"8A7A2C6F6A7FA7AC6615B4AF7F486248\",\"hasExtraInfo\":true,\"loaderId\":\"962AF82A2A947E22B9A9BD63A880D376\",\"requestId\":\"35028.2\",\"response\":{\"alternateProtocolUsage\":\"unspecifiedReason\",\"connectionId\":57,\"connectionReused\":false,\"encodedDataLength\":461,\"fromDiskCache\":false,\"fromPrefetchCache\":false,\"fromServiceWorker\":false,\"headers\":{\"accept-ranges\":\"bytes\",\"access-control-allow-origin\":\"*\",\"access-control-expose-headers\":\"*\",\"age\":\"916\",\"alt-svc\":\"h3=\\\\\":443\\\\\";ma=86400,h3-29=\\\\\":443\\\\\";ma=86400,h3-27=\\\\\":443\\\\\";ma=86400\",\"cache-control\":\"public, max-age=604800, s-maxage=43200\",\"content-encoding\":\"gzip\",\"content-length\":\"325237\",\"content-type\":\"application/javascript; charset=utf-8\",\"cross-origin-resource-policy\":\"cross-origin\",\"date\":\"Wed, 01 Mar 2023 08:44:33 GMT\",\"etag\":\"W/\\\\\"13fccf-XMGs/YzMkclZb+UsOCjMw0oU3jc\\\\\"\",\"strict-transport-security\":\"max-age=31536000; includeSubDomains; preload\",\"timing-allow-origin\":\"*\",\"vary\":\"Accept-Encoding\",\"x-cache\":\"HIT, HIT\",\"x-content-type-options\":\"nosniff\",\"x-jsd-version\":\"4.2.0\",\"x-jsd-version-type\":\"version\",\"x-served-by\":\"cache-fra-eddf8230060-FRA, cache-bur-kbur8200054-BUR\"},\"mimeType\":\"application/javascript\",\"protocol\":\"h2\",\"remoteIPAddress\":\"151.101.1.229\",\"remotePort\":443,\"responseTime\":1.677660276755106e+12,\"securityDetails\":{\"certificateId\":0,\"certificateTransparencyCompliance\":\"compliant\",\"cipher\":\"AES_128_GCM\",\"encryptedClientHello\":false,\"issuer\":\"GlobalSign Atlas R3 DV TLS CA 2022 Q4\",\"keyExchange\":\"\",\"keyExchangeGroup\":\"X25519\",\"protocol\":\"TLS 1.3\",\"sanList\":[\"jsdelivr.net\",\"*.jsdelivr.net\"],\"serverSignatureAlgorithm\":2052,\"signedCertificateTimestampList\":[{\"hashAlgorithm\":\"SHA-256\",\"logDescription\":\"Google \\'Xenon2024\\' log\",\"logId\":\"76FF883F0AB6FB9551C261CCF587BA34B4A4CDBB29DC68420A9FE6674C5A3A74\",\"origin\":\"Embedded in certificate\",\"signatureAlgorithm\":\"ECDSA\",\"signatureData\":\"304502201B1BEECDA363EA42255FE04DD0BF6976FF398D2A0080B4E3B206FE9F63FBD23D0221008B97DF108A32E43113B04411170495CA711DADF5239B0A387A762883D9D0FCC4\",\"status\":\"Verified\",\"timestamp\":1.671792914614e+12},{\"hashAlgorithm\":\"SHA-256\",\"logDescription\":\"Sectigo \\'Sabre\\' CT log\",\"logId\":\"5581D4C2169036014AEA0B9B573C53F0C0E43878702508172FA3AA1D0713D30C\",\"origin\":\"Embedded in certificate\",\"signatureAlgorithm\":\"ECDSA\",\"signatureData\":\"304602210080714616C35BA5A249315E982780DF6D4443814550498152F606C425A5B931A3022100B509D59FE3D6258141FCCC927961C98E29F3D148DEB39CD80B890D815F511E96\",\"status\":\"Verified\",\"timestamp\":1.671792914722e+12},{\"hashAlgorithm\":\"SHA-256\",\"logDescription\":\"Google \\'Argon2024\\' log\",\"logId\":\"EECDD064D5DB1ACEC55CB79DB4CD13A23287467CBCECDEC351485946711FB59B\",\"origin\":\"Embedded in certificate\",\"signatureAlgorithm\":\"ECDSA\",\"signatureData\":\"304502200882F6476AF4A74C0DA17B9A2702387A64736DA961A6AF09FB03A707F8477054022100F46C99A8405829FFAA06C3EC33AE1D2E87AFB89D8168821549EDD6A97BBBCA7E\",\"status\":\"Verified\",\"timestamp\":1.671792914669e+12}],\"subjectName\":\"jsdelivr.net\",\"validFrom\":1671792914,\"validTo\":1706093713},\"securityState\":\"secure\",\"status\":200,\"statusText\":\"\",\"timing\":{\"connectEnd\":64.295,\"connectStart\":21.812,\"dnsEnd\":21.812,\"dnsStart\":0.448,\"proxyEnd\":-1,\"proxyStart\":-1,\"pushEnd\":0,\"pushStart\":0,\"receiveHeadersEnd\":83.946,\"requestTime\":1974533.014758,\"sendEnd\":64.785,\"sendStart\":64.599,\"sslEnd\":64.285,\"sslStart\":33.311,\"workerFetchStart\":-1,\"workerReady\":-1,\"workerRespondWithSettled\":-1,\"workerStart\":-1},\"url\":\"https://cdn.jsdelivr.net/npm/@tensorflow/tfjs@latest\"},\"timestamp\":1974533.114873,\"type\":\"Script\"}},\"webview\":\"8A7A2C6F6A7FA7AC6615B4AF7F486248\"}',\n",
       "  'timestamp': 1677660276773},\n",
       " {'level': 'INFO',\n",
       "  'message': '{\"message\":{\"method\":\"Network.dataReceived\",\"params\":{\"dataLength\":44969,\"encodedDataLength\":0,\"requestId\":\"35028.2\",\"timestamp\":1974533.114968}},\"webview\":\"8A7A2C6F6A7FA7AC6615B4AF7F486248\"}',\n",
       "  'timestamp': 1677660276773},\n",
       " {'level': 'INFO',\n",
       "  'message': '{\"message\":{\"method\":\"Network.dataReceived\",\"params\":{\"dataLength\":47166,\"encodedDataLength\":32768,\"requestId\":\"35028.2\",\"timestamp\":1974533.127218}},\"webview\":\"8A7A2C6F6A7FA7AC6615B4AF7F486248\"}',\n",
       "  'timestamp': 1677660276784},\n",
       " {'level': 'INFO',\n",
       "  'message': '{\"message\":{\"method\":\"Network.dataReceived\",\"params\":{\"dataLength\":53844,\"encodedDataLength\":16384,\"requestId\":\"35028.2\",\"timestamp\":1974533.141054}},\"webview\":\"8A7A2C6F6A7FA7AC6615B4AF7F486248\"}',\n",
       "  'timestamp': 1677660276798},\n",
       " {'level': 'INFO',\n",
       "  'message': '{\"message\":{\"method\":\"Network.dataReceived\",\"params\":{\"dataLength\":52968,\"encodedDataLength\":16420,\"requestId\":\"35028.2\",\"timestamp\":1974533.154681}},\"webview\":\"8A7A2C6F6A7FA7AC6615B4AF7F486248\"}',\n",
       "  'timestamp': 1677660276812},\n",
       " {'level': 'INFO',\n",
       "  'message': '{\"message\":{\"method\":\"Network.dataReceived\",\"params\":{\"dataLength\":67222,\"encodedDataLength\":16384,\"requestId\":\"35028.2\",\"timestamp\":1974533.167108}},\"webview\":\"8A7A2C6F6A7FA7AC6615B4AF7F486248\"}',\n",
       "  'timestamp': 1677660276824},\n",
       " {'level': 'INFO',\n",
       "  'message': '{\"message\":{\"method\":\"Network.dataReceived\",\"params\":{\"dataLength\":59463,\"encodedDataLength\":16384,\"requestId\":\"35028.2\",\"timestamp\":1974533.181203}},\"webview\":\"8A7A2C6F6A7FA7AC6615B4AF7F486248\"}',\n",
       "  'timestamp': 1677660276838},\n",
       " {'level': 'INFO',\n",
       "  'message': '{\"message\":{\"method\":\"Network.dataReceived\",\"params\":{\"dataLength\":63265,\"encodedDataLength\":16384,\"requestId\":\"35028.2\",\"timestamp\":1974533.193489}},\"webview\":\"8A7A2C6F6A7FA7AC6615B4AF7F486248\"}',\n",
       "  'timestamp': 1677660276850},\n",
       " {'level': 'INFO',\n",
       "  'message': '{\"message\":{\"method\":\"Network.dataReceived\",\"params\":{\"dataLength\":65536,\"encodedDataLength\":16420,\"requestId\":\"35028.2\",\"timestamp\":1974533.211223}},\"webview\":\"8A7A2C6F6A7FA7AC6615B4AF7F486248\"}',\n",
       "  'timestamp': 1677660276868},\n",
       " {'level': 'INFO',\n",
       "  'message': '{\"message\":{\"method\":\"Network.dataReceived\",\"params\":{\"dataLength\":3971,\"encodedDataLength\":0,\"requestId\":\"35028.2\",\"timestamp\":1974533.213528}},\"webview\":\"8A7A2C6F6A7FA7AC6615B4AF7F486248\"}',\n",
       "  'timestamp': 1677660276871},\n",
       " {'level': 'INFO',\n",
       "  'message': '{\"message\":{\"method\":\"Network.responseReceivedExtraInfo\",\"params\":{\"blockedCookies\":[],\"headers\":{\"accept-ranges\":\"bytes\",\"access-control-allow-origin\":\"*\",\"access-control-expose-headers\":\"*\",\"age\":\"10208\",\"alt-svc\":\"h3=\\\\\":443\\\\\";ma=86400,h3-29=\\\\\":443\\\\\";ma=86400,h3-27=\\\\\":443\\\\\";ma=86400\",\"cache-control\":\"public, max-age=604800, s-maxage=43200\",\"content-encoding\":\"gzip\",\"content-length\":\"55395\",\"content-type\":\"application/javascript; charset=utf-8\",\"cross-origin-resource-policy\":\"cross-origin\",\"date\":\"Wed, 01 Mar 2023 08:44:33 GMT\",\"etag\":\"W/\\\\\"5d2fb-py5jrvx8sVMxv5M6WSPT7ZOyVIw\\\\\"\",\"strict-transport-security\":\"max-age=31536000; includeSubDomains; preload\",\"timing-allow-origin\":\"*\",\"vary\":\"Accept-Encoding\",\"x-cache\":\"HIT, HIT\",\"x-content-type-options\":\"nosniff\",\"x-jsd-version\":\"4.2.0\",\"x-jsd-version-type\":\"version\",\"x-served-by\":\"cache-fra-eddf8230038-FRA, cache-bur-kbur8200054-BUR\"},\"requestId\":\"35028.3\",\"resourceIPAddressSpace\":\"Public\",\"statusCode\":200}},\"webview\":\"8A7A2C6F6A7FA7AC6615B4AF7F486248\"}',\n",
       "  'timestamp': 1677660276876},\n",
       " {'level': 'INFO',\n",
       "  'message': '{\"message\":{\"method\":\"Network.dataReceived\",\"params\":{\"dataLength\":59176,\"encodedDataLength\":16269,\"requestId\":\"35028.2\",\"timestamp\":1974533.220535}},\"webview\":\"8A7A2C6F6A7FA7AC6615B4AF7F486248\"}',\n",
       "  'timestamp': 1677660276877},\n",
       " {'level': 'INFO',\n",
       "  'message': '{\"message\":{\"method\":\"Network.dataReceived\",\"params\":{\"dataLength\":65536,\"encodedDataLength\":16384,\"requestId\":\"35028.2\",\"timestamp\":1974533.235301}},\"webview\":\"8A7A2C6F6A7FA7AC6615B4AF7F486248\"}',\n",
       "  'timestamp': 1677660276904},\n",
       " {'level': 'INFO',\n",
       "  'message': '{\"message\":{\"method\":\"Network.dataReceived\",\"params\":{\"dataLength\":3603,\"encodedDataLength\":0,\"requestId\":\"35028.2\",\"timestamp\":1974533.237658}},\"webview\":\"8A7A2C6F6A7FA7AC6615B4AF7F486248\"}',\n",
       "  'timestamp': 1677660276905},\n",
       " {'level': 'INFO',\n",
       "  'message': '{\"message\":{\"method\":\"Network.dataReceived\",\"params\":{\"dataLength\":79626,\"encodedDataLength\":16384,\"requestId\":\"35028.2\",\"timestamp\":1974533.250234}},\"webview\":\"8A7A2C6F6A7FA7AC6615B4AF7F486248\"}',\n",
       "  'timestamp': 1677660276909},\n",
       " {'level': 'INFO',\n",
       "  'message': '{\"message\":{\"method\":\"Network.dataReceived\",\"params\":{\"dataLength\":65536,\"encodedDataLength\":16535,\"requestId\":\"35028.2\",\"timestamp\":1974533.264456}},\"webview\":\"8A7A2C6F6A7FA7AC6615B4AF7F486248\"}',\n",
       "  'timestamp': 1677660276922},\n",
       " {'level': 'INFO',\n",
       "  'message': '{\"message\":{\"method\":\"Network.dataReceived\",\"params\":{\"dataLength\":28463,\"encodedDataLength\":0,\"requestId\":\"35028.2\",\"timestamp\":1974533.266788}},\"webview\":\"8A7A2C6F6A7FA7AC6615B4AF7F486248\"}',\n",
       "  'timestamp': 1677660276924},\n",
       " {'level': 'INFO',\n",
       "  'message': '{\"message\":{\"method\":\"Network.dataReceived\",\"params\":{\"dataLength\":77690,\"encodedDataLength\":16384,\"requestId\":\"35028.2\",\"timestamp\":1974533.274113}},\"webview\":\"8A7A2C6F6A7FA7AC6615B4AF7F486248\"}',\n",
       "  'timestamp': 1677660276931},\n",
       " {'level': 'INFO',\n",
       "  'message': '{\"message\":{\"method\":\"Network.dataReceived\",\"params\":{\"dataLength\":56598,\"encodedDataLength\":16384,\"requestId\":\"35028.2\",\"timestamp\":1974533.287128}},\"webview\":\"8A7A2C6F6A7FA7AC6615B4AF7F486248\"}',\n",
       "  'timestamp': 1677660276944},\n",
       " {'level': 'INFO',\n",
       "  'message': '{\"message\":{\"method\":\"Network.dataReceived\",\"params\":{\"dataLength\":60088,\"encodedDataLength\":16384,\"requestId\":\"35028.2\",\"timestamp\":1974533.300158}},\"webview\":\"8A7A2C6F6A7FA7AC6615B4AF7F486248\"}',\n",
       "  'timestamp': 1677660276957},\n",
       " {'level': 'INFO',\n",
       "  'message': '{\"message\":{\"method\":\"Network.dataReceived\",\"params\":{\"dataLength\":76508,\"encodedDataLength\":16384,\"requestId\":\"35028.2\",\"timestamp\":1974533.314385}},\"webview\":\"8A7A2C6F6A7FA7AC6615B4AF7F486248\"}',\n",
       "  'timestamp': 1677660276971},\n",
       " {'level': 'INFO',\n",
       "  'message': '{\"message\":{\"method\":\"Network.dataReceived\",\"params\":{\"dataLength\":209,\"encodedDataLength\":36,\"requestId\":\"35028.2\",\"timestamp\":1974533.327259}},\"webview\":\"8A7A2C6F6A7FA7AC6615B4AF7F486248\"}',\n",
       "  'timestamp': 1677660276984},\n",
       " {'level': 'INFO',\n",
       "  'message': '{\"message\":{\"method\":\"Network.responseReceived\",\"params\":{\"frameId\":\"8A7A2C6F6A7FA7AC6615B4AF7F486248\",\"hasExtraInfo\":true,\"loaderId\":\"962AF82A2A947E22B9A9BD63A880D376\",\"requestId\":\"35028.3\",\"response\":{\"alternateProtocolUsage\":\"unspecifiedReason\",\"connectionId\":57,\"connectionReused\":true,\"encodedDataLength\":115,\"fromDiskCache\":false,\"fromPrefetchCache\":false,\"fromServiceWorker\":false,\"headers\":{\"accept-ranges\":\"bytes\",\"access-control-allow-origin\":\"*\",\"access-control-expose-headers\":\"*\",\"age\":\"10208\",\"alt-svc\":\"h3=\\\\\":443\\\\\";ma=86400,h3-29=\\\\\":443\\\\\";ma=86400,h3-27=\\\\\":443\\\\\";ma=86400\",\"cache-control\":\"public, max-age=604800, s-maxage=43200\",\"content-encoding\":\"gzip\",\"content-length\":\"55395\",\"content-type\":\"application/javascript; charset=utf-8\",\"cross-origin-resource-policy\":\"cross-origin\",\"date\":\"Wed, 01 Mar 2023 08:44:33 GMT\",\"etag\":\"W/\\\\\"5d2fb-py5jrvx8sVMxv5M6WSPT7ZOyVIw\\\\\"\",\"strict-transport-security\":\"max-age=31536000; includeSubDomains; preload\",\"timing-allow-origin\":\"*\",\"vary\":\"Accept-Encoding\",\"x-cache\":\"HIT, HIT\",\"x-content-type-options\":\"nosniff\",\"x-jsd-version\":\"4.2.0\",\"x-jsd-version-type\":\"version\",\"x-served-by\":\"cache-fra-eddf8230038-FRA, cache-bur-kbur8200054-BUR\"},\"mimeType\":\"application/javascript\",\"protocol\":\"h2\",\"remoteIPAddress\":\"151.101.1.229\",\"remotePort\":443,\"responseTime\":1.677660276874803e+12,\"securityDetails\":{\"certificateId\":0,\"certificateTransparencyCompliance\":\"compliant\",\"cipher\":\"AES_128_GCM\",\"encryptedClientHello\":false,\"issuer\":\"GlobalSign Atlas R3 DV TLS CA 2022 Q4\",\"keyExchange\":\"\",\"keyExchangeGroup\":\"X25519\",\"protocol\":\"TLS 1.3\",\"sanList\":[\"jsdelivr.net\",\"*.jsdelivr.net\"],\"serverSignatureAlgorithm\":2052,\"signedCertificateTimestampList\":[{\"hashAlgorithm\":\"SHA-256\",\"logDescription\":\"Google \\'Xenon2024\\' log\",\"logId\":\"76FF883F0AB6FB9551C261CCF587BA34B4A4CDBB29DC68420A9FE6674C5A3A74\",\"origin\":\"Embedded in certificate\",\"signatureAlgorithm\":\"ECDSA\",\"signatureData\":\"304502201B1BEECDA363EA42255FE04DD0BF6976FF398D2A0080B4E3B206FE9F63FBD23D0221008B97DF108A32E43113B04411170495CA711DADF5239B0A387A762883D9D0FCC4\",\"status\":\"Verified\",\"timestamp\":1.671792914614e+12},{\"hashAlgorithm\":\"SHA-256\",\"logDescription\":\"Sectigo \\'Sabre\\' CT log\",\"logId\":\"5581D4C2169036014AEA0B9B573C53F0C0E43878702508172FA3AA1D0713D30C\",\"origin\":\"Embedded in certificate\",\"signatureAlgorithm\":\"ECDSA\",\"signatureData\":\"304602210080714616C35BA5A249315E982780DF6D4443814550498152F606C425A5B931A3022100B509D59FE3D6258141FCCC927961C98E29F3D148DEB39CD80B890D815F511E96\",\"status\":\"Verified\",\"timestamp\":1.671792914722e+12},{\"hashAlgorithm\":\"SHA-256\",\"logDescription\":\"Google \\'Argon2024\\' log\",\"logId\":\"EECDD064D5DB1ACEC55CB79DB4CD13A23287467CBCECDEC351485946711FB59B\",\"origin\":\"Embedded in certificate\",\"signatureAlgorithm\":\"ECDSA\",\"signatureData\":\"304502200882F6476AF4A74C0DA17B9A2702387A64736DA961A6AF09FB03A707F8477054022100F46C99A8405829FFAA06C3EC33AE1D2E87AFB89D8168821549EDD6A97BBBCA7E\",\"status\":\"Verified\",\"timestamp\":1.671792914669e+12}],\"subjectName\":\"jsdelivr.net\",\"validFrom\":1671792914,\"validTo\":1706093713},\"securityState\":\"secure\",\"status\":200,\"statusText\":\"\",\"timing\":{\"connectEnd\":-1,\"connectStart\":-1,\"dnsEnd\":-1,\"dnsStart\":-1,\"proxyEnd\":-1,\"proxyStart\":-1,\"pushEnd\":0,\"pushStart\":0,\"receiveHeadersEnd\":203.548,\"requestTime\":1974533.01505,\"sendEnd\":64.495,\"sendStart\":64.365,\"sslEnd\":-1,\"sslStart\":-1,\"workerFetchStart\":-1,\"workerReady\":-1,\"workerRespondWithSettled\":-1,\"workerStart\":-1},\"url\":\"https://cdn.jsdelivr.net/npm/@tensorflow/tfjs-backend-wasm/dist/tf-backend-wasm.js\"},\"timestamp\":1974533.327998,\"type\":\"Script\"}},\"webview\":\"8A7A2C6F6A7FA7AC6615B4AF7F486248\"}',\n",
       "  'timestamp': 1677660276985},\n",
       " {'level': 'INFO',\n",
       "  'message': '{\"message\":{\"method\":\"Network.dataReceived\",\"params\":{\"dataLength\":107115,\"encodedDataLength\":0,\"requestId\":\"35028.3\",\"timestamp\":1974533.328069}},\"webview\":\"8A7A2C6F6A7FA7AC6615B4AF7F486248\"}',\n",
       "  'timestamp': 1677660276985},\n",
       " {'level': 'INFO',\n",
       "  'message': '{\"message\":{\"method\":\"Network.dataReceived\",\"params\":{\"dataLength\":65536,\"encodedDataLength\":32732,\"requestId\":\"35028.3\",\"timestamp\":1974533.341079}},\"webview\":\"8A7A2C6F6A7FA7AC6615B4AF7F486248\"}',\n",
       "  'timestamp': 1677660276998},\n",
       " {'level': 'INFO',\n",
       "  'message': '{\"message\":{\"method\":\"Network.dataReceived\",\"params\":{\"dataLength\":88197,\"encodedDataLength\":0,\"requestId\":\"35028.3\",\"timestamp\":1974533.341681}},\"webview\":\"8A7A2C6F6A7FA7AC6615B4AF7F486248\"}',\n",
       "  'timestamp': 1677660276998},\n",
       " {'level': 'INFO',\n",
       "  'message': '{\"message\":{\"method\":\"Network.dataReceived\",\"params\":{\"dataLength\":92277,\"encodedDataLength\":16384,\"requestId\":\"35028.3\",\"timestamp\":1974533.353076}},\"webview\":\"8A7A2C6F6A7FA7AC6615B4AF7F486248\"}',\n",
       "  'timestamp': 1677660277010},\n",
       " {'level': 'INFO',\n",
       "  'message': '{\"message\":{\"method\":\"Network.dataReceived\",\"params\":{\"dataLength\":28566,\"encodedDataLength\":6315,\"requestId\":\"35028.3\",\"timestamp\":1974533.358425}},\"webview\":\"8A7A2C6F6A7FA7AC6615B4AF7F486248\"}',\n",
       "  'timestamp': 1677660277015},\n",
       " {'level': 'INFO',\n",
       "  'message': '{\"message\":{\"method\":\"Network.loadingFinished\",\"params\":{\"encodedDataLength\":55546,\"requestId\":\"35028.3\",\"shouldReportCorbBlocking\":false,\"timestamp\":1974533.357731}},\"webview\":\"8A7A2C6F6A7FA7AC6615B4AF7F486248\"}',\n",
       "  'timestamp': 1677660277018},\n",
       " {'level': 'INFO',\n",
       "  'message': '{\"message\":{\"method\":\"Network.requestWillBeSentExtraInfo\",\"params\":{\"associatedCookies\":[],\"clientSecurityState\":{\"initiatorIPAddressSpace\":\"Local\",\"initiatorIsSecureContext\":true,\"privateNetworkRequestPolicy\":\"PreflightWarn\"},\"connectTiming\":{\"requestTime\":1974533.361131},\"headers\":{\"Accept\":\"image/avif,image/webp,image/apng,image/svg+xml,image/*,*/*;q=0.8\",\"Accept-Encoding\":\"gzip, deflate, br\",\"Accept-Language\":\"en-GB,en-US;q=0.9,en;q=0.8\",\"Connection\":\"keep-alive\",\"Host\":\"localhost:8000\",\"Referer\":\"http://localhost:8000/\",\"Sec-Fetch-Dest\":\"image\",\"Sec-Fetch-Mode\":\"no-cors\",\"Sec-Fetch-Site\":\"same-origin\",\"User-Agent\":\"Mozilla/5.0 (Windows NT 10.0; Win64; x64) AppleWebKit/537.36 (KHTML, like Gecko) Chrome/110.0.0.0 Safari/537.36\",\"sec-ch-ua\":\"\\\\\"Chromium\\\\\";v=\\\\\"110\\\\\", \\\\\"Not A(Brand\\\\\";v=\\\\\"24\\\\\", \\\\\"Google Chrome\\\\\";v=\\\\\"110\\\\\"\",\"sec-ch-ua-mobile\":\"?0\",\"sec-ch-ua-platform\":\"\\\\\"Windows\\\\\"\"},\"requestId\":\"35028.4\"}},\"webview\":\"8A7A2C6F6A7FA7AC6615B4AF7F486248\"}',\n",
       "  'timestamp': 1677660277019},\n",
       " {'level': 'INFO',\n",
       "  'message': '{\"message\":{\"method\":\"Network.responseReceivedExtraInfo\",\"params\":{\"blockedCookies\":[],\"headers\":{\"Content-Length\":\"537706\",\"Content-type\":\"image/jpeg\",\"Date\":\"Wed, 01 Mar 2023 08:44:37 GMT\",\"Last-Modified\":\"Wed, 01 Feb 2023 18:17:32 GMT\",\"Server\":\"SimpleHTTP/0.6 Python/3.8.10\"},\"headersText\":\"HTTP/1.0 200 OK\\\\r\\\\nServer: SimpleHTTP/0.6 Python/3.8.10\\\\r\\\\nDate: Wed, 01 Mar 2023 08:44:37 GMT\\\\r\\\\nContent-type: image/jpeg\\\\r\\\\nContent-Length: 537706\\\\r\\\\nLast-Modified: Wed, 01 Feb 2023 18:17:32 GMT\\\\r\\\\n\\\\r\\\\n\",\"requestId\":\"35028.4\",\"resourceIPAddressSpace\":\"Local\",\"statusCode\":200}},\"webview\":\"8A7A2C6F6A7FA7AC6615B4AF7F486248\"}',\n",
       "  'timestamp': 1677660277027},\n",
       " {'level': 'INFO',\n",
       "  'message': '{\"message\":{\"method\":\"Network.responseReceived\",\"params\":{\"frameId\":\"8A7A2C6F6A7FA7AC6615B4AF7F486248\",\"hasExtraInfo\":true,\"loaderId\":\"962AF82A2A947E22B9A9BD63A880D376\",\"requestId\":\"35028.4\",\"response\":{\"alternateProtocolUsage\":\"unspecifiedReason\",\"connectionId\":60,\"connectionReused\":true,\"encodedDataLength\":190,\"fromDiskCache\":false,\"fromPrefetchCache\":false,\"fromServiceWorker\":false,\"headers\":{\"Content-Length\":\"537706\",\"Content-type\":\"image/jpeg\",\"Date\":\"Wed, 01 Mar 2023 08:44:37 GMT\",\"Last-Modified\":\"Wed, 01 Feb 2023 18:17:32 GMT\",\"Server\":\"SimpleHTTP/0.6 Python/3.8.10\"},\"mimeType\":\"image/jpeg\",\"protocol\":\"http/1.0\",\"remoteIPAddress\":\"127.0.0.1\",\"remotePort\":8000,\"responseTime\":1.677660277025867e+12,\"securityState\":\"secure\",\"status\":200,\"statusText\":\"OK\",\"timing\":{\"connectEnd\":-1,\"connectStart\":-1,\"dnsEnd\":-1,\"dnsStart\":-1,\"proxyEnd\":-1,\"proxyStart\":-1,\"pushEnd\":0,\"pushStart\":0,\"receiveHeadersEnd\":8.264,\"requestTime\":1974533.361131,\"sendEnd\":0.527,\"sendStart\":0.431,\"sslEnd\":-1,\"sslStart\":-1,\"workerFetchStart\":-1,\"workerReady\":-1,\"workerRespondWithSettled\":-1,\"workerStart\":-1},\"url\":\"http://localhost:8000/test.jpg\"},\"timestamp\":1974533.370228,\"type\":\"Image\"}},\"webview\":\"8A7A2C6F6A7FA7AC6615B4AF7F486248\"}',\n",
       "  'timestamp': 1677660277028},\n",
       " {'level': 'INFO',\n",
       "  'message': '{\"message\":{\"method\":\"Network.dataReceived\",\"params\":{\"dataLength\":4088,\"encodedDataLength\":0,\"requestId\":\"35028.4\",\"timestamp\":1974533.370293}},\"webview\":\"8A7A2C6F6A7FA7AC6615B4AF7F486248\"}',\n",
       "  'timestamp': 1677660277028},\n",
       " {'level': 'INFO',\n",
       "  'message': '{\"message\":{\"method\":\"Network.dataReceived\",\"params\":{\"dataLength\":61448,\"encodedDataLength\":0,\"requestId\":\"35028.4\",\"timestamp\":1974533.370502}},\"webview\":\"8A7A2C6F6A7FA7AC6615B4AF7F486248\"}',\n",
       "  'timestamp': 1677660277028},\n",
       " {'level': 'INFO',\n",
       "  'message': '{\"message\":{\"method\":\"Network.dataReceived\",\"params\":{\"dataLength\":57232,\"encodedDataLength\":0,\"requestId\":\"35028.4\",\"timestamp\":1974533.370619}},\"webview\":\"8A7A2C6F6A7FA7AC6615B4AF7F486248\"}',\n",
       "  'timestamp': 1677660277028},\n",
       " {'level': 'INFO',\n",
       "  'message': '{\"message\":{\"method\":\"Network.dataReceived\",\"params\":{\"dataLength\":8304,\"encodedDataLength\":0,\"requestId\":\"35028.4\",\"timestamp\":1974533.370671}},\"webview\":\"8A7A2C6F6A7FA7AC6615B4AF7F486248\"}',\n",
       "  'timestamp': 1677660277028},\n",
       " {'level': 'INFO',\n",
       "  'message': '{\"message\":{\"method\":\"Network.dataReceived\",\"params\":{\"dataLength\":4088,\"encodedDataLength\":135160,\"requestId\":\"35028.4\",\"timestamp\":1974533.370923}},\"webview\":\"8A7A2C6F6A7FA7AC6615B4AF7F486248\"}',\n",
       "  'timestamp': 1677660277028},\n",
       " {'level': 'INFO',\n",
       "  'message': '{\"message\":{\"method\":\"Network.dataReceived\",\"params\":{\"dataLength\":61448,\"encodedDataLength\":61448,\"requestId\":\"35028.4\",\"timestamp\":1974533.370982}},\"webview\":\"8A7A2C6F6A7FA7AC6615B4AF7F486248\"}',\n",
       "  'timestamp': 1677660277028},\n",
       " {'level': 'INFO',\n",
       "  'message': '{\"message\":{\"method\":\"Network.dataReceived\",\"params\":{\"dataLength\":4088,\"encodedDataLength\":0,\"requestId\":\"35028.4\",\"timestamp\":1974533.371063}},\"webview\":\"8A7A2C6F6A7FA7AC6615B4AF7F486248\"}',\n",
       "  'timestamp': 1677660277028},\n",
       " {'level': 'INFO',\n",
       "  'message': '{\"message\":{\"method\":\"Network.dataReceived\",\"params\":{\"dataLength\":57232,\"encodedDataLength\":69624,\"requestId\":\"35028.4\",\"timestamp\":1974533.371337}},\"webview\":\"8A7A2C6F6A7FA7AC6615B4AF7F486248\"}',\n",
       "  'timestamp': 1677660277028},\n",
       " {'level': 'INFO',\n",
       "  'message': '{\"message\":{\"method\":\"Network.dataReceived\",\"params\":{\"dataLength\":8304,\"encodedDataLength\":0,\"requestId\":\"35028.4\",\"timestamp\":1974533.37142}},\"webview\":\"8A7A2C6F6A7FA7AC6615B4AF7F486248\"}',\n",
       "  'timestamp': 1677660277028},\n",
       " {'level': 'INFO',\n",
       "  'message': '{\"message\":{\"method\":\"Network.dataReceived\",\"params\":{\"dataLength\":53021,\"encodedDataLength\":53021,\"requestId\":\"35028.4\",\"timestamp\":1974533.371973}},\"webview\":\"8A7A2C6F6A7FA7AC6615B4AF7F486248\"}',\n",
       "  'timestamp': 1677660277029},\n",
       " {'level': 'INFO',\n",
       "  'message': '{\"message\":{\"method\":\"Network.dataReceived\",\"params\":{\"dataLength\":65536,\"encodedDataLength\":65536,\"requestId\":\"35028.4\",\"timestamp\":1974533.372713}},\"webview\":\"8A7A2C6F6A7FA7AC6615B4AF7F486248\"}',\n",
       "  'timestamp': 1677660277030},\n",
       " {'level': 'INFO',\n",
       "  'message': '{\"message\":{\"method\":\"Network.dataReceived\",\"params\":{\"dataLength\":65536,\"encodedDataLength\":65536,\"requestId\":\"35028.4\",\"timestamp\":1974533.373035}},\"webview\":\"8A7A2C6F6A7FA7AC6615B4AF7F486248\"}',\n",
       "  'timestamp': 1677660277030},\n",
       " {'level': 'INFO',\n",
       "  'message': '{\"message\":{\"method\":\"Network.dataReceived\",\"params\":{\"dataLength\":73963,\"encodedDataLength\":65536,\"requestId\":\"35028.4\",\"timestamp\":1974533.37337}},\"webview\":\"8A7A2C6F6A7FA7AC6615B4AF7F486248\"}',\n",
       "  'timestamp': 1677660277030},\n",
       " {'level': 'INFO',\n",
       "  'message': '{\"message\":{\"method\":\"Network.dataReceived\",\"params\":{\"dataLength\":63649,\"encodedDataLength\":16384,\"requestId\":\"35028.2\",\"timestamp\":1974533.373618}},\"webview\":\"8A7A2C6F6A7FA7AC6615B4AF7F486248\"}',\n",
       "  'timestamp': 1677660277030},\n",
       " {'level': 'INFO',\n",
       "  'message': '{\"message\":{\"method\":\"Network.dataReceived\",\"params\":{\"dataLength\":13418,\"encodedDataLength\":21845,\"requestId\":\"35028.4\",\"timestamp\":1974533.374568}},\"webview\":\"8A7A2C6F6A7FA7AC6615B4AF7F486248\"}',\n",
       "  'timestamp': 1677660277032},\n",
       " {'level': 'INFO',\n",
       "  'message': '{\"message\":{\"method\":\"Network.loadingFinished\",\"params\":{\"encodedDataLength\":537896,\"requestId\":\"35028.4\",\"shouldReportCorbBlocking\":false,\"timestamp\":1974533.374205}},\"webview\":\"8A7A2C6F6A7FA7AC6615B4AF7F486248\"}',\n",
       "  'timestamp': 1677660277033},\n",
       " {'level': 'INFO',\n",
       "  'message': '{\"message\":{\"method\":\"Network.dataReceived\",\"params\":{\"dataLength\":80796,\"encodedDataLength\":16384,\"requestId\":\"35028.2\",\"timestamp\":1974533.386673}},\"webview\":\"8A7A2C6F6A7FA7AC6615B4AF7F486248\"}',\n",
       "  'timestamp': 1677660277044},\n",
       " {'level': 'INFO',\n",
       "  'message': '{\"message\":{\"method\":\"Network.dataReceived\",\"params\":{\"dataLength\":79718,\"encodedDataLength\":16384,\"requestId\":\"35028.2\",\"timestamp\":1974533.398967}},\"webview\":\"8A7A2C6F6A7FA7AC6615B4AF7F486248\"}',\n",
       "  'timestamp': 1677660277056},\n",
       " {'level': 'INFO',\n",
       "  'message': '{\"message\":{\"method\":\"Network.dataReceived\",\"params\":{\"dataLength\":54303,\"encodedDataLength\":13977,\"requestId\":\"35028.2\",\"timestamp\":1974533.410797}},\"webview\":\"8A7A2C6F6A7FA7AC6615B4AF7F486248\"}',\n",
       "  'timestamp': 1677660277068},\n",
       " {'level': 'INFO',\n",
       "  'message': '{\"message\":{\"method\":\"Network.loadingFinished\",\"params\":{\"encodedDataLength\":325878,\"requestId\":\"35028.2\",\"shouldReportCorbBlocking\":false,\"timestamp\":1974533.410497}},\"webview\":\"8A7A2C6F6A7FA7AC6615B4AF7F486248\"}',\n",
       "  'timestamp': 1677660277098},\n",
       " {'level': 'INFO',\n",
       "  'message': '{\"message\":{\"method\":\"Network.requestWillBeSent\",\"params\":{\"documentURL\":\"http://localhost:8000/\",\"frameId\":\"8A7A2C6F6A7FA7AC6615B4AF7F486248\",\"hasUserGesture\":false,\"initiator\":{\"stack\":{\"callFrames\":[{\"columnNumber\":27,\"functionName\":\"instantiateAsync\",\"lineNumber\":6687,\"scriptId\":\"9\",\"url\":\"https://cdn.jsdelivr.net/npm/@tensorflow/tfjs-backend-wasm/dist/tf-backend-wasm.js\"},{\"columnNumber\":18,\"functionName\":\"createWasm\",\"lineNumber\":6700,\"scriptId\":\"9\",\"url\":\"https://cdn.jsdelivr.net/npm/@tensorflow/tfjs-backend-wasm/dist/tf-backend-wasm.js\"},{\"columnNumber\":16,\"functionName\":\"\",\"lineNumber\":6772,\"scriptId\":\"9\",\"url\":\"https://cdn.jsdelivr.net/npm/@tensorflow/tfjs-backend-wasm/dist/tf-backend-wasm.js\"},{\"columnNumber\":43,\"functionName\":\"\",\"lineNumber\":7218,\"scriptId\":\"9\",\"url\":\"https://cdn.jsdelivr.net/npm/@tensorflow/tfjs-backend-wasm/dist/tf-backend-wasm.js\"},{\"columnNumber\":46,\"functionName\":\"\",\"lineNumber\":7165,\"scriptId\":\"9\",\"url\":\"https://cdn.jsdelivr.net/npm/@tensorflow/tfjs-backend-wasm/dist/tf-backend-wasm.js\"},{\"columnNumber\":30,\"functionName\":\"step\",\"lineNumber\":149,\"scriptId\":\"9\",\"url\":\"https://cdn.jsdelivr.net/npm/@tensorflow/tfjs-backend-wasm/dist/tf-backend-wasm.js\"},{\"columnNumber\":56,\"functionName\":\"\",\"lineNumber\":98,\"scriptId\":\"9\",\"url\":\"https://cdn.jsdelivr.net/npm/@tensorflow/tfjs-backend-wasm/dist/tf-backend-wasm.js\"},{\"columnNumber\":31,\"functionName\":\"fulfilled\",\"lineNumber\":79,\"scriptId\":\"9\",\"url\":\"https://cdn.jsdelivr.net/npm/@tensorflow/tfjs-backend-wasm/dist/tf-backend-wasm.js\"}]},\"type\":\"script\"},\"loaderId\":\"962AF82A2A947E22B9A9BD63A880D376\",\"redirectHasExtraInfo\":false,\"request\":{\"headers\":{\"Referer\":\"http://localhost:8000/\",\"User-Agent\":\"Mozilla/5.0 (Windows NT 10.0; Win64; x64) AppleWebKit/537.36 (KHTML, like Gecko) Chrome/110.0.0.0 Safari/537.36\",\"sec-ch-ua\":\"\\\\\"Chromium\\\\\";v=\\\\\"110\\\\\", \\\\\"Not A(Brand\\\\\";v=\\\\\"24\\\\\", \\\\\"Google Chrome\\\\\";v=\\\\\"110\\\\\"\",\"sec-ch-ua-mobile\":\"?0\",\"sec-ch-ua-platform\":\"\\\\\"Windows\\\\\"\"},\"initialPriority\":\"High\",\"isSameSite\":false,\"method\":\"GET\",\"mixedContentType\":\"none\",\"referrerPolicy\":\"strict-origin-when-cross-origin\",\"url\":\"https://cdn.jsdelivr.net/npm/@tensorflow/tfjs-backend-wasm/dist/tfjs-backend-wasm-simd.wasm\"},\"requestId\":\"35028.8\",\"timestamp\":1974533.588648,\"type\":\"Fetch\",\"wallTime\":1677660277.247347}},\"webview\":\"8A7A2C6F6A7FA7AC6615B4AF7F486248\"}',\n",
       "  'timestamp': 1677660277248},\n",
       " {'level': 'INFO',\n",
       "  'message': '{\"message\":{\"method\":\"Page.loadEventFired\",\"params\":{\"timestamp\":1974533.603047}},\"webview\":\"8A7A2C6F6A7FA7AC6615B4AF7F486248\"}',\n",
       "  'timestamp': 1677660277261},\n",
       " {'level': 'INFO',\n",
       "  'message': '{\"message\":{\"method\":\"Page.frameStoppedLoading\",\"params\":{\"frameId\":\"8A7A2C6F6A7FA7AC6615B4AF7F486248\"}},\"webview\":\"8A7A2C6F6A7FA7AC6615B4AF7F486248\"}',\n",
       "  'timestamp': 1677660277261},\n",
       " {'level': 'INFO',\n",
       "  'message': '{\"message\":{\"method\":\"Page.domContentEventFired\",\"params\":{\"timestamp\":1974533.603386}},\"webview\":\"8A7A2C6F6A7FA7AC6615B4AF7F486248\"}',\n",
       "  'timestamp': 1677660277261},\n",
       " {'level': 'INFO',\n",
       "  'message': '{\"message\":{\"method\":\"Network.requestWillBeSent\",\"params\":{\"documentURL\":\"http://localhost:8000/\",\"frameId\":\"8A7A2C6F6A7FA7AC6615B4AF7F486248\",\"hasUserGesture\":false,\"initiator\":{\"type\":\"other\"},\"loaderId\":\"962AF82A2A947E22B9A9BD63A880D376\",\"redirectHasExtraInfo\":false,\"request\":{\"headers\":{\"Referer\":\"http://localhost:8000/\",\"User-Agent\":\"Mozilla/5.0 (Windows NT 10.0; Win64; x64) AppleWebKit/537.36 (KHTML, like Gecko) Chrome/110.0.0.0 Safari/537.36\",\"sec-ch-ua\":\"\\\\\"Chromium\\\\\";v=\\\\\"110\\\\\", \\\\\"Not A(Brand\\\\\";v=\\\\\"24\\\\\", \\\\\"Google Chrome\\\\\";v=\\\\\"110\\\\\"\",\"sec-ch-ua-mobile\":\"?0\",\"sec-ch-ua-platform\":\"\\\\\"Windows\\\\\"\"},\"initialPriority\":\"High\",\"isSameSite\":true,\"method\":\"GET\",\"mixedContentType\":\"none\",\"referrerPolicy\":\"strict-origin-when-cross-origin\",\"url\":\"http://localhost:8000/favicon.ico\"},\"requestId\":\"35028.9\",\"timestamp\":1974533.607837,\"type\":\"Other\",\"wallTime\":1677660277.26475}},\"webview\":\"8A7A2C6F6A7FA7AC6615B4AF7F486248\"}',\n",
       "  'timestamp': 1677660277266},\n",
       " {'level': 'INFO',\n",
       "  'message': '{\"message\":{\"method\":\"Page.frameResized\",\"params\":{}},\"webview\":\"8A7A2C6F6A7FA7AC6615B4AF7F486248\"}',\n",
       "  'timestamp': 1677660277267},\n",
       " {'level': 'INFO',\n",
       "  'message': '{\"message\":{\"method\":\"Network.requestWillBeSentExtraInfo\",\"params\":{\"associatedCookies\":[],\"clientSecurityState\":{\"initiatorIPAddressSpace\":\"Local\",\"initiatorIsSecureContext\":true,\"privateNetworkRequestPolicy\":\"PreflightWarn\"},\"connectTiming\":{\"requestTime\":1974533.608674},\"headers\":{\"Accept\":\"image/avif,image/webp,image/apng,image/svg+xml,image/*,*/*;q=0.8\",\"Accept-Encoding\":\"gzip, deflate, br\",\"Accept-Language\":\"en-GB,en-US;q=0.9,en;q=0.8\",\"Connection\":\"keep-alive\",\"Host\":\"localhost:8000\",\"Referer\":\"http://localhost:8000/\",\"Sec-Fetch-Dest\":\"image\",\"Sec-Fetch-Mode\":\"no-cors\",\"Sec-Fetch-Site\":\"same-origin\",\"User-Agent\":\"Mozilla/5.0 (Windows NT 10.0; Win64; x64) AppleWebKit/537.36 (KHTML, like Gecko) Chrome/110.0.0.0 Safari/537.36\",\"sec-ch-ua\":\"\\\\\"Chromium\\\\\";v=\\\\\"110\\\\\", \\\\\"Not A(Brand\\\\\";v=\\\\\"24\\\\\", \\\\\"Google Chrome\\\\\";v=\\\\\"110\\\\\"\",\"sec-ch-ua-mobile\":\"?0\",\"sec-ch-ua-platform\":\"\\\\\"Windows\\\\\"\"},\"requestId\":\"35028.9\"}},\"webview\":\"8A7A2C6F6A7FA7AC6615B4AF7F486248\"}',\n",
       "  'timestamp': 1677660277267}]"
      ]
     },
     "execution_count": 187,
     "metadata": {},
     "output_type": "execute_result"
    }
   ],
   "source": [
    "perf_logs"
   ]
  },
  {
   "cell_type": "code",
   "execution_count": 186,
   "metadata": {},
   "outputs": [
    {
     "data": {
      "text/plain": [
       "[{'encodedDataLength': 0,\n",
       "  'requestId': '8AAC630E7B08B70650471A1ACEFFD16F',\n",
       "  'shouldReportCorbBlocking': False,\n",
       "  'timestamp': 1974532.501607},\n",
       " {'timestamp': 1974532.634996},\n",
       " {'frameId': '8A7A2C6F6A7FA7AC6615B4AF7F486248'},\n",
       " {'timestamp': 1974532.635242},\n",
       " {'documentURL': 'http://localhost:8000/',\n",
       "  'frameId': '8A7A2C6F6A7FA7AC6615B4AF7F486248',\n",
       "  'hasUserGesture': False,\n",
       "  'initiator': {'type': 'other'},\n",
       "  'loaderId': '962AF82A2A947E22B9A9BD63A880D376',\n",
       "  'redirectHasExtraInfo': False,\n",
       "  'request': {'headers': {'Upgrade-Insecure-Requests': '1',\n",
       "    'User-Agent': 'Mozilla/5.0 (Windows NT 10.0; Win64; x64) AppleWebKit/537.36 (KHTML, like Gecko) Chrome/110.0.0.0 Safari/537.36',\n",
       "    'sec-ch-ua': '\"Chromium\";v=\"110\", \"Not A(Brand\";v=\"24\", \"Google Chrome\";v=\"110\"',\n",
       "    'sec-ch-ua-mobile': '?0',\n",
       "    'sec-ch-ua-platform': '\"Windows\"'},\n",
       "   'initialPriority': 'VeryHigh',\n",
       "   'isSameSite': True,\n",
       "   'method': 'GET',\n",
       "   'mixedContentType': 'none',\n",
       "   'referrerPolicy': 'strict-origin-when-cross-origin',\n",
       "   'url': 'http://localhost:8000/'},\n",
       "  'requestId': '962AF82A2A947E22B9A9BD63A880D376',\n",
       "  'timestamp': 1974532.740554,\n",
       "  'type': 'Document',\n",
       "  'wallTime': 1677660276.397157},\n",
       " {'associatedCookies': [],\n",
       "  'connectTiming': {'requestTime': 1974532.741415},\n",
       "  'headers': {'Accept': 'text/html,application/xhtml+xml,application/xml;q=0.9,image/avif,image/webp,image/apng,*/*;q=0.8,application/signed-exchange;v=b3;q=0.7',\n",
       "   'Accept-Encoding': 'gzip, deflate, br',\n",
       "   'Accept-Language': 'en-GB,en-US;q=0.9,en;q=0.8',\n",
       "   'Connection': 'keep-alive',\n",
       "   'Host': 'localhost:8000',\n",
       "   'Sec-Fetch-Dest': 'document',\n",
       "   'Sec-Fetch-Mode': 'navigate',\n",
       "   'Sec-Fetch-Site': 'none',\n",
       "   'Sec-Fetch-User': '?1',\n",
       "   'Upgrade-Insecure-Requests': '1',\n",
       "   'User-Agent': 'Mozilla/5.0 (Windows NT 10.0; Win64; x64) AppleWebKit/537.36 (KHTML, like Gecko) Chrome/110.0.0.0 Safari/537.36',\n",
       "   'sec-ch-ua': '\"Chromium\";v=\"110\", \"Not A(Brand\";v=\"24\", \"Google Chrome\";v=\"110\"',\n",
       "   'sec-ch-ua-mobile': '?0',\n",
       "   'sec-ch-ua-platform': '\"Windows\"'},\n",
       "  'requestId': '962AF82A2A947E22B9A9BD63A880D376'},\n",
       " {'blockedCookies': [],\n",
       "  'headers': {'Content-Length': '41445',\n",
       "   'Content-type': 'text/html',\n",
       "   'Date': 'Wed, 01 Mar 2023 08:44:36 GMT',\n",
       "   'Last-Modified': 'Wed, 01 Mar 2023 00:36:30 GMT',\n",
       "   'Server': 'SimpleHTTP/0.6 Python/3.8.10'},\n",
       "  'headersText': 'HTTP/1.0 200 OK\\r\\nServer: SimpleHTTP/0.6 Python/3.8.10\\r\\nDate: Wed, 01 Mar 2023 08:44:36 GMT\\r\\nContent-type: text/html\\r\\nContent-Length: 41445\\r\\nLast-Modified: Wed, 01 Mar 2023 00:36:30 GMT\\r\\n\\r\\n',\n",
       "  'requestId': '962AF82A2A947E22B9A9BD63A880D376',\n",
       "  'resourceIPAddressSpace': 'Local',\n",
       "  'statusCode': 200},\n",
       " {'frameId': '8A7A2C6F6A7FA7AC6615B4AF7F486248',\n",
       "  'hasExtraInfo': True,\n",
       "  'loaderId': '962AF82A2A947E22B9A9BD63A880D376',\n",
       "  'requestId': '962AF82A2A947E22B9A9BD63A880D376',\n",
       "  'response': {'alternateProtocolUsage': 'unspecifiedReason',\n",
       "   'connectionId': 43,\n",
       "   'connectionReused': False,\n",
       "   'encodedDataLength': 188,\n",
       "   'fromDiskCache': False,\n",
       "   'fromPrefetchCache': False,\n",
       "   'fromServiceWorker': False,\n",
       "   'headers': {'Content-Length': '41445',\n",
       "    'Content-type': 'text/html',\n",
       "    'Date': 'Wed, 01 Mar 2023 08:44:36 GMT',\n",
       "    'Last-Modified': 'Wed, 01 Mar 2023 00:36:30 GMT',\n",
       "    'Server': 'SimpleHTTP/0.6 Python/3.8.10'},\n",
       "   'mimeType': 'text/html',\n",
       "   'protocol': 'http/1.0',\n",
       "   'remoteIPAddress': '127.0.0.1',\n",
       "   'remotePort': 8000,\n",
       "   'responseTime': 1677660276660.01,\n",
       "   'securityState': 'secure',\n",
       "   'status': 200,\n",
       "   'statusText': 'OK',\n",
       "   'timing': {'connectEnd': 253.957,\n",
       "    'connectStart': 0,\n",
       "    'dnsEnd': 0,\n",
       "    'dnsStart': 0,\n",
       "    'proxyEnd': -1,\n",
       "    'proxyStart': -1,\n",
       "    'pushEnd': 0,\n",
       "    'pushStart': 0,\n",
       "    'receiveHeadersEnd': 262.134,\n",
       "    'requestTime': 1974532.741415,\n",
       "    'sendEnd': 254.252,\n",
       "    'sendStart': 254.063,\n",
       "    'sslEnd': -1,\n",
       "    'sslStart': -1,\n",
       "    'workerFetchStart': -1,\n",
       "    'workerReady': -1,\n",
       "    'workerRespondWithSettled': -1,\n",
       "    'workerStart': -1},\n",
       "   'url': 'http://localhost:8000/'},\n",
       "  'timestamp': 1974533.004786,\n",
       "  'type': 'Document'},\n",
       " {'frameId': '8A7A2C6F6A7FA7AC6615B4AF7F486248'},\n",
       " {'frame': {'adFrameStatus': {'adFrameType': 'none'},\n",
       "   'crossOriginIsolatedContextType': 'NotIsolated',\n",
       "   'domainAndRegistry': '',\n",
       "   'gatedAPIFeatures': [],\n",
       "   'id': '8A7A2C6F6A7FA7AC6615B4AF7F486248',\n",
       "   'loaderId': '962AF82A2A947E22B9A9BD63A880D376',\n",
       "   'mimeType': 'text/html',\n",
       "   'secureContextType': 'SecureLocalhost',\n",
       "   'securityOrigin': 'http://localhost:8000',\n",
       "   'url': 'http://localhost:8000/'},\n",
       "  'type': 'Navigation'},\n",
       " {'dataLength': 41445,\n",
       "  'encodedDataLength': 0,\n",
       "  'requestId': '962AF82A2A947E22B9A9BD63A880D376',\n",
       "  'timestamp': 1974533.012658},\n",
       " {'documentURL': 'http://localhost:8000/',\n",
       "  'frameId': '8A7A2C6F6A7FA7AC6615B4AF7F486248',\n",
       "  'hasUserGesture': False,\n",
       "  'initiator': {'columnNumber': 67,\n",
       "   'lineNumber': 3,\n",
       "   'type': 'parser',\n",
       "   'url': 'http://localhost:8000/'},\n",
       "  'loaderId': '962AF82A2A947E22B9A9BD63A880D376',\n",
       "  'redirectHasExtraInfo': False,\n",
       "  'request': {'headers': {'Referer': 'http://localhost:8000/',\n",
       "    'User-Agent': 'Mozilla/5.0 (Windows NT 10.0; Win64; x64) AppleWebKit/537.36 (KHTML, like Gecko) Chrome/110.0.0.0 Safari/537.36',\n",
       "    'sec-ch-ua': '\"Chromium\";v=\"110\", \"Not A(Brand\";v=\"24\", \"Google Chrome\";v=\"110\"',\n",
       "    'sec-ch-ua-mobile': '?0',\n",
       "    'sec-ch-ua-platform': '\"Windows\"'},\n",
       "   'initialPriority': 'High',\n",
       "   'isSameSite': False,\n",
       "   'method': 'GET',\n",
       "   'mixedContentType': 'none',\n",
       "   'referrerPolicy': 'strict-origin-when-cross-origin',\n",
       "   'url': 'https://cdn.jsdelivr.net/npm/@tensorflow/tfjs@latest'},\n",
       "  'requestId': '35028.2',\n",
       "  'timestamp': 1974533.014163,\n",
       "  'type': 'Script',\n",
       "  'wallTime': 1677660276.671054},\n",
       " {'documentURL': 'http://localhost:8000/',\n",
       "  'frameId': '8A7A2C6F6A7FA7AC6615B4AF7F486248',\n",
       "  'hasUserGesture': False,\n",
       "  'initiator': {'columnNumber': 97,\n",
       "   'lineNumber': 5,\n",
       "   'type': 'parser',\n",
       "   'url': 'http://localhost:8000/'},\n",
       "  'loaderId': '962AF82A2A947E22B9A9BD63A880D376',\n",
       "  'redirectHasExtraInfo': False,\n",
       "  'request': {'headers': {'Referer': 'http://localhost:8000/',\n",
       "    'User-Agent': 'Mozilla/5.0 (Windows NT 10.0; Win64; x64) AppleWebKit/537.36 (KHTML, like Gecko) Chrome/110.0.0.0 Safari/537.36',\n",
       "    'sec-ch-ua': '\"Chromium\";v=\"110\", \"Not A(Brand\";v=\"24\", \"Google Chrome\";v=\"110\"',\n",
       "    'sec-ch-ua-mobile': '?0',\n",
       "    'sec-ch-ua-platform': '\"Windows\"'},\n",
       "   'initialPriority': 'High',\n",
       "   'isSameSite': False,\n",
       "   'method': 'GET',\n",
       "   'mixedContentType': 'none',\n",
       "   'referrerPolicy': 'strict-origin-when-cross-origin',\n",
       "   'url': 'https://cdn.jsdelivr.net/npm/@tensorflow/tfjs-backend-wasm/dist/tf-backend-wasm.js'},\n",
       "  'requestId': '35028.3',\n",
       "  'timestamp': 1974533.014651,\n",
       "  'type': 'Script',\n",
       "  'wallTime': 1677660276.671493},\n",
       " {'documentURL': 'http://localhost:8000/',\n",
       "  'frameId': '8A7A2C6F6A7FA7AC6615B4AF7F486248',\n",
       "  'hasUserGesture': False,\n",
       "  'initiator': {'columnNumber': 50,\n",
       "   'lineNumber': 9,\n",
       "   'type': 'parser',\n",
       "   'url': 'http://localhost:8000/'},\n",
       "  'loaderId': '962AF82A2A947E22B9A9BD63A880D376',\n",
       "  'redirectHasExtraInfo': False,\n",
       "  'request': {'headers': {'Referer': 'http://localhost:8000/',\n",
       "    'User-Agent': 'Mozilla/5.0 (Windows NT 10.0; Win64; x64) AppleWebKit/537.36 (KHTML, like Gecko) Chrome/110.0.0.0 Safari/537.36',\n",
       "    'sec-ch-ua': '\"Chromium\";v=\"110\", \"Not A(Brand\";v=\"24\", \"Google Chrome\";v=\"110\"',\n",
       "    'sec-ch-ua-mobile': '?0',\n",
       "    'sec-ch-ua-platform': '\"Windows\"'},\n",
       "   'initialPriority': 'Low',\n",
       "   'isSameSite': True,\n",
       "   'method': 'GET',\n",
       "   'mixedContentType': 'none',\n",
       "   'referrerPolicy': 'strict-origin-when-cross-origin',\n",
       "   'url': 'http://localhost:8000/test.jpg'},\n",
       "  'requestId': '35028.4',\n",
       "  'timestamp': 1974533.014906,\n",
       "  'type': 'Image',\n",
       "  'wallTime': 1677660276.671755},\n",
       " {'encodedDataLength': 41633,\n",
       "  'requestId': '962AF82A2A947E22B9A9BD63A880D376',\n",
       "  'shouldReportCorbBlocking': False,\n",
       "  'timestamp': 1974533.00442},\n",
       " {},\n",
       " {'associatedCookies': [],\n",
       "  'clientSecurityState': {'initiatorIPAddressSpace': 'Local',\n",
       "   'initiatorIsSecureContext': True,\n",
       "   'privateNetworkRequestPolicy': 'PreflightWarn'},\n",
       "  'connectTiming': {'requestTime': 1974533.014758},\n",
       "  'headers': {':authority': 'cdn.jsdelivr.net',\n",
       "   ':method': 'GET',\n",
       "   ':path': '/npm/@tensorflow/tfjs@latest',\n",
       "   ':scheme': 'https',\n",
       "   'accept': '*/*',\n",
       "   'accept-encoding': 'gzip, deflate, br',\n",
       "   'accept-language': 'en-GB,en-US;q=0.9,en;q=0.8',\n",
       "   'referer': 'http://localhost:8000/',\n",
       "   'sec-ch-ua': '\"Chromium\";v=\"110\", \"Not A(Brand\";v=\"24\", \"Google Chrome\";v=\"110\"',\n",
       "   'sec-ch-ua-mobile': '?0',\n",
       "   'sec-ch-ua-platform': '\"Windows\"',\n",
       "   'sec-fetch-dest': 'script',\n",
       "   'sec-fetch-mode': 'no-cors',\n",
       "   'sec-fetch-site': 'cross-site',\n",
       "   'user-agent': 'Mozilla/5.0 (Windows NT 10.0; Win64; x64) AppleWebKit/537.36 (KHTML, like Gecko) Chrome/110.0.0.0 Safari/537.36'},\n",
       "  'requestId': '35028.2'},\n",
       " {'associatedCookies': [],\n",
       "  'clientSecurityState': {'initiatorIPAddressSpace': 'Local',\n",
       "   'initiatorIsSecureContext': True,\n",
       "   'privateNetworkRequestPolicy': 'PreflightWarn'},\n",
       "  'connectTiming': {'requestTime': 1974533.01505},\n",
       "  'headers': {':authority': 'cdn.jsdelivr.net',\n",
       "   ':method': 'GET',\n",
       "   ':path': '/npm/@tensorflow/tfjs-backend-wasm/dist/tf-backend-wasm.js',\n",
       "   ':scheme': 'https',\n",
       "   'accept': '*/*',\n",
       "   'accept-encoding': 'gzip, deflate, br',\n",
       "   'accept-language': 'en-GB,en-US;q=0.9,en;q=0.8',\n",
       "   'referer': 'http://localhost:8000/',\n",
       "   'sec-ch-ua': '\"Chromium\";v=\"110\", \"Not A(Brand\";v=\"24\", \"Google Chrome\";v=\"110\"',\n",
       "   'sec-ch-ua-mobile': '?0',\n",
       "   'sec-ch-ua-platform': '\"Windows\"',\n",
       "   'sec-fetch-dest': 'script',\n",
       "   'sec-fetch-mode': 'no-cors',\n",
       "   'sec-fetch-site': 'cross-site',\n",
       "   'user-agent': 'Mozilla/5.0 (Windows NT 10.0; Win64; x64) AppleWebKit/537.36 (KHTML, like Gecko) Chrome/110.0.0.0 Safari/537.36'},\n",
       "  'requestId': '35028.3'},\n",
       " {'blockedCookies': [],\n",
       "  'headers': {'accept-ranges': 'bytes',\n",
       "   'access-control-allow-origin': '*',\n",
       "   'access-control-expose-headers': '*',\n",
       "   'age': '916',\n",
       "   'alt-svc': 'h3=\":443\";ma=86400,h3-29=\":443\";ma=86400,h3-27=\":443\";ma=86400',\n",
       "   'cache-control': 'public, max-age=604800, s-maxage=43200',\n",
       "   'content-encoding': 'gzip',\n",
       "   'content-length': '325237',\n",
       "   'content-type': 'application/javascript; charset=utf-8',\n",
       "   'cross-origin-resource-policy': 'cross-origin',\n",
       "   'date': 'Wed, 01 Mar 2023 08:44:33 GMT',\n",
       "   'etag': 'W/\"13fccf-XMGs/YzMkclZb+UsOCjMw0oU3jc\"',\n",
       "   'strict-transport-security': 'max-age=31536000; includeSubDomains; preload',\n",
       "   'timing-allow-origin': '*',\n",
       "   'vary': 'Accept-Encoding',\n",
       "   'x-cache': 'HIT, HIT',\n",
       "   'x-content-type-options': 'nosniff',\n",
       "   'x-jsd-version': '4.2.0',\n",
       "   'x-jsd-version-type': 'version',\n",
       "   'x-served-by': 'cache-fra-eddf8230060-FRA, cache-bur-kbur8200054-BUR'},\n",
       "  'requestId': '35028.2',\n",
       "  'resourceIPAddressSpace': 'Public',\n",
       "  'statusCode': 200},\n",
       " {'frameId': '8A7A2C6F6A7FA7AC6615B4AF7F486248',\n",
       "  'hasExtraInfo': True,\n",
       "  'loaderId': '962AF82A2A947E22B9A9BD63A880D376',\n",
       "  'requestId': '35028.2',\n",
       "  'response': {'alternateProtocolUsage': 'unspecifiedReason',\n",
       "   'connectionId': 57,\n",
       "   'connectionReused': False,\n",
       "   'encodedDataLength': 461,\n",
       "   'fromDiskCache': False,\n",
       "   'fromPrefetchCache': False,\n",
       "   'fromServiceWorker': False,\n",
       "   'headers': {'accept-ranges': 'bytes',\n",
       "    'access-control-allow-origin': '*',\n",
       "    'access-control-expose-headers': '*',\n",
       "    'age': '916',\n",
       "    'alt-svc': 'h3=\":443\";ma=86400,h3-29=\":443\";ma=86400,h3-27=\":443\";ma=86400',\n",
       "    'cache-control': 'public, max-age=604800, s-maxage=43200',\n",
       "    'content-encoding': 'gzip',\n",
       "    'content-length': '325237',\n",
       "    'content-type': 'application/javascript; charset=utf-8',\n",
       "    'cross-origin-resource-policy': 'cross-origin',\n",
       "    'date': 'Wed, 01 Mar 2023 08:44:33 GMT',\n",
       "    'etag': 'W/\"13fccf-XMGs/YzMkclZb+UsOCjMw0oU3jc\"',\n",
       "    'strict-transport-security': 'max-age=31536000; includeSubDomains; preload',\n",
       "    'timing-allow-origin': '*',\n",
       "    'vary': 'Accept-Encoding',\n",
       "    'x-cache': 'HIT, HIT',\n",
       "    'x-content-type-options': 'nosniff',\n",
       "    'x-jsd-version': '4.2.0',\n",
       "    'x-jsd-version-type': 'version',\n",
       "    'x-served-by': 'cache-fra-eddf8230060-FRA, cache-bur-kbur8200054-BUR'},\n",
       "   'mimeType': 'application/javascript',\n",
       "   'protocol': 'h2',\n",
       "   'remoteIPAddress': '151.101.1.229',\n",
       "   'remotePort': 443,\n",
       "   'responseTime': 1677660276755.106,\n",
       "   'securityDetails': {'certificateId': 0,\n",
       "    'certificateTransparencyCompliance': 'compliant',\n",
       "    'cipher': 'AES_128_GCM',\n",
       "    'encryptedClientHello': False,\n",
       "    'issuer': 'GlobalSign Atlas R3 DV TLS CA 2022 Q4',\n",
       "    'keyExchange': '',\n",
       "    'keyExchangeGroup': 'X25519',\n",
       "    'protocol': 'TLS 1.3',\n",
       "    'sanList': ['jsdelivr.net', '*.jsdelivr.net'],\n",
       "    'serverSignatureAlgorithm': 2052,\n",
       "    'signedCertificateTimestampList': [{'hashAlgorithm': 'SHA-256',\n",
       "      'logDescription': \"Google 'Xenon2024' log\",\n",
       "      'logId': '76FF883F0AB6FB9551C261CCF587BA34B4A4CDBB29DC68420A9FE6674C5A3A74',\n",
       "      'origin': 'Embedded in certificate',\n",
       "      'signatureAlgorithm': 'ECDSA',\n",
       "      'signatureData': '304502201B1BEECDA363EA42255FE04DD0BF6976FF398D2A0080B4E3B206FE9F63FBD23D0221008B97DF108A32E43113B04411170495CA711DADF5239B0A387A762883D9D0FCC4',\n",
       "      'status': 'Verified',\n",
       "      'timestamp': 1671792914614.0},\n",
       "     {'hashAlgorithm': 'SHA-256',\n",
       "      'logDescription': \"Sectigo 'Sabre' CT log\",\n",
       "      'logId': '5581D4C2169036014AEA0B9B573C53F0C0E43878702508172FA3AA1D0713D30C',\n",
       "      'origin': 'Embedded in certificate',\n",
       "      'signatureAlgorithm': 'ECDSA',\n",
       "      'signatureData': '304602210080714616C35BA5A249315E982780DF6D4443814550498152F606C425A5B931A3022100B509D59FE3D6258141FCCC927961C98E29F3D148DEB39CD80B890D815F511E96',\n",
       "      'status': 'Verified',\n",
       "      'timestamp': 1671792914722.0},\n",
       "     {'hashAlgorithm': 'SHA-256',\n",
       "      'logDescription': \"Google 'Argon2024' log\",\n",
       "      'logId': 'EECDD064D5DB1ACEC55CB79DB4CD13A23287467CBCECDEC351485946711FB59B',\n",
       "      'origin': 'Embedded in certificate',\n",
       "      'signatureAlgorithm': 'ECDSA',\n",
       "      'signatureData': '304502200882F6476AF4A74C0DA17B9A2702387A64736DA961A6AF09FB03A707F8477054022100F46C99A8405829FFAA06C3EC33AE1D2E87AFB89D8168821549EDD6A97BBBCA7E',\n",
       "      'status': 'Verified',\n",
       "      'timestamp': 1671792914669.0}],\n",
       "    'subjectName': 'jsdelivr.net',\n",
       "    'validFrom': 1671792914,\n",
       "    'validTo': 1706093713},\n",
       "   'securityState': 'secure',\n",
       "   'status': 200,\n",
       "   'statusText': '',\n",
       "   'timing': {'connectEnd': 64.295,\n",
       "    'connectStart': 21.812,\n",
       "    'dnsEnd': 21.812,\n",
       "    'dnsStart': 0.448,\n",
       "    'proxyEnd': -1,\n",
       "    'proxyStart': -1,\n",
       "    'pushEnd': 0,\n",
       "    'pushStart': 0,\n",
       "    'receiveHeadersEnd': 83.946,\n",
       "    'requestTime': 1974533.014758,\n",
       "    'sendEnd': 64.785,\n",
       "    'sendStart': 64.599,\n",
       "    'sslEnd': 64.285,\n",
       "    'sslStart': 33.311,\n",
       "    'workerFetchStart': -1,\n",
       "    'workerReady': -1,\n",
       "    'workerRespondWithSettled': -1,\n",
       "    'workerStart': -1},\n",
       "   'url': 'https://cdn.jsdelivr.net/npm/@tensorflow/tfjs@latest'},\n",
       "  'timestamp': 1974533.114873,\n",
       "  'type': 'Script'},\n",
       " {'dataLength': 44969,\n",
       "  'encodedDataLength': 0,\n",
       "  'requestId': '35028.2',\n",
       "  'timestamp': 1974533.114968},\n",
       " {'dataLength': 47166,\n",
       "  'encodedDataLength': 32768,\n",
       "  'requestId': '35028.2',\n",
       "  'timestamp': 1974533.127218},\n",
       " {'dataLength': 53844,\n",
       "  'encodedDataLength': 16384,\n",
       "  'requestId': '35028.2',\n",
       "  'timestamp': 1974533.141054},\n",
       " {'dataLength': 52968,\n",
       "  'encodedDataLength': 16420,\n",
       "  'requestId': '35028.2',\n",
       "  'timestamp': 1974533.154681},\n",
       " {'dataLength': 67222,\n",
       "  'encodedDataLength': 16384,\n",
       "  'requestId': '35028.2',\n",
       "  'timestamp': 1974533.167108},\n",
       " {'dataLength': 59463,\n",
       "  'encodedDataLength': 16384,\n",
       "  'requestId': '35028.2',\n",
       "  'timestamp': 1974533.181203},\n",
       " {'dataLength': 63265,\n",
       "  'encodedDataLength': 16384,\n",
       "  'requestId': '35028.2',\n",
       "  'timestamp': 1974533.193489},\n",
       " {'dataLength': 65536,\n",
       "  'encodedDataLength': 16420,\n",
       "  'requestId': '35028.2',\n",
       "  'timestamp': 1974533.211223},\n",
       " {'dataLength': 3971,\n",
       "  'encodedDataLength': 0,\n",
       "  'requestId': '35028.2',\n",
       "  'timestamp': 1974533.213528},\n",
       " {'blockedCookies': [],\n",
       "  'headers': {'accept-ranges': 'bytes',\n",
       "   'access-control-allow-origin': '*',\n",
       "   'access-control-expose-headers': '*',\n",
       "   'age': '10208',\n",
       "   'alt-svc': 'h3=\":443\";ma=86400,h3-29=\":443\";ma=86400,h3-27=\":443\";ma=86400',\n",
       "   'cache-control': 'public, max-age=604800, s-maxage=43200',\n",
       "   'content-encoding': 'gzip',\n",
       "   'content-length': '55395',\n",
       "   'content-type': 'application/javascript; charset=utf-8',\n",
       "   'cross-origin-resource-policy': 'cross-origin',\n",
       "   'date': 'Wed, 01 Mar 2023 08:44:33 GMT',\n",
       "   'etag': 'W/\"5d2fb-py5jrvx8sVMxv5M6WSPT7ZOyVIw\"',\n",
       "   'strict-transport-security': 'max-age=31536000; includeSubDomains; preload',\n",
       "   'timing-allow-origin': '*',\n",
       "   'vary': 'Accept-Encoding',\n",
       "   'x-cache': 'HIT, HIT',\n",
       "   'x-content-type-options': 'nosniff',\n",
       "   'x-jsd-version': '4.2.0',\n",
       "   'x-jsd-version-type': 'version',\n",
       "   'x-served-by': 'cache-fra-eddf8230038-FRA, cache-bur-kbur8200054-BUR'},\n",
       "  'requestId': '35028.3',\n",
       "  'resourceIPAddressSpace': 'Public',\n",
       "  'statusCode': 200},\n",
       " {'dataLength': 59176,\n",
       "  'encodedDataLength': 16269,\n",
       "  'requestId': '35028.2',\n",
       "  'timestamp': 1974533.220535},\n",
       " {'dataLength': 65536,\n",
       "  'encodedDataLength': 16384,\n",
       "  'requestId': '35028.2',\n",
       "  'timestamp': 1974533.235301},\n",
       " {'dataLength': 3603,\n",
       "  'encodedDataLength': 0,\n",
       "  'requestId': '35028.2',\n",
       "  'timestamp': 1974533.237658},\n",
       " {'dataLength': 79626,\n",
       "  'encodedDataLength': 16384,\n",
       "  'requestId': '35028.2',\n",
       "  'timestamp': 1974533.250234},\n",
       " {'dataLength': 65536,\n",
       "  'encodedDataLength': 16535,\n",
       "  'requestId': '35028.2',\n",
       "  'timestamp': 1974533.264456},\n",
       " {'dataLength': 28463,\n",
       "  'encodedDataLength': 0,\n",
       "  'requestId': '35028.2',\n",
       "  'timestamp': 1974533.266788},\n",
       " {'dataLength': 77690,\n",
       "  'encodedDataLength': 16384,\n",
       "  'requestId': '35028.2',\n",
       "  'timestamp': 1974533.274113},\n",
       " {'dataLength': 56598,\n",
       "  'encodedDataLength': 16384,\n",
       "  'requestId': '35028.2',\n",
       "  'timestamp': 1974533.287128},\n",
       " {'dataLength': 60088,\n",
       "  'encodedDataLength': 16384,\n",
       "  'requestId': '35028.2',\n",
       "  'timestamp': 1974533.300158},\n",
       " {'dataLength': 76508,\n",
       "  'encodedDataLength': 16384,\n",
       "  'requestId': '35028.2',\n",
       "  'timestamp': 1974533.314385},\n",
       " {'dataLength': 209,\n",
       "  'encodedDataLength': 36,\n",
       "  'requestId': '35028.2',\n",
       "  'timestamp': 1974533.327259},\n",
       " {'frameId': '8A7A2C6F6A7FA7AC6615B4AF7F486248',\n",
       "  'hasExtraInfo': True,\n",
       "  'loaderId': '962AF82A2A947E22B9A9BD63A880D376',\n",
       "  'requestId': '35028.3',\n",
       "  'response': {'alternateProtocolUsage': 'unspecifiedReason',\n",
       "   'connectionId': 57,\n",
       "   'connectionReused': True,\n",
       "   'encodedDataLength': 115,\n",
       "   'fromDiskCache': False,\n",
       "   'fromPrefetchCache': False,\n",
       "   'fromServiceWorker': False,\n",
       "   'headers': {'accept-ranges': 'bytes',\n",
       "    'access-control-allow-origin': '*',\n",
       "    'access-control-expose-headers': '*',\n",
       "    'age': '10208',\n",
       "    'alt-svc': 'h3=\":443\";ma=86400,h3-29=\":443\";ma=86400,h3-27=\":443\";ma=86400',\n",
       "    'cache-control': 'public, max-age=604800, s-maxage=43200',\n",
       "    'content-encoding': 'gzip',\n",
       "    'content-length': '55395',\n",
       "    'content-type': 'application/javascript; charset=utf-8',\n",
       "    'cross-origin-resource-policy': 'cross-origin',\n",
       "    'date': 'Wed, 01 Mar 2023 08:44:33 GMT',\n",
       "    'etag': 'W/\"5d2fb-py5jrvx8sVMxv5M6WSPT7ZOyVIw\"',\n",
       "    'strict-transport-security': 'max-age=31536000; includeSubDomains; preload',\n",
       "    'timing-allow-origin': '*',\n",
       "    'vary': 'Accept-Encoding',\n",
       "    'x-cache': 'HIT, HIT',\n",
       "    'x-content-type-options': 'nosniff',\n",
       "    'x-jsd-version': '4.2.0',\n",
       "    'x-jsd-version-type': 'version',\n",
       "    'x-served-by': 'cache-fra-eddf8230038-FRA, cache-bur-kbur8200054-BUR'},\n",
       "   'mimeType': 'application/javascript',\n",
       "   'protocol': 'h2',\n",
       "   'remoteIPAddress': '151.101.1.229',\n",
       "   'remotePort': 443,\n",
       "   'responseTime': 1677660276874.803,\n",
       "   'securityDetails': {'certificateId': 0,\n",
       "    'certificateTransparencyCompliance': 'compliant',\n",
       "    'cipher': 'AES_128_GCM',\n",
       "    'encryptedClientHello': False,\n",
       "    'issuer': 'GlobalSign Atlas R3 DV TLS CA 2022 Q4',\n",
       "    'keyExchange': '',\n",
       "    'keyExchangeGroup': 'X25519',\n",
       "    'protocol': 'TLS 1.3',\n",
       "    'sanList': ['jsdelivr.net', '*.jsdelivr.net'],\n",
       "    'serverSignatureAlgorithm': 2052,\n",
       "    'signedCertificateTimestampList': [{'hashAlgorithm': 'SHA-256',\n",
       "      'logDescription': \"Google 'Xenon2024' log\",\n",
       "      'logId': '76FF883F0AB6FB9551C261CCF587BA34B4A4CDBB29DC68420A9FE6674C5A3A74',\n",
       "      'origin': 'Embedded in certificate',\n",
       "      'signatureAlgorithm': 'ECDSA',\n",
       "      'signatureData': '304502201B1BEECDA363EA42255FE04DD0BF6976FF398D2A0080B4E3B206FE9F63FBD23D0221008B97DF108A32E43113B04411170495CA711DADF5239B0A387A762883D9D0FCC4',\n",
       "      'status': 'Verified',\n",
       "      'timestamp': 1671792914614.0},\n",
       "     {'hashAlgorithm': 'SHA-256',\n",
       "      'logDescription': \"Sectigo 'Sabre' CT log\",\n",
       "      'logId': '5581D4C2169036014AEA0B9B573C53F0C0E43878702508172FA3AA1D0713D30C',\n",
       "      'origin': 'Embedded in certificate',\n",
       "      'signatureAlgorithm': 'ECDSA',\n",
       "      'signatureData': '304602210080714616C35BA5A249315E982780DF6D4443814550498152F606C425A5B931A3022100B509D59FE3D6258141FCCC927961C98E29F3D148DEB39CD80B890D815F511E96',\n",
       "      'status': 'Verified',\n",
       "      'timestamp': 1671792914722.0},\n",
       "     {'hashAlgorithm': 'SHA-256',\n",
       "      'logDescription': \"Google 'Argon2024' log\",\n",
       "      'logId': 'EECDD064D5DB1ACEC55CB79DB4CD13A23287467CBCECDEC351485946711FB59B',\n",
       "      'origin': 'Embedded in certificate',\n",
       "      'signatureAlgorithm': 'ECDSA',\n",
       "      'signatureData': '304502200882F6476AF4A74C0DA17B9A2702387A64736DA961A6AF09FB03A707F8477054022100F46C99A8405829FFAA06C3EC33AE1D2E87AFB89D8168821549EDD6A97BBBCA7E',\n",
       "      'status': 'Verified',\n",
       "      'timestamp': 1671792914669.0}],\n",
       "    'subjectName': 'jsdelivr.net',\n",
       "    'validFrom': 1671792914,\n",
       "    'validTo': 1706093713},\n",
       "   'securityState': 'secure',\n",
       "   'status': 200,\n",
       "   'statusText': '',\n",
       "   'timing': {'connectEnd': -1,\n",
       "    'connectStart': -1,\n",
       "    'dnsEnd': -1,\n",
       "    'dnsStart': -1,\n",
       "    'proxyEnd': -1,\n",
       "    'proxyStart': -1,\n",
       "    'pushEnd': 0,\n",
       "    'pushStart': 0,\n",
       "    'receiveHeadersEnd': 203.548,\n",
       "    'requestTime': 1974533.01505,\n",
       "    'sendEnd': 64.495,\n",
       "    'sendStart': 64.365,\n",
       "    'sslEnd': -1,\n",
       "    'sslStart': -1,\n",
       "    'workerFetchStart': -1,\n",
       "    'workerReady': -1,\n",
       "    'workerRespondWithSettled': -1,\n",
       "    'workerStart': -1},\n",
       "   'url': 'https://cdn.jsdelivr.net/npm/@tensorflow/tfjs-backend-wasm/dist/tf-backend-wasm.js'},\n",
       "  'timestamp': 1974533.327998,\n",
       "  'type': 'Script'},\n",
       " {'dataLength': 107115,\n",
       "  'encodedDataLength': 0,\n",
       "  'requestId': '35028.3',\n",
       "  'timestamp': 1974533.328069},\n",
       " {'dataLength': 65536,\n",
       "  'encodedDataLength': 32732,\n",
       "  'requestId': '35028.3',\n",
       "  'timestamp': 1974533.341079},\n",
       " {'dataLength': 88197,\n",
       "  'encodedDataLength': 0,\n",
       "  'requestId': '35028.3',\n",
       "  'timestamp': 1974533.341681},\n",
       " {'dataLength': 92277,\n",
       "  'encodedDataLength': 16384,\n",
       "  'requestId': '35028.3',\n",
       "  'timestamp': 1974533.353076},\n",
       " {'dataLength': 28566,\n",
       "  'encodedDataLength': 6315,\n",
       "  'requestId': '35028.3',\n",
       "  'timestamp': 1974533.358425},\n",
       " {'encodedDataLength': 55546,\n",
       "  'requestId': '35028.3',\n",
       "  'shouldReportCorbBlocking': False,\n",
       "  'timestamp': 1974533.357731},\n",
       " {'associatedCookies': [],\n",
       "  'clientSecurityState': {'initiatorIPAddressSpace': 'Local',\n",
       "   'initiatorIsSecureContext': True,\n",
       "   'privateNetworkRequestPolicy': 'PreflightWarn'},\n",
       "  'connectTiming': {'requestTime': 1974533.361131},\n",
       "  'headers': {'Accept': 'image/avif,image/webp,image/apng,image/svg+xml,image/*,*/*;q=0.8',\n",
       "   'Accept-Encoding': 'gzip, deflate, br',\n",
       "   'Accept-Language': 'en-GB,en-US;q=0.9,en;q=0.8',\n",
       "   'Connection': 'keep-alive',\n",
       "   'Host': 'localhost:8000',\n",
       "   'Referer': 'http://localhost:8000/',\n",
       "   'Sec-Fetch-Dest': 'image',\n",
       "   'Sec-Fetch-Mode': 'no-cors',\n",
       "   'Sec-Fetch-Site': 'same-origin',\n",
       "   'User-Agent': 'Mozilla/5.0 (Windows NT 10.0; Win64; x64) AppleWebKit/537.36 (KHTML, like Gecko) Chrome/110.0.0.0 Safari/537.36',\n",
       "   'sec-ch-ua': '\"Chromium\";v=\"110\", \"Not A(Brand\";v=\"24\", \"Google Chrome\";v=\"110\"',\n",
       "   'sec-ch-ua-mobile': '?0',\n",
       "   'sec-ch-ua-platform': '\"Windows\"'},\n",
       "  'requestId': '35028.4'},\n",
       " {'blockedCookies': [],\n",
       "  'headers': {'Content-Length': '537706',\n",
       "   'Content-type': 'image/jpeg',\n",
       "   'Date': 'Wed, 01 Mar 2023 08:44:37 GMT',\n",
       "   'Last-Modified': 'Wed, 01 Feb 2023 18:17:32 GMT',\n",
       "   'Server': 'SimpleHTTP/0.6 Python/3.8.10'},\n",
       "  'headersText': 'HTTP/1.0 200 OK\\r\\nServer: SimpleHTTP/0.6 Python/3.8.10\\r\\nDate: Wed, 01 Mar 2023 08:44:37 GMT\\r\\nContent-type: image/jpeg\\r\\nContent-Length: 537706\\r\\nLast-Modified: Wed, 01 Feb 2023 18:17:32 GMT\\r\\n\\r\\n',\n",
       "  'requestId': '35028.4',\n",
       "  'resourceIPAddressSpace': 'Local',\n",
       "  'statusCode': 200},\n",
       " {'frameId': '8A7A2C6F6A7FA7AC6615B4AF7F486248',\n",
       "  'hasExtraInfo': True,\n",
       "  'loaderId': '962AF82A2A947E22B9A9BD63A880D376',\n",
       "  'requestId': '35028.4',\n",
       "  'response': {'alternateProtocolUsage': 'unspecifiedReason',\n",
       "   'connectionId': 60,\n",
       "   'connectionReused': True,\n",
       "   'encodedDataLength': 190,\n",
       "   'fromDiskCache': False,\n",
       "   'fromPrefetchCache': False,\n",
       "   'fromServiceWorker': False,\n",
       "   'headers': {'Content-Length': '537706',\n",
       "    'Content-type': 'image/jpeg',\n",
       "    'Date': 'Wed, 01 Mar 2023 08:44:37 GMT',\n",
       "    'Last-Modified': 'Wed, 01 Feb 2023 18:17:32 GMT',\n",
       "    'Server': 'SimpleHTTP/0.6 Python/3.8.10'},\n",
       "   'mimeType': 'image/jpeg',\n",
       "   'protocol': 'http/1.0',\n",
       "   'remoteIPAddress': '127.0.0.1',\n",
       "   'remotePort': 8000,\n",
       "   'responseTime': 1677660277025.867,\n",
       "   'securityState': 'secure',\n",
       "   'status': 200,\n",
       "   'statusText': 'OK',\n",
       "   'timing': {'connectEnd': -1,\n",
       "    'connectStart': -1,\n",
       "    'dnsEnd': -1,\n",
       "    'dnsStart': -1,\n",
       "    'proxyEnd': -1,\n",
       "    'proxyStart': -1,\n",
       "    'pushEnd': 0,\n",
       "    'pushStart': 0,\n",
       "    'receiveHeadersEnd': 8.264,\n",
       "    'requestTime': 1974533.361131,\n",
       "    'sendEnd': 0.527,\n",
       "    'sendStart': 0.431,\n",
       "    'sslEnd': -1,\n",
       "    'sslStart': -1,\n",
       "    'workerFetchStart': -1,\n",
       "    'workerReady': -1,\n",
       "    'workerRespondWithSettled': -1,\n",
       "    'workerStart': -1},\n",
       "   'url': 'http://localhost:8000/test.jpg'},\n",
       "  'timestamp': 1974533.370228,\n",
       "  'type': 'Image'},\n",
       " {'dataLength': 4088,\n",
       "  'encodedDataLength': 0,\n",
       "  'requestId': '35028.4',\n",
       "  'timestamp': 1974533.370293},\n",
       " {'dataLength': 61448,\n",
       "  'encodedDataLength': 0,\n",
       "  'requestId': '35028.4',\n",
       "  'timestamp': 1974533.370502},\n",
       " {'dataLength': 57232,\n",
       "  'encodedDataLength': 0,\n",
       "  'requestId': '35028.4',\n",
       "  'timestamp': 1974533.370619},\n",
       " {'dataLength': 8304,\n",
       "  'encodedDataLength': 0,\n",
       "  'requestId': '35028.4',\n",
       "  'timestamp': 1974533.370671},\n",
       " {'dataLength': 4088,\n",
       "  'encodedDataLength': 135160,\n",
       "  'requestId': '35028.4',\n",
       "  'timestamp': 1974533.370923},\n",
       " {'dataLength': 61448,\n",
       "  'encodedDataLength': 61448,\n",
       "  'requestId': '35028.4',\n",
       "  'timestamp': 1974533.370982},\n",
       " {'dataLength': 4088,\n",
       "  'encodedDataLength': 0,\n",
       "  'requestId': '35028.4',\n",
       "  'timestamp': 1974533.371063},\n",
       " {'dataLength': 57232,\n",
       "  'encodedDataLength': 69624,\n",
       "  'requestId': '35028.4',\n",
       "  'timestamp': 1974533.371337},\n",
       " {'dataLength': 8304,\n",
       "  'encodedDataLength': 0,\n",
       "  'requestId': '35028.4',\n",
       "  'timestamp': 1974533.37142},\n",
       " {'dataLength': 53021,\n",
       "  'encodedDataLength': 53021,\n",
       "  'requestId': '35028.4',\n",
       "  'timestamp': 1974533.371973},\n",
       " {'dataLength': 65536,\n",
       "  'encodedDataLength': 65536,\n",
       "  'requestId': '35028.4',\n",
       "  'timestamp': 1974533.372713},\n",
       " {'dataLength': 65536,\n",
       "  'encodedDataLength': 65536,\n",
       "  'requestId': '35028.4',\n",
       "  'timestamp': 1974533.373035},\n",
       " {'dataLength': 73963,\n",
       "  'encodedDataLength': 65536,\n",
       "  'requestId': '35028.4',\n",
       "  'timestamp': 1974533.37337},\n",
       " {'dataLength': 63649,\n",
       "  'encodedDataLength': 16384,\n",
       "  'requestId': '35028.2',\n",
       "  'timestamp': 1974533.373618},\n",
       " {'dataLength': 13418,\n",
       "  'encodedDataLength': 21845,\n",
       "  'requestId': '35028.4',\n",
       "  'timestamp': 1974533.374568},\n",
       " {'encodedDataLength': 537896,\n",
       "  'requestId': '35028.4',\n",
       "  'shouldReportCorbBlocking': False,\n",
       "  'timestamp': 1974533.374205},\n",
       " {'dataLength': 80796,\n",
       "  'encodedDataLength': 16384,\n",
       "  'requestId': '35028.2',\n",
       "  'timestamp': 1974533.386673},\n",
       " {'dataLength': 79718,\n",
       "  'encodedDataLength': 16384,\n",
       "  'requestId': '35028.2',\n",
       "  'timestamp': 1974533.398967},\n",
       " {'dataLength': 54303,\n",
       "  'encodedDataLength': 13977,\n",
       "  'requestId': '35028.2',\n",
       "  'timestamp': 1974533.410797},\n",
       " {'encodedDataLength': 325878,\n",
       "  'requestId': '35028.2',\n",
       "  'shouldReportCorbBlocking': False,\n",
       "  'timestamp': 1974533.410497},\n",
       " {'documentURL': 'http://localhost:8000/',\n",
       "  'frameId': '8A7A2C6F6A7FA7AC6615B4AF7F486248',\n",
       "  'hasUserGesture': False,\n",
       "  'initiator': {'stack': {'callFrames': [{'columnNumber': 27,\n",
       "      'functionName': 'instantiateAsync',\n",
       "      'lineNumber': 6687,\n",
       "      'scriptId': '9',\n",
       "      'url': 'https://cdn.jsdelivr.net/npm/@tensorflow/tfjs-backend-wasm/dist/tf-backend-wasm.js'},\n",
       "     {'columnNumber': 18,\n",
       "      'functionName': 'createWasm',\n",
       "      'lineNumber': 6700,\n",
       "      'scriptId': '9',\n",
       "      'url': 'https://cdn.jsdelivr.net/npm/@tensorflow/tfjs-backend-wasm/dist/tf-backend-wasm.js'},\n",
       "     {'columnNumber': 16,\n",
       "      'functionName': '',\n",
       "      'lineNumber': 6772,\n",
       "      'scriptId': '9',\n",
       "      'url': 'https://cdn.jsdelivr.net/npm/@tensorflow/tfjs-backend-wasm/dist/tf-backend-wasm.js'},\n",
       "     {'columnNumber': 43,\n",
       "      'functionName': '',\n",
       "      'lineNumber': 7218,\n",
       "      'scriptId': '9',\n",
       "      'url': 'https://cdn.jsdelivr.net/npm/@tensorflow/tfjs-backend-wasm/dist/tf-backend-wasm.js'},\n",
       "     {'columnNumber': 46,\n",
       "      'functionName': '',\n",
       "      'lineNumber': 7165,\n",
       "      'scriptId': '9',\n",
       "      'url': 'https://cdn.jsdelivr.net/npm/@tensorflow/tfjs-backend-wasm/dist/tf-backend-wasm.js'},\n",
       "     {'columnNumber': 30,\n",
       "      'functionName': 'step',\n",
       "      'lineNumber': 149,\n",
       "      'scriptId': '9',\n",
       "      'url': 'https://cdn.jsdelivr.net/npm/@tensorflow/tfjs-backend-wasm/dist/tf-backend-wasm.js'},\n",
       "     {'columnNumber': 56,\n",
       "      'functionName': '',\n",
       "      'lineNumber': 98,\n",
       "      'scriptId': '9',\n",
       "      'url': 'https://cdn.jsdelivr.net/npm/@tensorflow/tfjs-backend-wasm/dist/tf-backend-wasm.js'},\n",
       "     {'columnNumber': 31,\n",
       "      'functionName': 'fulfilled',\n",
       "      'lineNumber': 79,\n",
       "      'scriptId': '9',\n",
       "      'url': 'https://cdn.jsdelivr.net/npm/@tensorflow/tfjs-backend-wasm/dist/tf-backend-wasm.js'}]},\n",
       "   'type': 'script'},\n",
       "  'loaderId': '962AF82A2A947E22B9A9BD63A880D376',\n",
       "  'redirectHasExtraInfo': False,\n",
       "  'request': {'headers': {'Referer': 'http://localhost:8000/',\n",
       "    'User-Agent': 'Mozilla/5.0 (Windows NT 10.0; Win64; x64) AppleWebKit/537.36 (KHTML, like Gecko) Chrome/110.0.0.0 Safari/537.36',\n",
       "    'sec-ch-ua': '\"Chromium\";v=\"110\", \"Not A(Brand\";v=\"24\", \"Google Chrome\";v=\"110\"',\n",
       "    'sec-ch-ua-mobile': '?0',\n",
       "    'sec-ch-ua-platform': '\"Windows\"'},\n",
       "   'initialPriority': 'High',\n",
       "   'isSameSite': False,\n",
       "   'method': 'GET',\n",
       "   'mixedContentType': 'none',\n",
       "   'referrerPolicy': 'strict-origin-when-cross-origin',\n",
       "   'url': 'https://cdn.jsdelivr.net/npm/@tensorflow/tfjs-backend-wasm/dist/tfjs-backend-wasm-simd.wasm'},\n",
       "  'requestId': '35028.8',\n",
       "  'timestamp': 1974533.588648,\n",
       "  'type': 'Fetch',\n",
       "  'wallTime': 1677660277.247347},\n",
       " {'timestamp': 1974533.603047},\n",
       " {'frameId': '8A7A2C6F6A7FA7AC6615B4AF7F486248'},\n",
       " {'timestamp': 1974533.603386},\n",
       " {'documentURL': 'http://localhost:8000/',\n",
       "  'frameId': '8A7A2C6F6A7FA7AC6615B4AF7F486248',\n",
       "  'hasUserGesture': False,\n",
       "  'initiator': {'type': 'other'},\n",
       "  'loaderId': '962AF82A2A947E22B9A9BD63A880D376',\n",
       "  'redirectHasExtraInfo': False,\n",
       "  'request': {'headers': {'Referer': 'http://localhost:8000/',\n",
       "    'User-Agent': 'Mozilla/5.0 (Windows NT 10.0; Win64; x64) AppleWebKit/537.36 (KHTML, like Gecko) Chrome/110.0.0.0 Safari/537.36',\n",
       "    'sec-ch-ua': '\"Chromium\";v=\"110\", \"Not A(Brand\";v=\"24\", \"Google Chrome\";v=\"110\"',\n",
       "    'sec-ch-ua-mobile': '?0',\n",
       "    'sec-ch-ua-platform': '\"Windows\"'},\n",
       "   'initialPriority': 'High',\n",
       "   'isSameSite': True,\n",
       "   'method': 'GET',\n",
       "   'mixedContentType': 'none',\n",
       "   'referrerPolicy': 'strict-origin-when-cross-origin',\n",
       "   'url': 'http://localhost:8000/favicon.ico'},\n",
       "  'requestId': '35028.9',\n",
       "  'timestamp': 1974533.607837,\n",
       "  'type': 'Other',\n",
       "  'wallTime': 1677660277.26475},\n",
       " {},\n",
       " {'associatedCookies': [],\n",
       "  'clientSecurityState': {'initiatorIPAddressSpace': 'Local',\n",
       "   'initiatorIsSecureContext': True,\n",
       "   'privateNetworkRequestPolicy': 'PreflightWarn'},\n",
       "  'connectTiming': {'requestTime': 1974533.608674},\n",
       "  'headers': {'Accept': 'image/avif,image/webp,image/apng,image/svg+xml,image/*,*/*;q=0.8',\n",
       "   'Accept-Encoding': 'gzip, deflate, br',\n",
       "   'Accept-Language': 'en-GB,en-US;q=0.9,en;q=0.8',\n",
       "   'Connection': 'keep-alive',\n",
       "   'Host': 'localhost:8000',\n",
       "   'Referer': 'http://localhost:8000/',\n",
       "   'Sec-Fetch-Dest': 'image',\n",
       "   'Sec-Fetch-Mode': 'no-cors',\n",
       "   'Sec-Fetch-Site': 'same-origin',\n",
       "   'User-Agent': 'Mozilla/5.0 (Windows NT 10.0; Win64; x64) AppleWebKit/537.36 (KHTML, like Gecko) Chrome/110.0.0.0 Safari/537.36',\n",
       "   'sec-ch-ua': '\"Chromium\";v=\"110\", \"Not A(Brand\";v=\"24\", \"Google Chrome\";v=\"110\"',\n",
       "   'sec-ch-ua-mobile': '?0',\n",
       "   'sec-ch-ua-platform': '\"Windows\"'},\n",
       "  'requestId': '35028.9'}]"
      ]
     },
     "execution_count": 186,
     "metadata": {},
     "output_type": "execute_result"
    }
   ],
   "source": [
    "perf_metrics"
   ]
  },
  {
   "cell_type": "code",
   "execution_count": 146,
   "metadata": {},
   "outputs": [
    {
     "data": {
      "text/plain": [
       "{'metrics': []}"
      ]
     },
     "execution_count": 146,
     "metadata": {},
     "output_type": "execute_result"
    }
   ],
   "source": [
    "driver.execute_cdp_cmd(\"Performance.getMetrics\",{})"
   ]
  },
  {
   "cell_type": "code",
   "execution_count": 45,
   "metadata": {},
   "outputs": [
    {
     "data": {
      "text/plain": [
       "{}"
      ]
     },
     "execution_count": 45,
     "metadata": {},
     "output_type": "execute_result"
    }
   ],
   "source": [
    "driver.execute_cdp_cmd('Performance.enable', {})"
   ]
  },
  {
   "cell_type": "code",
   "execution_count": null,
   "metadata": {},
   "outputs": [],
   "source": [
    "# devtool = driver.get"
   ]
  },
  {
   "cell_type": "code",
   "execution_count": 63,
   "metadata": {},
   "outputs": [],
   "source": []
  },
  {
   "cell_type": "code",
   "execution_count": 65,
   "metadata": {},
   "outputs": [],
   "source": [
    "for entry in driver.get_log('performance'):\n",
    "    print(entry)"
   ]
  },
  {
   "cell_type": "code",
   "execution_count": null,
   "metadata": {},
   "outputs": [],
   "source": [
    "for entry in driver.get_log('performance'):\n",
    "    print(entry)"
   ]
  },
  {
   "cell_type": "code",
   "execution_count": 53,
   "metadata": {},
   "outputs": [],
   "source": [
    "# t = driver.execute_cdp_cmd('Performance.getMetrics', {})\n",
    "# print(t)"
   ]
  },
  {
   "cell_type": "code",
   "execution_count": 54,
   "metadata": {},
   "outputs": [],
   "source": [
    "# async with driver.bidi_connection() as session:\n",
    "#     cdpSession = session.session\n",
    "#     await cdpSession.execute(devtools.emulation.set_geolocation_override(latitude=41.8781,longitude=-87.6298,accuracy=100))"
   ]
  },
  {
   "cell_type": "code",
   "execution_count": 55,
   "metadata": {},
   "outputs": [],
   "source": [
    "# devTools = devtools."
   ]
  },
  {
   "cell_type": "code",
   "execution_count": 56,
   "metadata": {},
   "outputs": [],
   "source": [
    "# devTools"
   ]
  },
  {
   "cell_type": "code",
   "execution_count": 57,
   "metadata": {},
   "outputs": [],
   "source": [
    "# driver.get(url)"
   ]
  },
  {
   "cell_type": "code",
   "execution_count": 58,
   "metadata": {},
   "outputs": [],
   "source": [
    "# timing = driver.execute_script(\"return window.performance.timing\")\n",
    "# timing"
   ]
  },
  {
   "cell_type": "code",
   "execution_count": 75,
   "metadata": {},
   "outputs": [],
   "source": [
    "driver.quit()"
   ]
  },
  {
   "cell_type": "code",
   "execution_count": null,
   "metadata": {},
   "outputs": [],
   "source": []
  }
 ],
 "metadata": {
  "kernelspec": {
   "display_name": "Python 3",
   "language": "python",
   "name": "python3"
  },
  "language_info": {
   "codemirror_mode": {
    "name": "ipython",
    "version": 3
   },
   "file_extension": ".py",
   "mimetype": "text/x-python",
   "name": "python",
   "nbconvert_exporter": "python",
   "pygments_lexer": "ipython3",
   "version": "3.9.13"
  },
  "orig_nbformat": 4,
  "vscode": {
   "interpreter": {
    "hash": "c73a920fb0836b52cecc044f51f19bce96e6dd4a5fccedecbdfe71ca4d21848a"
   }
  }
 },
 "nbformat": 4,
 "nbformat_minor": 2
}
