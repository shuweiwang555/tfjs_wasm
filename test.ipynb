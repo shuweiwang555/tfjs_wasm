{
 "cells": [
  {
   "cell_type": "code",
   "execution_count": 96,
   "metadata": {},
   "outputs": [],
   "source": [
    "from selenium import webdriver\n",
    "from selenium.webdriver.common.by import By\n",
    "from selenium.webdriver.support.ui import Select\n",
    "from selenium.common.exceptions import NoSuchElementException\n",
    "import numpy as np\n",
    "import matplotlib.pyplot as plt\n",
    "from tqdm import tqdm"
   ]
  },
  {
   "cell_type": "code",
   "execution_count": 97,
   "metadata": {},
   "outputs": [],
   "source": [
    "url = \"http://localhost:8000/tfjs_example/\"\n",
    "def edge_test(n=10, backend=\"wasm\", arguments=[]):\n",
    "    option = webdriver.EdgeOptions()\n",
    "    option.add_argument(\"headless\")\n",
    "    option.add_argument(\"--enable-javascript\")\n",
    "    option.add_argument(\"--use-gl\")\n",
    "    driver = webdriver.Edge(options = option)\n",
    "    driver.get(url)\n",
    "    data = driver.execute_script(f'return start(\"{backend}\", {n})')\n",
    "    driver.quit()\n",
    "    return data\n",
    "def chrome_test(n=10, backend=\"wasm\", arguments=[]):\n",
    "    option = webdriver.ChromeOptions()\n",
    "    option.add_argument(\"headless\")\n",
    "    option.add_argument(\"--enable-javascript\")\n",
    "    option.add_argument(\"--use-gl\")\n",
    "    driver = webdriver.Chrome(options = option)\n",
    "    driver.get(url)\n",
    "    data = driver.execute_script(f'return start(\"{backend}\", {n})')\n",
    "    driver.quit()\n",
    "    return data\n",
    "def firefox_test(n=10, backend=\"wasm\", arguments=[]):\n",
    "    option = webdriver.FirefoxOptions()\n",
    "    option.add_argument('-headless')\n",
    "    # option.add_argument(\"--enable-javascript\")\n",
    "    # option.add_argument(\"--use-gl\")\n",
    "    driver = webdriver.Firefox(options = option)\n",
    "    driver.get(url)\n",
    "    data = driver.execute_script(f'return start(\"{backend}\", {n})')\n",
    "    driver.quit()\n",
    "    return data"
   ]
  },
  {
   "cell_type": "code",
   "execution_count": 98,
   "metadata": {},
   "outputs": [
    {
     "name": "stderr",
     "output_type": "stream",
     "text": [
      "edge test: 100%|██████████| 10/10 [01:46<00:00, 10.65s/it]\n"
     ]
    }
   ],
   "source": [
    "edge_data = []\n",
    "for i in tqdm(range(10), \"edge test\"):\n",
    "    edge_data += edge_test()"
   ]
  },
  {
   "cell_type": "code",
   "execution_count": 99,
   "metadata": {},
   "outputs": [
    {
     "name": "stderr",
     "output_type": "stream",
     "text": [
      "chrome test: 100%|██████████| 10/10 [01:43<00:00, 10.40s/it]\n"
     ]
    }
   ],
   "source": [
    "chrome_data = []\n",
    "for i in tqdm(range(10), \"chrome test\"):\n",
    "    chrome_data += chrome_test()"
   ]
  },
  {
   "cell_type": "code",
   "execution_count": 100,
   "metadata": {},
   "outputs": [
    {
     "name": "stderr",
     "output_type": "stream",
     "text": [
      "firefox test: 100%|██████████| 10/10 [02:23<00:00, 14.33s/it]\n"
     ]
    }
   ],
   "source": [
    "firefox_data = []\n",
    "for i in tqdm(range(10), \"firefox test\"):\n",
    "    firefox_data += firefox_test()"
   ]
  },
  {
   "cell_type": "code",
   "execution_count": 101,
   "metadata": {},
   "outputs": [
    {
     "data": {
      "text/plain": [
       "<matplotlib.legend.Legend at 0x15a91a96700>"
      ]
     },
     "execution_count": 101,
     "metadata": {},
     "output_type": "execute_result"
    },
    {
     "data": {
      "image/png": "[encoded data removed]",
      "text/plain": [
       "<Figure size 432x288 with 1 Axes>"
      ]
     },
     "metadata": {
      "needs_background": "light"
     },
     "output_type": "display_data"
    }
   ],
   "source": [
    "plt.scatter(range(len(edge_data)), edge_data, s=15, label=\"edge\")\n",
    "plt.scatter(range(len(chrome_data)), chrome_data, s=15, label=\"chrome\")\n",
    "plt.scatter(range(len(firefox_data)), firefox_data, s=15, label=\"firefox\")\n",
    "plt.legend()"
   ]
  },
  {
   "cell_type": "code",
   "execution_count": 103,
   "metadata": {},
   "outputs": [
    {
     "data": {
      "text/plain": [
       "<matplotlib.legend.Legend at 0x15a920bef70>"
      ]
     },
     "execution_count": 103,
     "metadata": {},
     "output_type": "execute_result"
    },
    {
     "data": {
      "image/png": "[encoded data removed]",
      "text/plain": [
       "<Figure size 432x288 with 1 Axes>"
      ]
     },
     "metadata": {
      "needs_background": "light"
     },
     "output_type": "display_data"
    }
   ],
   "source": [
    "plt.hist(edge_data, alpha=.5, bins=10, label=\"edge\")\n",
    "plt.hist(chrome_data, alpha=.5, bins=10, label=\"chrome\")\n",
    "plt.hist(firefox_data, alpha=.5, bins=10, label=\"firefox\")\n",
    "plt.axvline(sum(edge_data)/len(edge_data), c=\"b\", label=\"edge_average\")\n",
    "plt.axvline(sum(chrome_data)/len(chrome_data), c=\"orange\", label=\"chrome_average\")\n",
    "plt.axvline(sum(firefox_data)/len(firefox_data), c=\"g\", label=\"firefox_average\")\n",
    "plt.legend()"
   ]
  },
  {
   "cell_type": "code",
   "execution_count": null,
   "metadata": {},
   "outputs": [],
   "source": []
  }
 ],
 "metadata": {
  "kernelspec": {
   "display_name": "Python 3",
   "language": "python",
   "name": "python3"
  },
  "language_info": {
   "codemirror_mode": {
    "name": "ipython",
    "version": 3
   },
   "file_extension": ".py",
   "mimetype": "text/x-python",
   "name": "python",
   "nbconvert_exporter": "python",
   "pygments_lexer": "ipython3",
   "version": "3.9.13"
  },
  "orig_nbformat": 4,
  "vscode": {
   "interpreter": {
    "hash": "c73a920fb0836b52cecc044f51f19bce96e6dd4a5fccedecbdfe71ca4d21848a"
   }
  }
 },
 "nbformat": 4,
 "nbformat_minor": 2
}
