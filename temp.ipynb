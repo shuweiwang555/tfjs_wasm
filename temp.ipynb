{
 "cells": [
  {
   "cell_type": "code",
   "execution_count": null,
   "metadata": {},
   "outputs": [],
   "source": [
    "import numpy as np\n",
    "import matplotlib.pyplot as plt\n",
    "from tqdm import tqdm"
   ]
  },
  {
   "cell_type": "code",
   "execution_count": null,
   "metadata": {},
   "outputs": [],
   "source": [
    "chrome_data_wasm = {'normal': [88, 85, 84, 85, 89, 86, 83, 85, 84, 83, 89, 83, 85, 86, 88, 85, 81, 84, 84, 82, 87, 83, 84, 86, 88, 85, 82, 85, 84, 82, 86, 83, 84, 86, 88, 85, 82, 83, 85, 82, 88, 92, 84, 87, 90, 85, 82, 84, 84, 83], 'eager': [88, 85, 85, 87, 88, 85, 82, 85, 85, 81, 88, 85, 86, 87, 89, 86, 83, 83, 83, 93, 87, 85, 85, 87, 92, 84, 80, 83, 83, 82, 88, 85, 85, 86, 89, 83, 81, 83, 85, 82, 88, 84, 84, 87, 87, 85, 82, 84, 84, 83]}\n",
    "chrome_data_nowasm = {'normal': [1444, 1416, 1424, 1406, 1406, 1409, 1415, 1408, 1576, 1554, 1434, 1414, 1419, 1407, 1405, 1415, 1417, 1405, 1549, 1555, 1437, 1414, 1423, 1413, 1408, 1411, 1417, 1406, 1405, 1407, 1439, 1417, 1428, 1410, 1406, 1408, 1411, 1408, 1402, 1402, 1442, 1440, 1447, 1407, 1404, 1409, 1410, 1400, 1397, 1395], 'eager': [1444, 1420, 1424, 1417, 1403, 1404, 1407, 1406, 1396, 1399, 1435, 1458, 1427, 1412, 1407, 1412, 1411, 1421, 1420, 1401, 1429, 1411, 1418, 1408, 1413, 1402, 1401, 1402, 1396, 1398, 1438, 1414, 1421, 1416, 1416, 1421, 1409, 1408, 1404, 1403, 1429, 1410, 1422, 1405, 1407, 1425, 1404, 1403, 1403, 1398]}\n",
    "firefox_data_wasm = {'normal': [101, 103, 105, 104, 103, 100, 104, 105, 101, 103, 101, 103, 104, 104, 100, 106, 105, 106, 101, 102, 120, 101, 104, 102, 102, 100, 102, 114, 97, 100, 98, 101, 102, 104, 104, 100, 99, 103, 99, 101, 101, 102, 104, 105, 104, 101, 106, 107, 102, 100], 'eager': [104, 104, 104, 104, 109, 101, 103, 106, 100, 102, 103, 102, 106, 107, 100, 99, 105, 108, 101, 105, 101, 105, 106, 105, 106, 100, 102, 106, 103, 101, 107, 103, 105, 104, 105, 102, 107, 105, 102, 102, 97, 102, 102, 104, 115, 100, 100, 103, 100, 97]}\n",
    "firefox_data_nowasm = {'normal': [1715, 1713, 1720, 1717, 1714, 1712, 1712, 1713, 1720, 1721, 1712, 1718, 1715, 1719, 1714, 1714, 1720, 1725, 1720, 1710, 1696, 1716, 1712, 1720, 1717, 1714, 1719, 1708, 1711, 1708, 1717, 1717, 1715, 1737, 1752, 1724, 1711, 1717, 1708, 1720, 1708, 1716, 1718, 1712, 1720, 1716, 1716, 1710, 1717, 1707], 'eager': [1711, 1716, 1721, 1741, 1720, 1718, 1722, 1706, 1709, 1714, 1700, 1716, 1715, 1719, 1708, 1711, 1707, 1709, 1726, 1711, 1732, 1722, 1717, 1732, 1711, 1714, 1710, 1708, 1708, 1722, 1712, 1731, 1784, 1769, 1712, 1712, 1734, 1717, 1731, 1717, 1715, 1716, 1714, 1719, 1714, 1713, 1712, 1709, 1713, 1715]}"
   ]
  },
  {
   "cell_type": "code",
   "execution_count": null,
   "metadata": {},
   "outputs": [],
   "source": [
    "plt.scatter(range(50), chrome_data_wasm['normal'], label=\"chrome_wasm\")\n",
    "plt.scatter(range(50), firefox_data_wasm['normal'], label=\"firefox_wasm\")\n",
    "plt.legend()\n",
    "plt.show()"
   ]
  },
  {
   "cell_type": "code",
<<<<<<< HEAD
   "execution_count": null,
   "metadata": {},
   "outputs": [],
=======
   "execution_count": 7,
   "metadata": {},
   "outputs": [
    {
     "data": {
      "image/png": "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",
      "text/plain": [
       "<Figure size 432x288 with 1 Axes>"
      ]
     },
     "metadata": {
      "needs_background": "light"
     },
     "output_type": "display_data"
    },
    {
     "ename": "",
     "evalue": "",
     "output_type": "error",
     "traceback": [
      "\u001b[1;31mThe Kernel crashed while executing code in the the current cell or a previous cell. Please review the code in the cell(s) to identify a possible cause of the failure. Click <a href='https://aka.ms/vscodeJupyterKernelCrash'>here</a> for more info. View Jupyter <a href='command:jupyter.viewOutput'>log</a> for further details."
     ]
    }
   ],
>>>>>>> a0a0e1933d67c3d43ed2800c93467104ea6386f7
   "source": [
    "plt.scatter(range(50), chrome_data_nowasm['normal'], label=\"chrome_nowasm\")\n",
    "plt.scatter(range(50), firefox_data_nowasm['normal'], label=\"firefox_nowasm\")\n",
    "plt.legend()\n",
    "plt.show()"
   ]
  },
  {
   "cell_type": "code",
   "execution_count": null,
   "metadata": {},
   "outputs": [],
   "source": [
    "from selenium import webdriver\n",
    "from selenium.webdriver.common.desired_capabilities import DesiredCapabilities\n",
    "import json\n",
    "\n",
    "\n",
    "def print_timeline_data(url: str):\n",
    "    caps = DesiredCapabilities.CHROME.copy()\n",
    "    caps[\"goog:loggingPrefs\"] = {\"performance\": \"ALL\"}\n",
    "\n",
    "    driver = webdriver.Chrome(desired_capabilities=caps)\n",
    "    driver.get(url)\n",
    "\n",
    "    events = [json.loads(log[\"message\"])[\"message\"] for log in driver.get_log(\"performance\")]\n",
    "    navigation_start = 0\n",
    "    load_event_end = 0\n",
    "\n",
    "    for event in events:\n",
    "        if event[\"method\"] == \"Network.requestWillBeSent\":\n",
    "            navigation_start = int(event[\"params\"][\"timestamp\"] * 1000)\n",
    "        elif event[\"method\"] == \"Page.loadEventFired\":\n",
    "            load_event_end = int(event[\"params\"][\"timestamp\"] * 1000)\n",
    "\n",
    "    print(f\"Page load time for {url}: {load_event_end - navigation_start} ms\")\n",
    "\n",
    "    driver.quit()\n",
    "\n",
    "\n",
    "if __name__ == \"__main__\":\n",
    "    url = \"https://www.google.com\"\n",
    "    print_timeline_data(url)\n"
   ]
  },
  {
   "cell_type": "code",
   "execution_count": 4,
   "metadata": {},
   "outputs": [
    {
     "ename": "AttributeError",
     "evalue": "__enter__",
     "output_type": "error",
     "traceback": [
      "\u001b[1;31m---------------------------------------------------------------------------\u001b[0m",
      "\u001b[1;31mAttributeError\u001b[0m                            Traceback (most recent call last)",
      "Cell \u001b[1;32mIn[4], line 36\u001b[0m\n\u001b[0;32m     34\u001b[0m \u001b[39mif\u001b[39;00m \u001b[39m__name__\u001b[39m \u001b[39m==\u001b[39m \u001b[39m\"\u001b[39m\u001b[39m__main__\u001b[39m\u001b[39m\"\u001b[39m:\n\u001b[0;32m     35\u001b[0m     url \u001b[39m=\u001b[39m \u001b[39m\"\u001b[39m\u001b[39mhttps://www.google.com\u001b[39m\u001b[39m\"\u001b[39m\n\u001b[1;32m---> 36\u001b[0m     profile_filename \u001b[39m=\u001b[39m generate_profile(url)\n\u001b[0;32m     37\u001b[0m     \u001b[39mprint\u001b[39m(\u001b[39mf\u001b[39m\u001b[39m\"\u001b[39m\u001b[39mPerformance profile saved to \u001b[39m\u001b[39m{\u001b[39;00mprofile_filename\u001b[39m}\u001b[39;00m\u001b[39m\"\u001b[39m)\n",
      "Cell \u001b[1;32mIn[4], line 7\u001b[0m, in \u001b[0;36mgenerate_profile\u001b[1;34m(url)\u001b[0m\n\u001b[0;32m      6\u001b[0m \u001b[39mdef\u001b[39;00m \u001b[39mgenerate_profile\u001b[39m(url: \u001b[39mstr\u001b[39m):\n\u001b[1;32m----> 7\u001b[0m     \u001b[39mwith\u001b[39;00m cri \u001b[39mas\u001b[39;00m chrome:\n\u001b[0;32m      8\u001b[0m         \u001b[39m# Create a new tab and enable the necessary domains\u001b[39;00m\n\u001b[0;32m      9\u001b[0m         tab \u001b[39m=\u001b[39m chrome\u001b[39m.\u001b[39mTarget\u001b[39m.\u001b[39mcreateTarget(url)\n\u001b[0;32m     10\u001b[0m         tab_id \u001b[39m=\u001b[39m tab[\u001b[39m\"\u001b[39m\u001b[39mtargetId\u001b[39m\u001b[39m\"\u001b[39m]\n",
      "\u001b[1;31mAttributeError\u001b[0m: __enter__"
     ]
    }
   ],
   "source": [
    "import json\n",
    "import time\n",
    "\n",
    "import ChromeController as cri\n",
    "\n",
    "def generate_profile(url: str):\n",
    "    with cri.connect() as chrome:\n",
    "        # Create a new tab and enable the necessary domains\n",
    "        tab = chrome.Target.createTarget(url)\n",
    "        tab_id = tab[\"targetId\"]\n",
    "        chrome.Runtime.enable()\n",
    "        chrome.Performance.enable()\n",
    "        chrome.Network.enable()\n",
    "\n",
    "        # Navigate to the URL and wait for the page to load\n",
    "        chrome.Page.navigate(url=url, targetId=tab_id)\n",
    "        chrome.wait_event(\"Page.loadEventFired\", timeout=10)\n",
    "\n",
    "        # Get the performance profile data\n",
    "        profile = chrome.Performance.getMetrics()\n",
    "        profile_data = json.dumps(profile, indent=2)\n",
    "\n",
    "        # Save the profile to a file\n",
    "        timestamp = int(time.time())\n",
    "        filename = f\"profile_{url}_{timestamp}.json\"\n",
    "        with open(filename, \"w\") as f:\n",
    "            f.write(profile_data)\n",
    "\n",
    "        # Close the tab and return the filename\n",
    "        chrome.Target.closeTarget(targetId=tab_id)\n",
    "        return filename\n",
    "\n",
    "\n",
    "if __name__ == \"__main__\":\n",
    "    url = \"https://www.google.com\"\n",
    "    profile_filename = generate_profile(url)\n",
    "    print(f\"Performance profile saved to {profile_filename}\")\n"
   ]
  },
  {
   "cell_type": "code",
   "execution_count": 3,
   "metadata": {},
   "outputs": [
    {
     "ename": "ModuleNotFoundError",
     "evalue": "No module named 'chrome_remote'",
     "output_type": "error",
     "traceback": [
      "\u001b[1;31m---------------------------------------------------------------------------\u001b[0m",
      "\u001b[1;31mModuleNotFoundError\u001b[0m                       Traceback (most recent call last)",
      "Cell \u001b[1;32mIn[3], line 4\u001b[0m\n\u001b[0;32m      1\u001b[0m \u001b[39mimport\u001b[39;00m \u001b[39mjson\u001b[39;00m\n\u001b[0;32m      2\u001b[0m \u001b[39mimport\u001b[39;00m \u001b[39mtime\u001b[39;00m\n\u001b[1;32m----> 4\u001b[0m \u001b[39mfrom\u001b[39;00m \u001b[39mchrome_remote\u001b[39;00m \u001b[39mimport\u001b[39;00m ChromeRemote\n\u001b[0;32m      7\u001b[0m \u001b[39mdef\u001b[39;00m \u001b[39mprint_timeline_data\u001b[39m(url: \u001b[39mstr\u001b[39m):\n\u001b[0;32m      8\u001b[0m     \u001b[39mwith\u001b[39;00m ChromeRemote() \u001b[39mas\u001b[39;00m chrome:\n",
      "\u001b[1;31mModuleNotFoundError\u001b[0m: No module named 'chrome_remote'"
     ]
    }
   ],
   "source": [
    "import json\n",
    "import time\n",
    "\n",
    "from chrome_remote import ChromeRemote\n",
    "\n",
    "\n",
    "def print_timeline_data(url: str):\n",
    "    with ChromeRemote() as chrome:\n",
    "        tab = chrome.tabs.new()\n",
    "        tab.Network.enable()\n",
    "        tab.Page.enable()\n",
    "        tab.Tracing.start(categories=[\"-*\", \"devtools.timeline\"], options={\"recordMode\": \"recordUntilFull\"})\n",
    "        tab.Page.navigate(url=url)\n",
    "        tab.wait(5)\n",
    "\n",
    "        tracing_data = tab.Tracing.stop()\n",
    "        events = json.loads(tracing_data)[\"traceEvents\"]\n",
    "\n",
    "        for event in events:\n",
    "            if event[\"name\"] == \"navigationStart\":\n",
    "                start_time = event[\"ts\"]\n",
    "            elif event[\"name\"] == \"loadEventEnd\":\n",
    "                end_time = event[\"ts\"]\n",
    "                break\n",
    "\n",
    "        print(f\"Page load time for {url}: {end_time - start_time} ms\")\n",
    "\n",
    "\n",
    "if __name__ == \"__main__\":\n",
    "    url = \"https://www.google.com\"\n",
    "    print_timeline_data(url)\n"
   ]
  }
 ],
 "metadata": {
  "kernelspec": {
   "display_name": "Python 3",
   "language": "python",
   "name": "python3"
  },
  "language_info": {
   "codemirror_mode": {
    "name": "ipython",
    "version": 3
   },
   "file_extension": ".py",
   "mimetype": "text/x-python",
   "name": "python",
   "nbconvert_exporter": "python",
   "pygments_lexer": "ipython3",
   "version": "3.9.1"
  },
  "orig_nbformat": 4,
  "vscode": {
   "interpreter": {
    "hash": "81794d4967e6c3204c66dcd87b604927b115b27c00565d3d43f05ba2f3a2cb0d"
   }
  }
 },
 "nbformat": 4,
 "nbformat_minor": 2
}
