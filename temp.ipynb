{
 "cells": [
  {
   "cell_type": "code",
   "execution_count": null,
   "metadata": {},
   "outputs": [],
   "source": [
    "import numpy as np\n",
    "import matplotlib.pyplot as plt\n",
    "from tqdm import tqdm"
   ]
  },
  {
   "cell_type": "code",
   "execution_count": null,
   "metadata": {},
   "outputs": [],
   "source": [
    "chrome_data_wasm = {'normal': [88, 85, 84, 85, 89, 86, 83, 85, 84, 83, 89, 83, 85, 86, 88, 85, 81, 84, 84, 82, 87, 83, 84, 86, 88, 85, 82, 85, 84, 82, 86, 83, 84, 86, 88, 85, 82, 83, 85, 82, 88, 92, 84, 87, 90, 85, 82, 84, 84, 83], 'eager': [88, 85, 85, 87, 88, 85, 82, 85, 85, 81, 88, 85, 86, 87, 89, 86, 83, 83, 83, 93, 87, 85, 85, 87, 92, 84, 80, 83, 83, 82, 88, 85, 85, 86, 89, 83, 81, 83, 85, 82, 88, 84, 84, 87, 87, 85, 82, 84, 84, 83]}\n",
    "chrome_data_nowasm = {'normal': [1444, 1416, 1424, 1406, 1406, 1409, 1415, 1408, 1576, 1554, 1434, 1414, 1419, 1407, 1405, 1415, 1417, 1405, 1549, 1555, 1437, 1414, 1423, 1413, 1408, 1411, 1417, 1406, 1405, 1407, 1439, 1417, 1428, 1410, 1406, 1408, 1411, 1408, 1402, 1402, 1442, 1440, 1447, 1407, 1404, 1409, 1410, 1400, 1397, 1395], 'eager': [1444, 1420, 1424, 1417, 1403, 1404, 1407, 1406, 1396, 1399, 1435, 1458, 1427, 1412, 1407, 1412, 1411, 1421, 1420, 1401, 1429, 1411, 1418, 1408, 1413, 1402, 1401, 1402, 1396, 1398, 1438, 1414, 1421, 1416, 1416, 1421, 1409, 1408, 1404, 1403, 1429, 1410, 1422, 1405, 1407, 1425, 1404, 1403, 1403, 1398]}\n",
    "firefox_data_wasm = {'normal': [101, 103, 105, 104, 103, 100, 104, 105, 101, 103, 101, 103, 104, 104, 100, 106, 105, 106, 101, 102, 120, 101, 104, 102, 102, 100, 102, 114, 97, 100, 98, 101, 102, 104, 104, 100, 99, 103, 99, 101, 101, 102, 104, 105, 104, 101, 106, 107, 102, 100], 'eager': [104, 104, 104, 104, 109, 101, 103, 106, 100, 102, 103, 102, 106, 107, 100, 99, 105, 108, 101, 105, 101, 105, 106, 105, 106, 100, 102, 106, 103, 101, 107, 103, 105, 104, 105, 102, 107, 105, 102, 102, 97, 102, 102, 104, 115, 100, 100, 103, 100, 97]}\n",
    "firefox_data_nowasm = {'normal': [1715, 1713, 1720, 1717, 1714, 1712, 1712, 1713, 1720, 1721, 1712, 1718, 1715, 1719, 1714, 1714, 1720, 1725, 1720, 1710, 1696, 1716, 1712, 1720, 1717, 1714, 1719, 1708, 1711, 1708, 1717, 1717, 1715, 1737, 1752, 1724, 1711, 1717, 1708, 1720, 1708, 1716, 1718, 1712, 1720, 1716, 1716, 1710, 1717, 1707], 'eager': [1711, 1716, 1721, 1741, 1720, 1718, 1722, 1706, 1709, 1714, 1700, 1716, 1715, 1719, 1708, 1711, 1707, 1709, 1726, 1711, 1732, 1722, 1717, 1732, 1711, 1714, 1710, 1708, 1708, 1722, 1712, 1731, 1784, 1769, 1712, 1712, 1734, 1717, 1731, 1717, 1715, 1716, 1714, 1719, 1714, 1713, 1712, 1709, 1713, 1715]}"
   ]
  },
  {
   "cell_type": "code",
   "execution_count": null,
   "metadata": {},
   "outputs": [],
   "source": [
    "plt.scatter(range(50), chrome_data_wasm['normal'], label=\"chrome_wasm\")\n",
    "plt.scatter(range(50), firefox_data_wasm['normal'], label=\"firefox_wasm\")\n",
    "plt.legend()\n",
    "plt.show()"
   ]
  },
  {
   "cell_type": "code",
   "execution_count": null,
   "metadata": {},
   "outputs": [],
   "source": [
    "plt.scatter(range(50), chrome_data_nowasm['normal'], label=\"chrome_nowasm\")\n",
    "plt.scatter(range(50), firefox_data_nowasm['normal'], label=\"firefox_nowasm\")\n",
    "plt.legend()\n",
    "plt.show()"
   ]
  },
  {
   "cell_type": "code",
   "execution_count": null,
   "metadata": {},
   "outputs": [],
   "source": [
    "from selenium import webdriver\n",
    "from selenium.webdriver.common.desired_capabilities import DesiredCapabilities\n",
    "import json\n",
    "\n",
    "\n",
    "def print_timeline_data(url: str):\n",
    "    caps = DesiredCapabilities.CHROME.copy()\n",
    "    caps[\"goog:loggingPrefs\"] = {\"performance\": \"ALL\"}\n",
    "\n",
    "    driver = webdriver.Chrome(desired_capabilities=caps)\n",
    "    driver.get(url)\n",
    "\n",
    "    events = [json.loads(log[\"message\"])[\"message\"] for log in driver.get_log(\"performance\")]\n",
    "    navigation_start = 0\n",
    "    load_event_end = 0\n",
    "\n",
    "    for event in events:\n",
    "        if event[\"method\"] == \"Network.requestWillBeSent\":\n",
    "            navigation_start = int(event[\"params\"][\"timestamp\"] * 1000)\n",
    "        elif event[\"method\"] == \"Page.loadEventFired\":\n",
    "            load_event_end = int(event[\"params\"][\"timestamp\"] * 1000)\n",
    "\n",
    "    print(f\"Page load time for {url}: {load_event_end - navigation_start} ms\")\n",
    "\n",
    "    driver.quit()\n",
    "\n",
    "\n",
    "if __name__ == \"__main__\":\n",
    "    url = \"https://www.google.com\"\n",
    "    print_timeline_data(url)\n"
   ]
  },
  {
   "cell_type": "code",
   "execution_count": 4,
   "metadata": {},
   "outputs": [
    {
     "ename": "AttributeError",
     "evalue": "__enter__",
     "output_type": "error",
     "traceback": [
      "\u001b[1;31m---------------------------------------------------------------------------\u001b[0m",
      "\u001b[1;31mAttributeError\u001b[0m                            Traceback (most recent call last)",
      "Cell \u001b[1;32mIn[4], line 36\u001b[0m\n\u001b[0;32m     34\u001b[0m \u001b[39mif\u001b[39;00m \u001b[39m__name__\u001b[39m \u001b[39m==\u001b[39m \u001b[39m\"\u001b[39m\u001b[39m__main__\u001b[39m\u001b[39m\"\u001b[39m:\n\u001b[0;32m     35\u001b[0m     url \u001b[39m=\u001b[39m \u001b[39m\"\u001b[39m\u001b[39mhttps://www.google.com\u001b[39m\u001b[39m\"\u001b[39m\n\u001b[1;32m---> 36\u001b[0m     profile_filename \u001b[39m=\u001b[39m generate_profile(url)\n\u001b[0;32m     37\u001b[0m     \u001b[39mprint\u001b[39m(\u001b[39mf\u001b[39m\u001b[39m\"\u001b[39m\u001b[39mPerformance profile saved to \u001b[39m\u001b[39m{\u001b[39;00mprofile_filename\u001b[39m}\u001b[39;00m\u001b[39m\"\u001b[39m)\n",
      "Cell \u001b[1;32mIn[4], line 7\u001b[0m, in \u001b[0;36mgenerate_profile\u001b[1;34m(url)\u001b[0m\n\u001b[0;32m      6\u001b[0m \u001b[39mdef\u001b[39;00m \u001b[39mgenerate_profile\u001b[39m(url: \u001b[39mstr\u001b[39m):\n\u001b[1;32m----> 7\u001b[0m     \u001b[39mwith\u001b[39;00m cri \u001b[39mas\u001b[39;00m chrome:\n\u001b[0;32m      8\u001b[0m         \u001b[39m# Create a new tab and enable the necessary domains\u001b[39;00m\n\u001b[0;32m      9\u001b[0m         tab \u001b[39m=\u001b[39m chrome\u001b[39m.\u001b[39mTarget\u001b[39m.\u001b[39mcreateTarget(url)\n\u001b[0;32m     10\u001b[0m         tab_id \u001b[39m=\u001b[39m tab[\u001b[39m\"\u001b[39m\u001b[39mtargetId\u001b[39m\u001b[39m\"\u001b[39m]\n",
      "\u001b[1;31mAttributeError\u001b[0m: __enter__"
     ]
    }
   ],
   "source": [
    "import json\n",
    "import time\n",
    "\n",
    "import ChromeController as cri\n",
    "\n",
    "def generate_profile(url: str):\n",
    "    with cri.connect() as chrome:\n",
    "        # Create a new tab and enable the necessary domains\n",
    "        tab = chrome.Target.createTarget(url)\n",
    "        tab_id = tab[\"targetId\"]\n",
    "        chrome.Runtime.enable()\n",
    "        chrome.Performance.enable()\n",
    "        chrome.Network.enable()\n",
    "\n",
    "        # Navigate to the URL and wait for the page to load\n",
    "        chrome.Page.navigate(url=url, targetId=tab_id)\n",
    "        chrome.wait_event(\"Page.loadEventFired\", timeout=10)\n",
    "\n",
    "        # Get the performance profile data\n",
    "        profile = chrome.Performance.getMetrics()\n",
    "        profile_data = json.dumps(profile, indent=2)\n",
    "\n",
    "        # Save the profile to a file\n",
    "        timestamp = int(time.time())\n",
    "        filename = f\"profile_{url}_{timestamp}.json\"\n",
    "        with open(filename, \"w\") as f:\n",
    "            f.write(profile_data)\n",
    "\n",
    "        # Close the tab and return the filename\n",
    "        chrome.Target.closeTarget(targetId=tab_id)\n",
    "        return filename\n",
    "\n",
    "\n",
    "if __name__ == \"__main__\":\n",
    "    url = \"https://www.google.com\"\n",
    "    profile_filename = generate_profile(url)\n",
    "    print(f\"Performance profile saved to {profile_filename}\")\n"
   ]
  },
  {
   "cell_type": "code",
   "execution_count": 3,
   "metadata": {},
   "outputs": [
    {
     "ename": "ModuleNotFoundError",
     "evalue": "No module named 'chrome_remote'",
     "output_type": "error",
     "traceback": [
      "\u001b[1;31m---------------------------------------------------------------------------\u001b[0m",
      "\u001b[1;31mModuleNotFoundError\u001b[0m                       Traceback (most recent call last)",
      "Cell \u001b[1;32mIn[3], line 4\u001b[0m\n\u001b[0;32m      1\u001b[0m \u001b[39mimport\u001b[39;00m \u001b[39mjson\u001b[39;00m\n\u001b[0;32m      2\u001b[0m \u001b[39mimport\u001b[39;00m \u001b[39mtime\u001b[39;00m\n\u001b[1;32m----> 4\u001b[0m \u001b[39mfrom\u001b[39;00m \u001b[39mchrome_remote\u001b[39;00m \u001b[39mimport\u001b[39;00m ChromeRemote\n\u001b[0;32m      7\u001b[0m \u001b[39mdef\u001b[39;00m \u001b[39mprint_timeline_data\u001b[39m(url: \u001b[39mstr\u001b[39m):\n\u001b[0;32m      8\u001b[0m     \u001b[39mwith\u001b[39;00m ChromeRemote() \u001b[39mas\u001b[39;00m chrome:\n",
      "\u001b[1;31mModuleNotFoundError\u001b[0m: No module named 'chrome_remote'"
     ]
    }
   ],
   "source": [
    "import json\n",
    "import time\n",
    "\n",
    "from chrome_remote import ChromeRemote\n",
    "\n",
    "\n",
    "def print_timeline_data(url: str):\n",
    "    with ChromeRemote() as chrome:\n",
    "        tab = chrome.tabs.new()\n",
    "        tab.Network.enable()\n",
    "        tab.Page.enable()\n",
    "        tab.Tracing.start(categories=[\"-*\", \"devtools.timeline\"], options={\"recordMode\": \"recordUntilFull\"})\n",
    "        tab.Page.navigate(url=url)\n",
    "        tab.wait(5)\n",
    "\n",
    "        tracing_data = tab.Tracing.stop()\n",
    "        events = json.loads(tracing_data)[\"traceEvents\"]\n",
    "\n",
    "        for event in events:\n",
    "            if event[\"name\"] == \"navigationStart\":\n",
    "                start_time = event[\"ts\"]\n",
    "            elif event[\"name\"] == \"loadEventEnd\":\n",
    "                end_time = event[\"ts\"]\n",
    "                break\n",
    "\n",
    "        print(f\"Page load time for {url}: {end_time - start_time} ms\")\n",
    "\n",
    "\n",
    "if __name__ == \"__main__\":\n",
    "    url = \"https://www.google.com\"\n",
    "    print_timeline_data(url)\n"
   ]
  }
 ],
 "metadata": {
  "kernelspec": {
   "display_name": "Python 3",
   "language": "python",
   "name": "python3"
  },
  "language_info": {
   "codemirror_mode": {
    "name": "ipython",
    "version": 3
   },
   "file_extension": ".py",
   "mimetype": "text/x-python",
   "name": "python",
   "nbconvert_exporter": "python",
   "pygments_lexer": "ipython3",
   "version": "3.9.1"
  },
  "orig_nbformat": 4,
  "vscode": {
   "interpreter": {
    "hash": "81794d4967e6c3204c66dcd87b604927b115b27c00565d3d43f05ba2f3a2cb0d"
   }
  }
 },
 "nbformat": 4,
 "nbformat_minor": 2
}
